{
 "cells": [
  {
   "cell_type": "markdown",
   "id": "b9434379",
   "metadata": {},
   "source": [
    "## Integers, Float, Strings"
   ]
  },
  {
   "cell_type": "code",
   "execution_count": 6,
   "id": "cb747c4c",
   "metadata": {
    "ExecuteTime": {
     "end_time": "2021-10-25T12:49:38.777741Z",
     "start_time": "2021-10-25T12:49:38.772658Z"
    }
   },
   "outputs": [
    {
     "name": "stdout",
     "output_type": "stream",
     "text": [
      "Assalamu'alaikum\n"
     ]
    }
   ],
   "source": [
    "A = 1\n",
    "type(A)\n",
    "\n",
    "B = \"2.3\"\n",
    "type(B)\n",
    "\n",
    "A = 'Assalamu\\'alaikum'\n",
    "print(A)\n",
    "\n",
    "ABC = 100"
   ]
  },
  {
   "cell_type": "markdown",
   "id": "7c020d76",
   "metadata": {},
   "source": [
    "## Boolean"
   ]
  },
  {
   "cell_type": "code",
   "execution_count": 7,
   "id": "4e03dc1b",
   "metadata": {
    "ExecuteTime": {
     "end_time": "2021-10-25T12:49:41.564535Z",
     "start_time": "2021-10-25T12:49:41.552469Z"
    }
   },
   "outputs": [
    {
     "data": {
      "text/plain": [
       "bool"
      ]
     },
     "execution_count": 7,
     "metadata": {},
     "output_type": "execute_result"
    }
   ],
   "source": [
    "A = \"20\"\n",
    "B = 30\n",
    "\n",
    "C = False\n",
    "type(C)"
   ]
  },
  {
   "cell_type": "markdown",
   "id": "dfe54aba",
   "metadata": {},
   "source": [
    "## Variable Multiple Assignment"
   ]
  },
  {
   "cell_type": "code",
   "execution_count": 14,
   "id": "f5ad3012",
   "metadata": {
    "ExecuteTime": {
     "end_time": "2021-10-25T12:51:43.761981Z",
     "start_time": "2021-10-25T12:51:43.746725Z"
    }
   },
   "outputs": [],
   "source": [
    "a, b = 10, 5"
   ]
  },
  {
   "cell_type": "markdown",
   "id": "dea9d651",
   "metadata": {},
   "source": [
    "## Displaying Output of Multiple Variable at Once"
   ]
  },
  {
   "cell_type": "code",
   "execution_count": 25,
   "id": "4965c290",
   "metadata": {
    "ExecuteTime": {
     "end_time": "2021-10-25T12:54:35.630824Z",
     "start_time": "2021-10-25T12:54:35.617599Z"
    }
   },
   "outputs": [
    {
     "name": "stdout",
     "output_type": "stream",
     "text": [
      "Hacktiv8 54 True\n"
     ]
    }
   ],
   "source": [
    "name = \"Hacktiv8\"\n",
    "age = 54\n",
    "has_laptops = True\n",
    "print(name, age, has_laptops)"
   ]
  },
  {
   "cell_type": "markdown",
   "id": "0bafa509",
   "metadata": {},
   "source": [
    "## Method of Variable Name"
   ]
  },
  {
   "cell_type": "code",
   "execution_count": null,
   "id": "ba9951e8",
   "metadata": {},
   "outputs": [],
   "source": [
    "hasLaptop --> Camel Case\n",
    "HasLaptop --> Pascal Case\n",
    "has_latops --> Snake Case"
   ]
  },
  {
   "cell_type": "markdown",
   "id": "1194124c",
   "metadata": {},
   "source": [
    "## Math Operators"
   ]
  },
  {
   "cell_type": "code",
   "execution_count": 170,
   "id": "e180a172",
   "metadata": {
    "ExecuteTime": {
     "end_time": "2021-10-25T14:09:40.561458Z",
     "start_time": "2021-10-25T14:09:40.552474Z"
    }
   },
   "outputs": [
    {
     "name": "stdout",
     "output_type": "stream",
     "text": [
      "13\n",
      "7\n",
      "30\n",
      "3.3333333333333335\n",
      "1\n",
      "1000\n",
      "1000\n"
     ]
    }
   ],
   "source": [
    "print(10+3) # penjumlahan\n",
    "print(10-3) # pengurangan\n",
    "print(10*3) # kali\n",
    "print(10/3) # bagi\n",
    "print(10%3) # sisa bagi\n",
    "print(10**3) # pangkat\n",
    "print(10*10*10)"
   ]
  },
  {
   "cell_type": "markdown",
   "id": "ce7ed9dc",
   "metadata": {},
   "source": [
    "## Expressions / Comparisons"
   ]
  },
  {
   "cell_type": "code",
   "execution_count": 35,
   "id": "6d29669f",
   "metadata": {
    "ExecuteTime": {
     "end_time": "2021-10-25T13:00:10.298590Z",
     "start_time": "2021-10-25T13:00:10.277087Z"
    }
   },
   "outputs": [
    {
     "data": {
      "text/plain": [
       "True"
      ]
     },
     "execution_count": 35,
     "metadata": {},
     "output_type": "execute_result"
    }
   ],
   "source": [
    "==  # equals\n",
    "!= # inequals\n",
    "<= # lower than or equals\n",
    ">= # greater than or equals\n",
    "> # greater\n",
    "< # lower"
   ]
  },
  {
   "cell_type": "markdown",
   "id": "1c8d12eb",
   "metadata": {},
   "source": [
    "## String Manipulations\n",
    "Using operators on strings."
   ]
  },
  {
   "cell_type": "code",
   "execution_count": 39,
   "id": "8bebe115",
   "metadata": {
    "ExecuteTime": {
     "end_time": "2021-10-25T13:05:15.923396Z",
     "start_time": "2021-10-25T13:05:15.916841Z"
    }
   },
   "outputs": [
    {
     "data": {
      "text/plain": [
       "'YouMeMeMeMe'"
      ]
     },
     "execution_count": 39,
     "metadata": {},
     "output_type": "execute_result"
    }
   ],
   "source": [
    "a = \"You\"\n",
    "b = \"Me\"\n",
    "\n",
    "a + b + (b*3)"
   ]
  },
  {
   "cell_type": "code",
   "execution_count": 44,
   "id": "6fb89091",
   "metadata": {
    "ExecuteTime": {
     "end_time": "2021-10-25T13:07:34.171949Z",
     "start_time": "2021-10-25T13:07:34.162969Z"
    }
   },
   "outputs": [],
   "source": [
    "var = \"Fachrul Kurniansyah\""
   ]
  },
  {
   "cell_type": "markdown",
   "id": "40bb0176",
   "metadata": {},
   "source": [
    "Built-in functions on strings."
   ]
  },
  {
   "cell_type": "code",
   "execution_count": 45,
   "id": "56866c23",
   "metadata": {
    "ExecuteTime": {
     "end_time": "2021-10-25T13:08:23.479317Z",
     "start_time": "2021-10-25T13:08:23.472191Z"
    }
   },
   "outputs": [
    {
     "name": "stdout",
     "output_type": "stream",
     "text": [
      "fachrul kurniansyah\n",
      "FACHRUL KURNIANSYAH\n",
      "Fachrul kurniansyah\n"
     ]
    }
   ],
   "source": [
    "print(var.lower())\n",
    "print(var.upper())\n",
    "print(var.capitalize())"
   ]
  },
  {
   "cell_type": "markdown",
   "id": "6f39cb95",
   "metadata": {},
   "source": [
    "## Lists"
   ]
  },
  {
   "cell_type": "code",
   "execution_count": 56,
   "id": "280785ed",
   "metadata": {
    "ExecuteTime": {
     "end_time": "2021-10-25T13:13:02.692740Z",
     "start_time": "2021-10-25T13:13:02.681484Z"
    }
   },
   "outputs": [
    {
     "name": "stdout",
     "output_type": "stream",
     "text": [
      "['A', 'B', 'C']\n"
     ]
    }
   ],
   "source": [
    "var = ['A', 'B', 'C']\n",
    "print(var)"
   ]
  },
  {
   "cell_type": "code",
   "execution_count": 74,
   "id": "74d58cf8",
   "metadata": {
    "ExecuteTime": {
     "end_time": "2021-10-25T13:16:36.892274Z",
     "start_time": "2021-10-25T13:16:36.881790Z"
    }
   },
   "outputs": [],
   "source": [
    "var = [['A',['B']], ['C'], ['D','E']]"
   ]
  },
  {
   "cell_type": "code",
   "execution_count": 96,
   "id": "68a48cb5",
   "metadata": {
    "ExecuteTime": {
     "end_time": "2021-10-25T13:22:59.952244Z",
     "start_time": "2021-10-25T13:22:59.946297Z"
    }
   },
   "outputs": [],
   "source": [
    "a = [1, 2, 3, 5, 10]\n",
    "b = [1, 2, 3]"
   ]
  },
  {
   "cell_type": "code",
   "execution_count": 99,
   "id": "200ca190",
   "metadata": {
    "ExecuteTime": {
     "end_time": "2021-10-25T13:23:40.600024Z",
     "start_time": "2021-10-25T13:23:40.583856Z"
    }
   },
   "outputs": [],
   "source": [
    "b = a[1:3]"
   ]
  },
  {
   "cell_type": "code",
   "execution_count": 104,
   "id": "e710f81e",
   "metadata": {
    "ExecuteTime": {
     "end_time": "2021-10-25T13:24:21.888755Z",
     "start_time": "2021-10-25T13:24:21.876891Z"
    }
   },
   "outputs": [
    {
     "name": "stdout",
     "output_type": "stream",
     "text": [
      "1\n",
      "10\n",
      "[2, 3]\n"
     ]
    }
   ],
   "source": [
    "print(a[0])\n",
    "print(a[-1])\n",
    "print(a[1:3])"
   ]
  },
  {
   "cell_type": "code",
   "execution_count": 80,
   "id": "48e9d316",
   "metadata": {
    "ExecuteTime": {
     "end_time": "2021-10-25T13:17:35.271216Z",
     "start_time": "2021-10-25T13:17:35.259106Z"
    }
   },
   "outputs": [
    {
     "data": {
      "text/plain": [
       "[1, 'A', 2.45, True]"
      ]
     },
     "execution_count": 80,
     "metadata": {},
     "output_type": "execute_result"
    }
   ],
   "source": [
    "var = [1, 'A', 2.45, True]\n",
    "vara"
   ]
  },
  {
   "cell_type": "code",
   "execution_count": 121,
   "id": "8a93f211",
   "metadata": {
    "ExecuteTime": {
     "end_time": "2021-10-25T13:29:43.625897Z",
     "start_time": "2021-10-25T13:29:43.616348Z"
    }
   },
   "outputs": [],
   "source": [
    "a = [1, 5, 10, 20, 10]"
   ]
  },
  {
   "cell_type": "code",
   "execution_count": 123,
   "id": "4ed79b61",
   "metadata": {
    "ExecuteTime": {
     "end_time": "2021-10-25T13:29:59.523773Z",
     "start_time": "2021-10-25T13:29:59.509907Z"
    }
   },
   "outputs": [
    {
     "data": {
      "text/plain": [
       "[1, 5, 10, 20, 10]"
      ]
     },
     "execution_count": 123,
     "metadata": {},
     "output_type": "execute_result"
    }
   ],
   "source": [
    "a"
   ]
  },
  {
   "cell_type": "code",
   "execution_count": 124,
   "id": "25d35377",
   "metadata": {
    "ExecuteTime": {
     "end_time": "2021-10-25T13:30:12.830850Z",
     "start_time": "2021-10-25T13:30:12.816911Z"
    }
   },
   "outputs": [
    {
     "data": {
      "text/plain": [
       "[5, 10, 20]"
      ]
     },
     "execution_count": 124,
     "metadata": {},
     "output_type": "execute_result"
    }
   ],
   "source": [
    "a[1:4]"
   ]
  },
  {
   "cell_type": "code",
   "execution_count": 125,
   "id": "03a0b5bf",
   "metadata": {
    "ExecuteTime": {
     "end_time": "2021-10-25T13:30:21.892765Z",
     "start_time": "2021-10-25T13:30:21.886786Z"
    }
   },
   "outputs": [],
   "source": [
    "a[1:4] = [1, 2, 3]"
   ]
  },
  {
   "cell_type": "code",
   "execution_count": 126,
   "id": "6e01d738",
   "metadata": {
    "ExecuteTime": {
     "end_time": "2021-10-25T13:30:26.545698Z",
     "start_time": "2021-10-25T13:30:26.529518Z"
    }
   },
   "outputs": [
    {
     "name": "stdout",
     "output_type": "stream",
     "text": [
      "[1, 1, 2, 3, 10]\n"
     ]
    }
   ],
   "source": [
    "print(a)"
   ]
  },
  {
   "cell_type": "code",
   "execution_count": 127,
   "id": "ff33e0eb",
   "metadata": {
    "ExecuteTime": {
     "end_time": "2021-10-25T13:30:40.551428Z",
     "start_time": "2021-10-25T13:30:40.544926Z"
    }
   },
   "outputs": [
    {
     "name": "stdout",
     "output_type": "stream",
     "text": [
      "[1, 99, 99, 10]\n"
     ]
    }
   ],
   "source": [
    "a[1:4] = [99, 99]\n",
    "print(a)"
   ]
  },
  {
   "cell_type": "code",
   "execution_count": null,
   "id": "25298a52",
   "metadata": {},
   "outputs": [],
   "source": []
  },
  {
   "cell_type": "markdown",
   "id": "f8e61dbf",
   "metadata": {},
   "source": [
    "## Tuples"
   ]
  },
  {
   "cell_type": "code",
   "execution_count": 152,
   "id": "37a7c314",
   "metadata": {
    "ExecuteTime": {
     "end_time": "2021-10-25T13:45:55.177669Z",
     "start_time": "2021-10-25T13:45:55.168422Z"
    }
   },
   "outputs": [
    {
     "name": "stdout",
     "output_type": "stream",
     "text": [
      "(1, 3, 5)\n",
      "3\n",
      "5\n",
      "<class 'tuple'>\n"
     ]
    }
   ],
   "source": [
    "var = (1, 3, 5)\n",
    "print(var)\n",
    "\n",
    "print(var[1])\n",
    "print(var[-1])\n",
    "print(type(var))"
   ]
  },
  {
   "cell_type": "code",
   "execution_count": 132,
   "id": "73c77ccc",
   "metadata": {
    "ExecuteTime": {
     "end_time": "2021-10-25T13:35:05.998424Z",
     "start_time": "2021-10-25T13:35:05.980903Z"
    }
   },
   "outputs": [],
   "source": [
    "(a, b, c, d) = (1, 2, 3, 4)"
   ]
  },
  {
   "cell_type": "code",
   "execution_count": 134,
   "id": "55a81953",
   "metadata": {
    "ExecuteTime": {
     "end_time": "2021-10-25T13:35:10.675738Z",
     "start_time": "2021-10-25T13:35:10.655325Z"
    }
   },
   "outputs": [
    {
     "data": {
      "text/plain": [
       "2"
      ]
     },
     "execution_count": 134,
     "metadata": {},
     "output_type": "execute_result"
    }
   ],
   "source": [
    "var = ['Susi', 'Bambang', 'Anon']\n",
    "var = ('Sukses', 'Gagal')"
   ]
  },
  {
   "cell_type": "markdown",
   "id": "e860a9f6",
   "metadata": {},
   "source": [
    "## Dictionary"
   ]
  },
  {
   "cell_type": "code",
   "execution_count": null,
   "id": "23fb01dc",
   "metadata": {},
   "outputs": [],
   "source": [
    "eye mata\n",
    "sun matahari"
   ]
  },
  {
   "cell_type": "code",
   "execution_count": 151,
   "id": "67971680",
   "metadata": {
    "ExecuteTime": {
     "end_time": "2021-10-25T13:45:40.440122Z",
     "start_time": "2021-10-25T13:45:40.421534Z"
    }
   },
   "outputs": [
    {
     "name": "stdout",
     "output_type": "stream",
     "text": [
      "{'eye': 'mata', 'sun': 'matahari'}\n",
      "mata\n",
      "\n",
      "{'eye': 'mata', 'sun': 'matahari', 'chicken': 'ayam'}\n",
      "{'eye': 'mata', 'sun': 'matahari', 'chicken': 'ayam', 'cat': 'kucing'}\n",
      "{'eye': 'mata', 'sun': 'matahari', 'chicken': 'ayam kampung', 'cat': 'kucing'}\n",
      "{'eye': 'mata', 'sun': 'matahari', 'chicken': 'ayam kampung', 'cat': 'kucing rumah'}\n",
      "\n",
      "{'eye': 'mata', 'chicken': 'ayam kampung', 'cat': 'kucing rumah'}\n",
      "<class 'dict'>\n"
     ]
    }
   ],
   "source": [
    "a = {\"eye\": \"mata\",\n",
    "     \"sun\": \"matahari\"}\n",
    "print(a)\n",
    "print(a['eye'])\n",
    "\n",
    "print()\n",
    "\n",
    "a['chicken'] = 'ayam'\n",
    "print(a)\n",
    "\n",
    "a.update({'cat': 'kucing'})\n",
    "print(a)\n",
    "\n",
    "a['chicken'] = 'ayam kampung'\n",
    "print(a)\n",
    "\n",
    "a.update({'cat': 'kucing rumah'})\n",
    "print(a)\n",
    "\n",
    "print()\n",
    "del a['sun']\n",
    "print(a)\n",
    "print(type(a))"
   ]
  },
  {
   "cell_type": "code",
   "execution_count": 156,
   "id": "0d7cdc91",
   "metadata": {
    "ExecuteTime": {
     "end_time": "2021-10-25T13:47:50.579120Z",
     "start_time": "2021-10-25T13:47:50.559490Z"
    }
   },
   "outputs": [
    {
     "name": "stdout",
     "output_type": "stream",
     "text": [
      "<class 'dict'>\n",
      "{'name': 'Hack', 'age': 28, 'pets': {'dog': 'Fido', 'cat': 'Sox'}}\n",
      "Fido\n"
     ]
    }
   ],
   "source": [
    "person = {}\n",
    "print(type(person))\n",
    "\n",
    "person['name'] = 'Hack'\n",
    "person['age'] = 28\n",
    "person['pets'] = {'dog': 'Fido', 'cat': 'Sox'}\n",
    "print(person)\n",
    "\n",
    "print(person['pets']['dog'])"
   ]
  },
  {
   "cell_type": "code",
   "execution_count": 157,
   "id": "190e5f83",
   "metadata": {
    "ExecuteTime": {
     "end_time": "2021-10-25T13:48:39.242596Z",
     "start_time": "2021-10-25T13:48:39.235053Z"
    }
   },
   "outputs": [
    {
     "data": {
      "text/plain": [
       "{'NAMA': ['KOKO', 'AMBARI']}"
      ]
     },
     "execution_count": 157,
     "metadata": {},
     "output_type": "execute_result"
    }
   ],
   "source": [
    "{'NAMA': ['KOKO', 'AMBARI']}"
   ]
  },
  {
   "cell_type": "code",
   "execution_count": 160,
   "id": "d485fbf7",
   "metadata": {
    "ExecuteTime": {
     "end_time": "2021-10-25T13:52:02.870268Z",
     "start_time": "2021-10-25T13:52:02.859300Z"
    }
   },
   "outputs": [
    {
     "name": "stdout",
     "output_type": "stream",
     "text": [
      "dict_items([('name', 'Hack'), ('age', 28), ('pets', {'dog': 'Fido', 'cat': 'Sox'})])\n",
      "\n",
      "dict_keys(['name', 'age', 'pets'])\n",
      "\n",
      "dict_values(['Hack', 28, {'dog': 'Fido', 'cat': 'Sox'}])\n",
      "\n"
     ]
    }
   ],
   "source": [
    "print(person.items())\n",
    "print()\n",
    "print(person.keys())\n",
    "print()\n",
    "print(person.values())\n",
    "print()"
   ]
  },
  {
   "cell_type": "markdown",
   "id": "a1f98197",
   "metadata": {},
   "source": [
    "## Line Continuations"
   ]
  },
  {
   "cell_type": "code",
   "execution_count": 169,
   "id": "b94ffc43",
   "metadata": {
    "ExecuteTime": {
     "end_time": "2021-10-25T13:57:40.085889Z",
     "start_time": "2021-10-25T13:57:40.068911Z"
    }
   },
   "outputs": [
    {
     "name": "stdout",
     "output_type": "stream",
     "text": [
      "True\n",
      "\n",
      "True\n",
      "\n",
      "True\n",
      "Penjelasan Lengkap Tentang Paragraf |QuBisahttps://www.qubisa.com › article › pengertian-paragraf22 Feb 2021 — Paragraf adalah bagian bab dalam suatu karangan,yang biasanya mengandung satu ide pokok dan penulisannya dimulaidengan garis baru.\n"
     ]
    }
   ],
   "source": [
    "p1_age = 42\n",
    "p2_age = 89\n",
    "p3_age = 12\n",
    "\n",
    "work = (p1_age >= 18 and p1_age <=65) or (p2_age >= 18 and p2_age <=65) or (p3_age >= 18 and p3_age <=65)\n",
    "print(work)\n",
    "print()\n",
    "\n",
    "work = ((p1_age >= 18 and p1_age <=65) or \n",
    "        (p2_age >= 18 and p2_age <=65) or \n",
    "        (p3_age >= 18 and p3_age <=65))\n",
    "print(work)\n",
    "print()\n",
    "\n",
    "work = (p1_age >= 18 and p1_age <=65) or \\\n",
    "(p2_age >= 18 and p2_age <=65) or \\\n",
    "(p3_age >= 18 and p3_age <=65)\n",
    "print(work)\n",
    "\n",
    "par = \"Penjelasan Lengkap Tentang Paragraf |\" \\\n",
    "\"QuBisahttps://www.qubisa.com › article › pengertian-paragraf\"\\\n",
    "\"22 Feb 2021 — Paragraf adalah bagian bab dalam suatu karangan,\"\\\n",
    "\"yang biasanya mengandung satu ide pokok dan penulisannya dimulai\"\\\n",
    "\"dengan garis baru.\"\n",
    "print(par)"
   ]
  }
 ],
 "metadata": {
  "kernelspec": {
   "display_name": "Python 3",
   "language": "python",
   "name": "python3"
  },
  "language_info": {
   "codemirror_mode": {
    "name": "ipython",
    "version": 3
   },
   "file_extension": ".py",
   "mimetype": "text/x-python",
   "name": "python",
   "nbconvert_exporter": "python",
   "pygments_lexer": "ipython3",
   "version": "3.8.8"
  }
 },
 "nbformat": 4,
 "nbformat_minor": 5
}
