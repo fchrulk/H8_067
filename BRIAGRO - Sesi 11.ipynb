{
 "cells": [
  {
   "cell_type": "code",
   "execution_count": 2,
   "id": "1852f50a",
   "metadata": {
    "ExecuteTime": {
     "end_time": "2021-12-06T13:37:31.629031Z",
     "start_time": "2021-12-06T13:37:31.612826Z"
    }
   },
   "outputs": [],
   "source": [
    "%matplotlib inline\n",
    "import pandas as pd\n",
    "import numpy as np\n",
    "import matplotlib.pyplot as plt\n",
    "from sklearn.linear_model import LinearRegression"
   ]
  },
  {
   "cell_type": "code",
   "execution_count": 5,
   "id": "70737225",
   "metadata": {
    "ExecuteTime": {
     "end_time": "2021-12-06T13:39:32.500273Z",
     "start_time": "2021-12-06T13:39:32.488535Z"
    }
   },
   "outputs": [],
   "source": [
    "x = np.array([5, 15, 25, 35, 45, 55]).reshape(-1, 1)\n",
    "y = np.array([5, 20, 14, 32, 22, 38])"
   ]
  },
  {
   "cell_type": "code",
   "execution_count": 3,
   "id": "74212c7a",
   "metadata": {
    "ExecuteTime": {
     "end_time": "2021-12-06T13:39:04.000689Z",
     "start_time": "2021-12-06T13:39:03.978312Z"
    }
   },
   "outputs": [
    {
     "data": {
      "text/plain": [
       "array([ 5, 15, 25, 35, 45, 55])"
      ]
     },
     "execution_count": 3,
     "metadata": {},
     "output_type": "execute_result"
    }
   ],
   "source": [
    "np.array([5, 15, 25, 35, 45, 55])"
   ]
  },
  {
   "cell_type": "code",
   "execution_count": 4,
   "id": "eb69cd8c",
   "metadata": {
    "ExecuteTime": {
     "end_time": "2021-12-06T13:39:12.529850Z",
     "start_time": "2021-12-06T13:39:12.487117Z"
    }
   },
   "outputs": [
    {
     "data": {
      "text/plain": [
       "array([[ 5],\n",
       "       [15],\n",
       "       [25],\n",
       "       [35],\n",
       "       [45],\n",
       "       [55]])"
      ]
     },
     "execution_count": 4,
     "metadata": {},
     "output_type": "execute_result"
    }
   ],
   "source": [
    "np.array([5, 15, 25, 35, 45, 55]).reshape(-1, 1)"
   ]
  },
  {
   "cell_type": "code",
   "execution_count": 28,
   "id": "2f4c4e17",
   "metadata": {
    "ExecuteTime": {
     "end_time": "2021-12-06T13:50:08.898629Z",
     "start_time": "2021-12-06T13:50:08.887143Z"
    }
   },
   "outputs": [
    {
     "name": "stdout",
     "output_type": "stream",
     "text": [
      "x =  [[ 5]\n",
      " [15]\n",
      " [25]\n",
      " [35]\n",
      " [45]\n",
      " [55]]\n",
      "y =  [ 5 20 14 32 22 38]\n"
     ]
    }
   ],
   "source": [
    "print('x = ', x)\n",
    "print('y = ', y)"
   ]
  },
  {
   "cell_type": "code",
   "execution_count": 27,
   "id": "be0d79fe",
   "metadata": {
    "ExecuteTime": {
     "end_time": "2021-12-06T13:49:50.737366Z",
     "start_time": "2021-12-06T13:49:50.716100Z"
    },
    "scrolled": true
   },
   "outputs": [
    {
     "data": {
      "text/plain": [
       "LinearRegression()"
      ]
     },
     "execution_count": 27,
     "metadata": {},
     "output_type": "execute_result"
    }
   ],
   "source": [
    "model = LinearRegression()\n",
    "model.fit(x, y)"
   ]
  },
  {
   "cell_type": "code",
   "execution_count": 29,
   "id": "ddc6f843",
   "metadata": {
    "ExecuteTime": {
     "end_time": "2021-12-06T13:50:19.920979Z",
     "start_time": "2021-12-06T13:50:19.906097Z"
    }
   },
   "outputs": [
    {
     "data": {
      "text/plain": [
       "array([6.17333333])"
      ]
     },
     "execution_count": 29,
     "metadata": {},
     "output_type": "execute_result"
    }
   ],
   "source": [
    "model.predict([[1]])"
   ]
  },
  {
   "cell_type": "code",
   "execution_count": 32,
   "id": "713cbe81",
   "metadata": {
    "ExecuteTime": {
     "end_time": "2021-12-06T13:52:25.989099Z",
     "start_time": "2021-12-06T13:52:25.972389Z"
    }
   },
   "outputs": [
    {
     "data": {
      "text/plain": [
       "array([8.33333333])"
      ]
     },
     "execution_count": 32,
     "metadata": {},
     "output_type": "execute_result"
    }
   ],
   "source": [
    "model.predict([[5]])"
   ]
  },
  {
   "cell_type": "code",
   "execution_count": 33,
   "id": "32586a63",
   "metadata": {
    "ExecuteTime": {
     "end_time": "2021-12-06T13:52:59.533519Z",
     "start_time": "2021-12-06T13:52:59.520819Z"
    }
   },
   "outputs": [
    {
     "data": {
      "text/plain": [
       "array([13.73333333])"
      ]
     },
     "execution_count": 33,
     "metadata": {},
     "output_type": "execute_result"
    }
   ],
   "source": [
    "model.predict([[15]])"
   ]
  },
  {
   "cell_type": "code",
   "execution_count": 34,
   "id": "09284a81",
   "metadata": {
    "ExecuteTime": {
     "end_time": "2021-12-06T13:53:21.556713Z",
     "start_time": "2021-12-06T13:53:21.536097Z"
    }
   },
   "outputs": [
    {
     "data": {
      "text/plain": [
       "array([19.13333333])"
      ]
     },
     "execution_count": 34,
     "metadata": {},
     "output_type": "execute_result"
    }
   ],
   "source": [
    "model.predict([[25]])"
   ]
  },
  {
   "cell_type": "code",
   "execution_count": 31,
   "id": "21a913d9",
   "metadata": {
    "ExecuteTime": {
     "end_time": "2021-12-06T13:51:36.887727Z",
     "start_time": "2021-12-06T13:51:36.872655Z"
    }
   },
   "outputs": [
    {
     "name": "stdout",
     "output_type": "stream",
     "text": [
      "coef determination = 0.715875613747954\n"
     ]
    }
   ],
   "source": [
    "r_sq = model.score(x, y)\n",
    "print('coef determination = {:,}'.format(r_sq))"
   ]
  },
  {
   "cell_type": "code",
   "execution_count": 38,
   "id": "9e7369b0",
   "metadata": {
    "ExecuteTime": {
     "end_time": "2021-12-06T13:56:20.113746Z",
     "start_time": "2021-12-06T13:56:20.099114Z"
    }
   },
   "outputs": [
    {
     "name": "stdout",
     "output_type": "stream",
     "text": [
      "intercept = 5.63\n",
      "slope = [0.54]\n"
     ]
    }
   ],
   "source": [
    "print('intercept = {:.2f}'.format(model.intercept_))\n",
    "print('slope = {}'.format(model.coef_))"
   ]
  },
  {
   "cell_type": "code",
   "execution_count": null,
   "id": "875ca60e",
   "metadata": {},
   "outputs": [],
   "source": [
    "y = 5.63 + 0.54x\n",
    "# y = b0 + b1x"
   ]
  },
  {
   "cell_type": "code",
   "execution_count": 40,
   "id": "a0d39fd5",
   "metadata": {
    "ExecuteTime": {
     "end_time": "2021-12-06T14:14:33.792313Z",
     "start_time": "2021-12-06T14:14:33.782490Z"
    }
   },
   "outputs": [
    {
     "name": "stdout",
     "output_type": "stream",
     "text": [
      "predicted response (Y) : [ 8.33333333 13.73333333 19.13333333 24.53333333 29.93333333 35.33333333]\n"
     ]
    }
   ],
   "source": [
    "y_pred = model.predict(x)\n",
    "print('predicted response (Y) :', y_pred)"
   ]
  },
  {
   "cell_type": "code",
   "execution_count": 41,
   "id": "8719c3f4",
   "metadata": {
    "ExecuteTime": {
     "end_time": "2021-12-06T14:15:05.524894Z",
     "start_time": "2021-12-06T14:15:05.164190Z"
    }
   },
   "outputs": [
    {
     "data": {
      "image/png": "[encoded data removed]",
      "text/plain": [
       "<Figure size 432x288 with 1 Axes>"
      ]
     },
     "metadata": {
      "needs_background": "light"
     },
     "output_type": "display_data"
    }
   ],
   "source": [
    "plt.scatter(x, y, alpha=.5)\n",
    "plt.plot(x, y_pred)\n",
    "plt.title('Scatter plot x and y')\n",
    "plt.xlabel('x')\n",
    "plt.ylabel('y')\n",
    "plt.show()"
   ]
  },
  {
   "cell_type": "code",
   "execution_count": 42,
   "id": "eda8ddb2",
   "metadata": {
    "ExecuteTime": {
     "end_time": "2021-12-06T14:16:26.371454Z",
     "start_time": "2021-12-06T14:16:26.357860Z"
    }
   },
   "outputs": [
    {
     "name": "stdout",
     "output_type": "stream",
     "text": [
      "predicted response:  [[ 8.33333333]\n",
      " [13.73333333]\n",
      " [19.13333333]\n",
      " [24.53333333]\n",
      " [29.93333333]\n",
      " [35.33333333]]\n"
     ]
    }
   ],
   "source": [
    "y_pred = model.intercept_ + model.coef_ * x\n",
    "print('predicted response: ', y_pred)"
   ]
  },
  {
   "cell_type": "code",
   "execution_count": 44,
   "id": "0ebac2f6",
   "metadata": {
    "ExecuteTime": {
     "end_time": "2021-12-06T14:20:22.259142Z",
     "start_time": "2021-12-06T14:20:22.242234Z"
    }
   },
   "outputs": [
    {
     "name": "stdout",
     "output_type": "stream",
     "text": [
      "x =  [[ 0  1]\n",
      " [ 5  1]\n",
      " [15  2]\n",
      " [25  5]\n",
      " [35 11]\n",
      " [45 15]\n",
      " [55 34]\n",
      " [60 35]]\n",
      "y =  [ 4  5 20 14 32 22 38 43]\n"
     ]
    }
   ],
   "source": [
    "x = [[0, 1], [5, 1], [15, 2], [25, 5], \n",
    "     [35, 11], [45, 15], [55, 34], [60, 35]]\n",
    "y = [4, 5, 20, 14, 32, 22, 38, 43]\n",
    "x, y = np.array(x),  np.array(y)\n",
    "print('x = ', x)\n",
    "print('y = ', y)"
   ]
  },
  {
   "cell_type": "code",
   "execution_count": 45,
   "id": "ddf60b89",
   "metadata": {
    "ExecuteTime": {
     "end_time": "2021-12-06T14:20:48.270493Z",
     "start_time": "2021-12-06T14:20:48.240544Z"
    }
   },
   "outputs": [],
   "source": [
    "model = LinearRegression().fit(x, y)"
   ]
  },
  {
   "cell_type": "code",
   "execution_count": 46,
   "id": "28634747",
   "metadata": {
    "ExecuteTime": {
     "end_time": "2021-12-06T14:21:52.347981Z",
     "start_time": "2021-12-06T14:21:52.334689Z"
    }
   },
   "outputs": [
    {
     "name": "stdout",
     "output_type": "stream",
     "text": [
      "coef determination = 0.86\n",
      "intercept = 5.52\n",
      "slope = [0.44706965 0.25502548]\n"
     ]
    }
   ],
   "source": [
    "r_sq = model.score(x, y)\n",
    "print('coef determination = {:.2f}'.format(r_sq))\n",
    "print('intercept = {:.2f}'.format(model.intercept_))\n",
    "print('slope = {}'.format(model.coef_))"
   ]
  },
  {
   "cell_type": "code",
   "execution_count": null,
   "id": "7acba109",
   "metadata": {},
   "outputs": [],
   "source": [
    "y = 5.52 + 0.447x1 + 0.255x2"
   ]
  },
  {
   "cell_type": "code",
   "execution_count": 47,
   "id": "94ae721b",
   "metadata": {
    "ExecuteTime": {
     "end_time": "2021-12-06T14:24:40.120049Z",
     "start_time": "2021-12-06T14:24:40.103031Z"
    }
   },
   "outputs": [
    {
     "name": "stdout",
     "output_type": "stream",
     "text": [
      "predicted response (Y) =  [ 5.77760476  8.012953   12.73867497 17.9744479  23.97529728 29.4660957\n",
      " 38.78227633 41.27265006]\n"
     ]
    }
   ],
   "source": [
    "y_pred = model.predict(x)\n",
    "print('predicted response (Y) = ', y_pred)"
   ]
  },
  {
   "cell_type": "code",
   "execution_count": 48,
   "id": "9fe0af9e",
   "metadata": {
    "ExecuteTime": {
     "end_time": "2021-12-06T14:26:51.921006Z",
     "start_time": "2021-12-06T14:26:51.902411Z"
    }
   },
   "outputs": [
    {
     "name": "stdout",
     "output_type": "stream",
     "text": [
      "[[0 1]\n",
      " [2 3]\n",
      " [4 5]\n",
      " [6 7]\n",
      " [8 9]]\n",
      "[ 5.77760476  7.18179502  8.58598528  9.99017554 11.3943658 ]\n"
     ]
    }
   ],
   "source": [
    "x_new = np.arange(10).reshape((-1, 2))\n",
    "print(x_new)\n",
    "y_new = model.predict(x_new)\n",
    "print(y_new)"
   ]
  },
  {
   "cell_type": "code",
   "execution_count": 49,
   "id": "bd67c8f7",
   "metadata": {
    "ExecuteTime": {
     "end_time": "2021-12-06T14:28:41.075794Z",
     "start_time": "2021-12-06T14:28:41.061161Z"
    }
   },
   "outputs": [],
   "source": [
    "from sklearn.preprocessing import PolynomialFeatures"
   ]
  },
  {
   "cell_type": "code",
   "execution_count": 55,
   "id": "a5ea6f1f",
   "metadata": {
    "ExecuteTime": {
     "end_time": "2021-12-06T14:32:43.021604Z",
     "start_time": "2021-12-06T14:32:42.822075Z"
    }
   },
   "outputs": [
    {
     "name": "stdout",
     "output_type": "stream",
     "text": [
      "[[ 5]\n",
      " [15]\n",
      " [25]\n",
      " [35]\n",
      " [45]\n",
      " [55]]\n"
     ]
    },
    {
     "data": {
      "image/png": "[encoded data removed]",
      "text/plain": [
       "<Figure size 432x288 with 1 Axes>"
      ]
     },
     "metadata": {
      "needs_background": "light"
     },
     "output_type": "display_data"
    }
   ],
   "source": [
    "x = np.array([5, 15, 25, 35, 45, 55]).reshape(-1, 1)\n",
    "y = np.array([15, 11, 2, 8, 25, 32])\n",
    "print(x)\n",
    "plt.scatter(x, y, alpha=.5)\n",
    "plt.show()"
   ]
  },
  {
   "cell_type": "code",
   "execution_count": 80,
   "id": "488140f1",
   "metadata": {
    "ExecuteTime": {
     "end_time": "2021-12-06T14:48:49.671900Z",
     "start_time": "2021-12-06T14:48:49.657373Z"
    }
   },
   "outputs": [
    {
     "name": "stdout",
     "output_type": "stream",
     "text": [
      "0.4065969428801286\n",
      "4.099999999999996\n",
      "[ 6.   9.8 13.6 17.4 21.2 25. ]\n"
     ]
    }
   ],
   "source": [
    "# simple linear\n",
    "model = LinearRegression().fit(x, y)\n",
    "print(model.score(x, y))\n",
    "print(model.intercept_)\n",
    "y_pred = model.predict(x)\n",
    "print(y_pred)"
   ]
  },
  {
   "cell_type": "code",
   "execution_count": 54,
   "id": "132fb2b5",
   "metadata": {
    "ExecuteTime": {
     "end_time": "2021-12-06T14:31:58.398686Z",
     "start_time": "2021-12-06T14:31:58.202728Z"
    }
   },
   "outputs": [
    {
     "data": {
      "image/png": "[encoded data removed]",
      "text/plain": [
       "<Figure size 432x288 with 1 Axes>"
      ]
     },
     "metadata": {
      "needs_background": "light"
     },
     "output_type": "display_data"
    }
   ],
   "source": [
    "# simple linear\n",
    "plt.scatter(x, y, alpha=.5)\n",
    "plt.plot(x, y_pred)\n",
    "plt.title('Scatter plot x and y')\n",
    "plt.xlabel('x')\n",
    "plt.ylabel('y')\n",
    "plt.show()"
   ]
  },
  {
   "cell_type": "code",
   "execution_count": 71,
   "id": "014af2ad",
   "metadata": {
    "ExecuteTime": {
     "end_time": "2021-12-06T14:43:57.969249Z",
     "start_time": "2021-12-06T14:43:57.960213Z"
    }
   },
   "outputs": [
    {
     "name": "stdout",
     "output_type": "stream",
     "text": [
      "[[   5.   25.]\n",
      " [  15.  225.]\n",
      " [  25.  625.]\n",
      " [  35. 1225.]\n",
      " [  45. 2025.]\n",
      " [  55. 3025.]]\n"
     ]
    }
   ],
   "source": [
    "transformer = PolynomialFeatures(degree=2, include_bias=False)\n",
    "transformer.fit(x)\n",
    "x_ = transformer.transform(x)\n",
    "print(x_)"
   ]
  },
  {
   "cell_type": "code",
   "execution_count": 72,
   "id": "65489e22",
   "metadata": {
    "ExecuteTime": {
     "end_time": "2021-12-06T14:43:58.917041Z",
     "start_time": "2021-12-06T14:43:58.894008Z"
    }
   },
   "outputs": [
    {
     "name": "stdout",
     "output_type": "stream",
     "text": [
      "coef determination = 0.89\n",
      "intercept = 21.37\n",
      "coefficients = [-1.32357143  0.02839286]\n"
     ]
    }
   ],
   "source": [
    "# polynomial\n",
    "model = LinearRegression().fit(x_, y)\n",
    "r_sq = model.score(x_, y)\n",
    "print('coef determination = {:.2f}'.format(r_sq))\n",
    "print('intercept = {:.2f}'.format(model.intercept_))\n",
    "print('coefficients = {}'.format(model.coef_))"
   ]
  },
  {
   "cell_type": "code",
   "execution_count": 73,
   "id": "7e513a0e",
   "metadata": {
    "ExecuteTime": {
     "end_time": "2021-12-06T14:43:59.521448Z",
     "start_time": "2021-12-06T14:43:59.511506Z"
    }
   },
   "outputs": [
    {
     "name": "stdout",
     "output_type": "stream",
     "text": [
      "[[1.000e+00 5.000e+00 2.500e+01]\n",
      " [1.000e+00 1.500e+01 2.250e+02]\n",
      " [1.000e+00 2.500e+01 6.250e+02]\n",
      " [1.000e+00 3.500e+01 1.225e+03]\n",
      " [1.000e+00 4.500e+01 2.025e+03]\n",
      " [1.000e+00 5.500e+01 3.025e+03]]\n"
     ]
    }
   ],
   "source": [
    "x_ = PolynomialFeatures(degree=2, include_bias=True).fit_transform(x)\n",
    "print(x_)"
   ]
  },
  {
   "cell_type": "code",
   "execution_count": 74,
   "id": "29d8c5f2",
   "metadata": {
    "ExecuteTime": {
     "end_time": "2021-12-06T14:44:00.795958Z",
     "start_time": "2021-12-06T14:44:00.770008Z"
    }
   },
   "outputs": [
    {
     "name": "stdout",
     "output_type": "stream",
     "text": [
      "coef determination = 0.89\n",
      "intercept = 0.00\n",
      "coefficients = [21.37232143 -1.32357143  0.02839286]\n"
     ]
    }
   ],
   "source": [
    "model = LinearRegression(fit_intercept=False).fit(x_, y)\n",
    "r_sq = model.score(x_, y)\n",
    "print('coef determination = {:.2f}'.format(r_sq))\n",
    "print('intercept = {:.2f}'.format(model.intercept_))\n",
    "print('coefficients = {}'.format(model.coef_))"
   ]
  },
  {
   "cell_type": "code",
   "execution_count": 75,
   "id": "52c56dba",
   "metadata": {
    "ExecuteTime": {
     "end_time": "2021-12-06T14:44:01.416906Z",
     "start_time": "2021-12-06T14:44:01.404878Z"
    }
   },
   "outputs": [
    {
     "name": "stdout",
     "output_type": "stream",
     "text": [
      "predicted response: [15.46428571  7.90714286  6.02857143  9.82857143 19.30714286 34.46428571]\n"
     ]
    }
   ],
   "source": [
    "y_pred = model.predict(x_)\n",
    "print('predicted response:', y_pred)"
   ]
  },
  {
   "cell_type": "code",
   "execution_count": 79,
   "id": "b8df97be",
   "metadata": {
    "ExecuteTime": {
     "end_time": "2021-12-06T14:46:14.076390Z",
     "start_time": "2021-12-06T14:46:14.056514Z"
    }
   },
   "outputs": [
    {
     "data": {
      "text/plain": [
       "array([[1.000e+00, 5.000e+00, 2.500e+01],\n",
       "       [1.000e+00, 1.500e+01, 2.250e+02],\n",
       "       [1.000e+00, 2.500e+01, 6.250e+02],\n",
       "       [1.000e+00, 3.500e+01, 1.225e+03],\n",
       "       [1.000e+00, 4.500e+01, 2.025e+03],\n",
       "       [1.000e+00, 5.500e+01, 3.025e+03]])"
      ]
     },
     "execution_count": 79,
     "metadata": {},
     "output_type": "execute_result"
    }
   ],
   "source": [
    "x_"
   ]
  },
  {
   "cell_type": "markdown",
   "id": "fca4515e",
   "metadata": {},
   "source": []
  }
 ],
 "metadata": {
  "kernelspec": {
   "display_name": "Python 3",
   "language": "python",
   "name": "python3"
  },
  "language_info": {
   "codemirror_mode": {
    "name": "ipython",
    "version": 3
   },
   "file_extension": ".py",
   "mimetype": "text/x-python",
   "name": "python",
   "nbconvert_exporter": "python",
   "pygments_lexer": "ipython3",
   "version": "3.8.8"
  }
 },
 "nbformat": 4,
 "nbformat_minor": 5
}
