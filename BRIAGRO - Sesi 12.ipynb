{
 "cells": [
  {
   "cell_type": "code",
   "execution_count": 1,
   "id": "80c95647",
   "metadata": {
    "ExecuteTime": {
     "end_time": "2021-12-08T13:00:51.573496Z",
     "start_time": "2021-12-08T13:00:50.940699Z"
    }
   },
   "outputs": [],
   "source": [
    "import matplotlib.pyplot as plt\n",
    "import numpy as np\n",
    "\n",
    "from sklearn.linear_model import LogisticRegression\n",
    "from sklearn.metrics import classification_report, confusion_matrix"
   ]
  },
  {
   "cell_type": "code",
   "execution_count": 2,
   "id": "0d6b4164",
   "metadata": {
    "ExecuteTime": {
     "end_time": "2021-12-08T13:04:28.284266Z",
     "start_time": "2021-12-08T13:04:28.278284Z"
    }
   },
   "outputs": [],
   "source": [
    "x = np.arange(10).reshape(-1, 1)\n",
    "y = np.array([0, 0, 0, 0, 1, 1, 1, 1, 1, 1])"
   ]
  },
  {
   "cell_type": "code",
   "execution_count": 4,
   "id": "261b4578",
   "metadata": {
    "ExecuteTime": {
     "end_time": "2021-12-08T13:08:50.081872Z",
     "start_time": "2021-12-08T13:08:49.957644Z"
    }
   },
   "outputs": [
    {
     "data": {
      "text/plain": [
       "LogisticRegression(random_state=0, solver='liblinear')"
      ]
     },
     "execution_count": 4,
     "metadata": {},
     "output_type": "execute_result"
    }
   ],
   "source": [
    "model = LogisticRegression(solver='liblinear', random_state=0)\n",
    "model.fit(x, y)"
   ]
  },
  {
   "cell_type": "code",
   "execution_count": 5,
   "id": "98db36f9",
   "metadata": {
    "ExecuteTime": {
     "end_time": "2021-12-08T13:09:18.581161Z",
     "start_time": "2021-12-08T13:09:18.567497Z"
    }
   },
   "outputs": [
    {
     "data": {
      "text/plain": [
       "array([0, 0, 0, 0, 1, 1, 1, 1, 1, 1])"
      ]
     },
     "execution_count": 5,
     "metadata": {},
     "output_type": "execute_result"
    }
   ],
   "source": [
    "y"
   ]
  },
  {
   "cell_type": "code",
   "execution_count": 6,
   "id": "4802130b",
   "metadata": {
    "ExecuteTime": {
     "end_time": "2021-12-08T13:09:28.829566Z",
     "start_time": "2021-12-08T13:09:28.808665Z"
    }
   },
   "outputs": [
    {
     "data": {
      "text/plain": [
       "array([0, 1])"
      ]
     },
     "execution_count": 6,
     "metadata": {},
     "output_type": "execute_result"
    }
   ],
   "source": [
    "model.classes_"
   ]
  },
  {
   "cell_type": "code",
   "execution_count": 7,
   "id": "b6488877",
   "metadata": {
    "ExecuteTime": {
     "end_time": "2021-12-08T13:10:10.311237Z",
     "start_time": "2021-12-08T13:10:10.284133Z"
    }
   },
   "outputs": [
    {
     "name": "stdout",
     "output_type": "stream",
     "text": [
      "[-1.04608067] [[0.51491375]]\n"
     ]
    }
   ],
   "source": [
    "print(model.intercept_, model.coef_)"
   ]
  },
  {
   "cell_type": "code",
   "execution_count": 8,
   "id": "26a38cf5",
   "metadata": {
    "ExecuteTime": {
     "end_time": "2021-12-08T13:11:29.353383Z",
     "start_time": "2021-12-08T13:11:29.323531Z"
    }
   },
   "outputs": [
    {
     "data": {
      "text/plain": [
       "array([0, 0, 0, 1, 1, 1, 1, 1, 1, 1])"
      ]
     },
     "execution_count": 8,
     "metadata": {},
     "output_type": "execute_result"
    }
   ],
   "source": [
    "model.predict(x)"
   ]
  },
  {
   "cell_type": "code",
   "execution_count": 9,
   "id": "cbd57093",
   "metadata": {
    "ExecuteTime": {
     "end_time": "2021-12-08T13:12:08.825359Z",
     "start_time": "2021-12-08T13:12:08.792271Z"
    }
   },
   "outputs": [
    {
     "data": {
      "text/plain": [
       "array([[0.74002157, 0.25997843],\n",
       "       [0.62975524, 0.37024476],\n",
       "       [0.5040632 , 0.4959368 ],\n",
       "       [0.37785549, 0.62214451],\n",
       "       [0.26628093, 0.73371907],\n",
       "       [0.17821501, 0.82178499],\n",
       "       [0.11472079, 0.88527921],\n",
       "       [0.07186982, 0.92813018],\n",
       "       [0.04422513, 0.95577487],\n",
       "       [0.02690569, 0.97309431]])"
      ]
     },
     "execution_count": 9,
     "metadata": {},
     "output_type": "execute_result"
    }
   ],
   "source": [
    "model.predict_proba(x)"
   ]
  },
  {
   "cell_type": "code",
   "execution_count": 12,
   "id": "09dabdde",
   "metadata": {
    "ExecuteTime": {
     "end_time": "2021-12-08T13:15:30.452507Z",
     "start_time": "2021-12-08T13:15:30.430517Z"
    }
   },
   "outputs": [
    {
     "data": {
      "text/plain": [
       "'Accuracy = 90.0%'"
      ]
     },
     "execution_count": 12,
     "metadata": {},
     "output_type": "execute_result"
    }
   ],
   "source": [
    "'Accuracy = '+str(9/10*100)+'%'"
   ]
  },
  {
   "cell_type": "code",
   "execution_count": 16,
   "id": "939a9fef",
   "metadata": {
    "ExecuteTime": {
     "end_time": "2021-12-08T13:16:09.800581Z",
     "start_time": "2021-12-08T13:16:09.787506Z"
    }
   },
   "outputs": [
    {
     "name": "stdout",
     "output_type": "stream",
     "text": [
      "0.9\n",
      "Accuracy = 90.0%\n"
     ]
    }
   ],
   "source": [
    "print(model.score(x, y))\n",
    "print('Accuracy = '+str(model.score(x, y)*100)+'%')"
   ]
  },
  {
   "cell_type": "code",
   "execution_count": 18,
   "id": "77ce3c92",
   "metadata": {
    "ExecuteTime": {
     "end_time": "2021-12-08T13:17:29.343837Z",
     "start_time": "2021-12-08T13:17:29.331483Z"
    }
   },
   "outputs": [
    {
     "data": {
      "text/plain": [
       "array([0, 0, 0, 1, 1, 1, 1, 1, 1, 1])"
      ]
     },
     "execution_count": 18,
     "metadata": {},
     "output_type": "execute_result"
    }
   ],
   "source": [
    "model.predict(x)"
   ]
  },
  {
   "cell_type": "code",
   "execution_count": 17,
   "id": "a222da7e",
   "metadata": {
    "ExecuteTime": {
     "end_time": "2021-12-08T13:16:53.118399Z",
     "start_time": "2021-12-08T13:16:53.094709Z"
    }
   },
   "outputs": [
    {
     "data": {
      "text/plain": [
       "array([[3, 1],\n",
       "       [0, 6]], dtype=int64)"
      ]
     },
     "execution_count": 17,
     "metadata": {},
     "output_type": "execute_result"
    }
   ],
   "source": [
    "confusion_matrix(y, model.predict(x))"
   ]
  },
  {
   "cell_type": "code",
   "execution_count": 19,
   "id": "1c413e68",
   "metadata": {
    "ExecuteTime": {
     "end_time": "2021-12-08T13:21:47.901154Z",
     "start_time": "2021-12-08T13:21:47.608370Z"
    },
    "scrolled": false
   },
   "outputs": [
    {
     "data": {
      "image/png": "[encoded data removed]",
      "text/plain": [
       "<Figure size 576x576 with 1 Axes>"
      ]
     },
     "metadata": {
      "needs_background": "light"
     },
     "output_type": "display_data"
    }
   ],
   "source": [
    "cm = confusion_matrix(y, model.predict(x))\n",
    "\n",
    "fig, ax = plt.subplots(figsize=(8,8))\n",
    "ax.imshow(cm)\n",
    "ax.grid(False)\n",
    "ax.xaxis.set(ticks=(0,1), ticklabels=('Predicted 0s', 'Predicted 1s'))\n",
    "ax.yaxis.set(ticks=(0,1), ticklabels=('Actual 0s', 'Actual 1s'))\n",
    "ax.set_ylim(1.5, -.5)\n",
    "for i in range(2):\n",
    "    for j in range(2):\n",
    "        ax.text(j, i, cm[i, j], ha='center', va='center', color='red')\n",
    "plt.show()"
   ]
  },
  {
   "cell_type": "code",
   "execution_count": 20,
   "id": "05f0d918",
   "metadata": {
    "ExecuteTime": {
     "end_time": "2021-12-08T13:23:57.759146Z",
     "start_time": "2021-12-08T13:23:57.709153Z"
    }
   },
   "outputs": [
    {
     "name": "stdout",
     "output_type": "stream",
     "text": [
      "              precision    recall  f1-score   support\n",
      "\n",
      "           0       1.00      0.75      0.86         4\n",
      "           1       0.86      1.00      0.92         6\n",
      "\n",
      "    accuracy                           0.90        10\n",
      "   macro avg       0.93      0.88      0.89        10\n",
      "weighted avg       0.91      0.90      0.90        10\n",
      "\n"
     ]
    }
   ],
   "source": [
    "print(classification_report(y, model.predict(x)))"
   ]
  },
  {
   "cell_type": "code",
   "execution_count": 21,
   "id": "9cc8e0e9",
   "metadata": {
    "ExecuteTime": {
     "end_time": "2021-12-08T13:28:07.444056Z",
     "start_time": "2021-12-08T13:28:07.432543Z"
    }
   },
   "outputs": [
    {
     "data": {
      "text/plain": [
       "LogisticRegression(C=10.0, random_state=0, solver='liblinear')"
      ]
     },
     "execution_count": 21,
     "metadata": {},
     "output_type": "execute_result"
    }
   ],
   "source": [
    "model = LogisticRegression(solver='liblinear', C=10.0, random_state=0)\n",
    "model.fit(x, y)"
   ]
  },
  {
   "cell_type": "code",
   "execution_count": 22,
   "id": "578f8e68",
   "metadata": {
    "ExecuteTime": {
     "end_time": "2021-12-08T13:28:24.440785Z",
     "start_time": "2021-12-08T13:28:24.421726Z"
    }
   },
   "outputs": [
    {
     "name": "stdout",
     "output_type": "stream",
     "text": [
      "[-3.51335372] [[1.12066084]]\n"
     ]
    }
   ],
   "source": [
    "print(model.intercept_, model.coef_)"
   ]
  },
  {
   "cell_type": "code",
   "execution_count": 23,
   "id": "13be275a",
   "metadata": {
    "ExecuteTime": {
     "end_time": "2021-12-08T13:28:42.010912Z",
     "start_time": "2021-12-08T13:28:41.995030Z"
    }
   },
   "outputs": [
    {
     "name": "stdout",
     "output_type": "stream",
     "text": [
      "[[0.97106534 0.02893466]\n",
      " [0.9162684  0.0837316 ]\n",
      " [0.7810904  0.2189096 ]\n",
      " [0.53777071 0.46222929]\n",
      " [0.27502212 0.72497788]\n",
      " [0.11007743 0.88992257]\n",
      " [0.03876835 0.96123165]\n",
      " [0.01298011 0.98701989]\n",
      " [0.0042697  0.9957303 ]\n",
      " [0.00139621 0.99860379]]\n"
     ]
    }
   ],
   "source": [
    "print(model.predict_proba(x))"
   ]
  },
  {
   "cell_type": "code",
   "execution_count": 25,
   "id": "42c5b77d",
   "metadata": {
    "ExecuteTime": {
     "end_time": "2021-12-08T13:29:47.460934Z",
     "start_time": "2021-12-08T13:29:47.439090Z"
    }
   },
   "outputs": [
    {
     "data": {
      "text/plain": [
       "array([[0],\n",
       "       [1],\n",
       "       [2],\n",
       "       [3],\n",
       "       [4],\n",
       "       [5],\n",
       "       [6],\n",
       "       [7],\n",
       "       [8],\n",
       "       [9]])"
      ]
     },
     "execution_count": 25,
     "metadata": {},
     "output_type": "execute_result"
    }
   ],
   "source": [
    "x"
   ]
  },
  {
   "cell_type": "code",
   "execution_count": 24,
   "id": "b9115356",
   "metadata": {
    "ExecuteTime": {
     "end_time": "2021-12-08T13:29:27.144892Z",
     "start_time": "2021-12-08T13:29:27.134424Z"
    }
   },
   "outputs": [
    {
     "data": {
      "text/plain": [
       "array([0, 0, 0, 0, 1, 1, 1, 1, 1, 1])"
      ]
     },
     "execution_count": 24,
     "metadata": {},
     "output_type": "execute_result"
    }
   ],
   "source": [
    "model.predict(x)"
   ]
  },
  {
   "cell_type": "code",
   "execution_count": 29,
   "id": "03f2683d",
   "metadata": {
    "ExecuteTime": {
     "end_time": "2021-12-08T13:30:35.032642Z",
     "start_time": "2021-12-08T13:30:35.021060Z"
    }
   },
   "outputs": [
    {
     "data": {
      "text/plain": [
       "array([1])"
      ]
     },
     "execution_count": 29,
     "metadata": {},
     "output_type": "execute_result"
    }
   ],
   "source": [
    "model.predict(np.array([100]).reshape(-1, 1))"
   ]
  },
  {
   "cell_type": "code",
   "execution_count": 30,
   "id": "549349a9",
   "metadata": {
    "ExecuteTime": {
     "end_time": "2021-12-08T13:32:28.803940Z",
     "start_time": "2021-12-08T13:32:28.794964Z"
    }
   },
   "outputs": [
    {
     "data": {
      "text/plain": [
       "1.0"
      ]
     },
     "execution_count": 30,
     "metadata": {},
     "output_type": "execute_result"
    }
   ],
   "source": [
    "model.score(x, y)"
   ]
  },
  {
   "cell_type": "code",
   "execution_count": 31,
   "id": "0e79a845",
   "metadata": {
    "ExecuteTime": {
     "end_time": "2021-12-08T13:32:44.810129Z",
     "start_time": "2021-12-08T13:32:44.614009Z"
    }
   },
   "outputs": [
    {
     "data": {
      "image/png": "[encoded data removed]",
      "text/plain": [
       "<Figure size 576x576 with 1 Axes>"
      ]
     },
     "metadata": {
      "needs_background": "light"
     },
     "output_type": "display_data"
    }
   ],
   "source": [
    "cm = confusion_matrix(y, model.predict(x))\n",
    "\n",
    "fig, ax = plt.subplots(figsize=(8,8))\n",
    "ax.imshow(cm)\n",
    "ax.grid(False)\n",
    "ax.xaxis.set(ticks=(0,1), ticklabels=('Predicted 0s', 'Predicted 1s'))\n",
    "ax.yaxis.set(ticks=(0,1), ticklabels=('Actual 0s', 'Actual 1s'))\n",
    "ax.set_ylim(1.5, -.5)\n",
    "for i in range(2):\n",
    "    for j in range(2):\n",
    "        ax.text(j, i, cm[i, j], ha='center', va='center', color='red')\n",
    "plt.show()"
   ]
  },
  {
   "cell_type": "code",
   "execution_count": 32,
   "id": "c9f600f6",
   "metadata": {
    "ExecuteTime": {
     "end_time": "2021-12-08T13:33:01.011032Z",
     "start_time": "2021-12-08T13:33:00.995152Z"
    }
   },
   "outputs": [
    {
     "name": "stdout",
     "output_type": "stream",
     "text": [
      "              precision    recall  f1-score   support\n",
      "\n",
      "           0       1.00      1.00      1.00         4\n",
      "           1       1.00      1.00      1.00         6\n",
      "\n",
      "    accuracy                           1.00        10\n",
      "   macro avg       1.00      1.00      1.00        10\n",
      "weighted avg       1.00      1.00      1.00        10\n",
      "\n"
     ]
    }
   ],
   "source": [
    "print(classification_report(y, model.predict(x)))"
   ]
  },
  {
   "cell_type": "code",
   "execution_count": 33,
   "id": "1aa0c773",
   "metadata": {
    "ExecuteTime": {
     "end_time": "2021-12-08T13:58:29.151841Z",
     "start_time": "2021-12-08T13:58:29.136008Z"
    }
   },
   "outputs": [],
   "source": [
    "from sklearn.datasets import load_digits\n",
    "from sklearn.model_selection import train_test_split\n",
    "from sklearn.preprocessing import StandardScaler"
   ]
  },
  {
   "cell_type": "code",
   "execution_count": 35,
   "id": "90466d1d",
   "metadata": {
    "ExecuteTime": {
     "end_time": "2021-12-08T13:58:58.806357Z",
     "start_time": "2021-12-08T13:58:58.583777Z"
    }
   },
   "outputs": [],
   "source": [
    "x, y = load_digits(return_X_y=True)"
   ]
  },
  {
   "cell_type": "code",
   "execution_count": 41,
   "id": "36e4c0c7",
   "metadata": {
    "ExecuteTime": {
     "end_time": "2021-12-08T14:04:02.609774Z",
     "start_time": "2021-12-08T14:04:02.588791Z"
    }
   },
   "outputs": [
    {
     "data": {
      "text/plain": [
       "(1797, 1797)"
      ]
     },
     "execution_count": 41,
     "metadata": {},
     "output_type": "execute_result"
    }
   ],
   "source": [
    "len(x), len(y)"
   ]
  },
  {
   "cell_type": "code",
   "execution_count": 43,
   "id": "9902248c",
   "metadata": {
    "ExecuteTime": {
     "end_time": "2021-12-08T14:04:20.847239Z",
     "start_time": "2021-12-08T14:04:20.828246Z"
    }
   },
   "outputs": [
    {
     "data": {
      "text/plain": [
       "(359.40000000000003, 1437.6000000000001)"
      ]
     },
     "execution_count": 43,
     "metadata": {},
     "output_type": "execute_result"
    }
   ],
   "source": [
    "1797*.2, 1797*.8"
   ]
  },
  {
   "cell_type": "code",
   "execution_count": 79,
   "id": "87cf926f",
   "metadata": {
    "ExecuteTime": {
     "end_time": "2021-12-08T14:12:35.092379Z",
     "start_time": "2021-12-08T14:12:35.075417Z"
    }
   },
   "outputs": [],
   "source": [
    "x_train, x_test, y_train, y_test = train_test_split(x, y, test_size=.20, random_state=0)"
   ]
  },
  {
   "cell_type": "code",
   "execution_count": 80,
   "id": "de936a5e",
   "metadata": {
    "ExecuteTime": {
     "end_time": "2021-12-08T14:12:35.570183Z",
     "start_time": "2021-12-08T14:12:35.550754Z"
    }
   },
   "outputs": [
    {
     "name": "stdout",
     "output_type": "stream",
     "text": [
      "[[ 0.  0.  0. ... 16. 16.  6.]\n",
      " [ 0.  3. 12. ... 16.  2.  0.]\n",
      " [ 0.  1. 10. ...  0.  0.  0.]\n",
      " ...\n",
      " [ 0.  0.  5. ...  0.  0.  0.]\n",
      " [ 0.  0.  4. ...  0.  0.  0.]\n",
      " [ 0.  0.  6. ... 11.  0.  0.]]\n"
     ]
    }
   ],
   "source": [
    "print(x_train)"
   ]
  },
  {
   "cell_type": "code",
   "execution_count": 81,
   "id": "044cc903",
   "metadata": {
    "ExecuteTime": {
     "end_time": "2021-12-08T14:12:35.754698Z",
     "start_time": "2021-12-08T14:12:35.742038Z"
    }
   },
   "outputs": [],
   "source": [
    "scaler = StandardScaler()\n",
    "x_train = scaler.fit_transform(x_train)"
   ]
  },
  {
   "cell_type": "code",
   "execution_count": 82,
   "id": "cbba72ad",
   "metadata": {
    "ExecuteTime": {
     "end_time": "2021-12-08T14:12:36.095304Z",
     "start_time": "2021-12-08T14:12:36.075368Z"
    }
   },
   "outputs": [
    {
     "name": "stdout",
     "output_type": "stream",
     "text": [
      "[[ 0.         -0.33790435 -1.09141592 ...  1.58325794  3.53125595\n",
      "   3.30213343]\n",
      " [ 0.          2.90642897  1.41696421 ...  1.58325794  0.00595786\n",
      "  -0.18695903]\n",
      " [ 0.          0.74354009  0.99890086 ... -1.14493411 -0.49765616\n",
      "  -0.18695903]\n",
      " ...\n",
      " [ 0.         -0.33790435 -0.04625753 ... -1.14493411 -0.49765616\n",
      "  -0.18695903]\n",
      " [ 0.         -0.33790435 -0.25528921 ... -1.14493411 -0.49765616\n",
      "  -0.18695903]\n",
      " [ 0.         -0.33790435  0.16277415 ...  0.73069792 -0.49765616\n",
      "  -0.18695903]]\n"
     ]
    }
   ],
   "source": [
    "print(x_train)"
   ]
  },
  {
   "cell_type": "code",
   "execution_count": 83,
   "id": "4e79d240",
   "metadata": {
    "ExecuteTime": {
     "end_time": "2021-12-08T14:12:36.670146Z",
     "start_time": "2021-12-08T14:12:36.489205Z"
    }
   },
   "outputs": [
    {
     "data": {
      "text/plain": [
       "LogisticRegression(C=0.05, multi_class='ovr', random_state=0,\n",
       "                   solver='liblinear')"
      ]
     },
     "execution_count": 83,
     "metadata": {},
     "output_type": "execute_result"
    }
   ],
   "source": [
    "model = LogisticRegression(solver='liblinear',  \n",
    "                           C=.05, \n",
    "                           multi_class='ovr',\n",
    "                           random_state=0)\n",
    "model.fit(x_train, y_train)"
   ]
  },
  {
   "cell_type": "code",
   "execution_count": 84,
   "id": "e2e5179e",
   "metadata": {
    "ExecuteTime": {
     "end_time": "2021-12-08T14:12:37.149050Z",
     "start_time": "2021-12-08T14:12:37.137047Z"
    }
   },
   "outputs": [],
   "source": [
    "x_test = scaler.fit_transform(x_test)"
   ]
  },
  {
   "cell_type": "code",
   "execution_count": 85,
   "id": "1a1c550e",
   "metadata": {
    "ExecuteTime": {
     "end_time": "2021-12-08T14:12:37.524292Z",
     "start_time": "2021-12-08T14:12:37.506165Z"
    }
   },
   "outputs": [],
   "source": [
    "y_pred = model.predict(x_test)"
   ]
  },
  {
   "cell_type": "code",
   "execution_count": 86,
   "id": "d44e10f5",
   "metadata": {
    "ExecuteTime": {
     "end_time": "2021-12-08T14:12:37.880549Z",
     "start_time": "2021-12-08T14:12:37.866203Z"
    }
   },
   "outputs": [
    {
     "data": {
      "text/plain": [
       "0.964509394572025"
      ]
     },
     "execution_count": 86,
     "metadata": {},
     "output_type": "execute_result"
    }
   ],
   "source": [
    "model.score(x_train, y_train)"
   ]
  },
  {
   "cell_type": "code",
   "execution_count": 87,
   "id": "98b4e007",
   "metadata": {
    "ExecuteTime": {
     "end_time": "2021-12-08T14:12:38.563547Z",
     "start_time": "2021-12-08T14:12:38.555116Z"
    }
   },
   "outputs": [
    {
     "data": {
      "text/plain": [
       "0.95"
      ]
     },
     "execution_count": 87,
     "metadata": {},
     "output_type": "execute_result"
    }
   ],
   "source": [
    "model.score(x_test, y_test)"
   ]
  },
  {
   "cell_type": "code",
   "execution_count": 88,
   "id": "3b791948",
   "metadata": {
    "ExecuteTime": {
     "end_time": "2021-12-08T14:13:09.803428Z",
     "start_time": "2021-12-08T14:13:09.779774Z"
    }
   },
   "outputs": [
    {
     "data": {
      "text/plain": [
       "array([[27,  0,  0,  0,  0,  0,  0,  0,  0,  0],\n",
       "       [ 0, 33,  0,  0,  0,  0,  0,  0,  1,  1],\n",
       "       [ 2,  0, 34,  0,  0,  0,  0,  0,  0,  0],\n",
       "       [ 0,  0,  1, 28,  0,  0,  0,  0,  0,  0],\n",
       "       [ 0,  0,  0,  0, 29,  0,  0,  1,  0,  0],\n",
       "       [ 0,  0,  0,  0,  0, 39,  0,  0,  0,  1],\n",
       "       [ 0,  1,  0,  0,  0,  0, 43,  0,  0,  0],\n",
       "       [ 0,  0,  0,  0,  0,  0,  0, 39,  0,  0],\n",
       "       [ 0,  2,  1,  2,  0,  0,  0,  0, 34,  0],\n",
       "       [ 0,  0,  0,  1,  0,  1,  0,  2,  1, 36]], dtype=int64)"
      ]
     },
     "execution_count": 88,
     "metadata": {},
     "output_type": "execute_result"
    }
   ],
   "source": [
    "confusion_matrix(y_test, y_pred)"
   ]
  },
  {
   "cell_type": "code",
   "execution_count": 95,
   "id": "637d2ead",
   "metadata": {
    "ExecuteTime": {
     "end_time": "2021-12-08T14:18:01.771101Z",
     "start_time": "2021-12-08T14:18:00.510360Z"
    }
   },
   "outputs": [
    {
     "data": {
      "image/png": "[encoded data removed]",
      "text/plain": [
       "<Figure size 576x576 with 1 Axes>"
      ]
     },
     "metadata": {
      "needs_background": "light"
     },
     "output_type": "display_data"
    }
   ],
   "source": [
    "cm = confusion_matrix(y_test, y_pred)\n",
    "\n",
    "fig, ax = plt.subplots(figsize=(8,8))\n",
    "ax.imshow(cm)\n",
    "ax.grid(False)\n",
    "ax.xaxis.set(ticks=range(10))\n",
    "ax.yaxis.set(ticks=range(10))\n",
    "ax.set_ylim(9.5, -.5)\n",
    "for i in range(10):\n",
    "    for j in range(10):\n",
    "        ax.text(j, i, cm[i, j], ha='center', va='center', color='red')\n",
    "plt.show()"
   ]
  },
  {
   "cell_type": "code",
   "execution_count": 97,
   "id": "51759ca8",
   "metadata": {
    "ExecuteTime": {
     "end_time": "2021-12-08T14:20:00.121447Z",
     "start_time": "2021-12-08T14:20:00.099508Z"
    }
   },
   "outputs": [
    {
     "data": {
      "text/plain": [
       "array([ 0.,  0.,  5., 13.,  9.,  1.,  0.,  0.,  0.,  0., 13., 15., 10.,\n",
       "       15.,  5.,  0.,  0.,  3., 15.,  2.,  0., 11.,  8.,  0.,  0.,  4.,\n",
       "       12.,  0.,  0.,  8.,  8.,  0.,  0.,  5.,  8.,  0.,  0.,  9.,  8.,\n",
       "        0.,  0.,  4., 11.,  0.,  1., 12.,  7.,  0.,  0.,  2., 14.,  5.,\n",
       "       10., 12.,  0.,  0.,  0.,  0.,  6., 13., 10.,  0.,  0.,  0.])"
      ]
     },
     "execution_count": 97,
     "metadata": {},
     "output_type": "execute_result"
    }
   ],
   "source": [
    "x[0]"
   ]
  },
  {
   "cell_type": "code",
   "execution_count": 96,
   "id": "86472e4c",
   "metadata": {
    "ExecuteTime": {
     "end_time": "2021-12-08T14:18:38.714145Z",
     "start_time": "2021-12-08T14:18:38.684033Z"
    }
   },
   "outputs": [
    {
     "name": "stdout",
     "output_type": "stream",
     "text": [
      "              precision    recall  f1-score   support\n",
      "\n",
      "           0       0.93      1.00      0.96        27\n",
      "           1       0.92      0.94      0.93        35\n",
      "           2       0.94      0.94      0.94        36\n",
      "           3       0.90      0.97      0.93        29\n",
      "           4       1.00      0.97      0.98        30\n",
      "           5       0.97      0.97      0.97        40\n",
      "           6       1.00      0.98      0.99        44\n",
      "           7       0.93      1.00      0.96        39\n",
      "           8       0.94      0.87      0.91        39\n",
      "           9       0.95      0.88      0.91        41\n",
      "\n",
      "    accuracy                           0.95       360\n",
      "   macro avg       0.95      0.95      0.95       360\n",
      "weighted avg       0.95      0.95      0.95       360\n",
      "\n"
     ]
    }
   ],
   "source": [
    "print(classification_report(y_test, y_pred))"
   ]
  },
  {
   "cell_type": "code",
   "execution_count": 99,
   "id": "da9ef144",
   "metadata": {
    "ExecuteTime": {
     "end_time": "2021-12-08T14:50:31.725910Z",
     "start_time": "2021-12-08T14:50:31.709889Z"
    }
   },
   "outputs": [],
   "source": [
    "weather = ['S', 'S', 'O', 'R', 'R', 'R', 'O', 'S', 'S', 'R' ,'S', 'O', 'O', 'R']\n",
    "temp = ['H', 'H', 'H', 'M', 'C', 'C', 'C', 'M', 'C', 'M', 'M', 'M','H','M']\n",
    "play = ['N','N','Y','Y','Y','N','Y','N','Y','Y','Y','Y','Y', 'N']"
   ]
  },
  {
   "cell_type": "code",
   "execution_count": 100,
   "id": "1097d368",
   "metadata": {
    "ExecuteTime": {
     "end_time": "2021-12-08T14:50:54.937352Z",
     "start_time": "2021-12-08T14:50:54.933363Z"
    }
   },
   "outputs": [],
   "source": [
    "from sklearn.preprocessing import LabelEncoder"
   ]
  },
  {
   "cell_type": "code",
   "execution_count": 101,
   "id": "741b81f0",
   "metadata": {
    "ExecuteTime": {
     "end_time": "2021-12-08T14:51:15.620417Z",
     "start_time": "2021-12-08T14:51:15.605759Z"
    }
   },
   "outputs": [
    {
     "name": "stdout",
     "output_type": "stream",
     "text": [
      "[2 2 0 1 1 1 0 2 2 1 2 0 0 1]\n"
     ]
    }
   ],
   "source": [
    "le = LabelEncoder()\n",
    "\n",
    "weather_ec = le.fit_transform(weather)\n",
    "print(weather_ec)"
   ]
  },
  {
   "cell_type": "code",
   "execution_count": 102,
   "id": "fa15c911",
   "metadata": {
    "ExecuteTime": {
     "end_time": "2021-12-08T14:51:45.849153Z",
     "start_time": "2021-12-08T14:51:45.836091Z"
    }
   },
   "outputs": [
    {
     "name": "stdout",
     "output_type": "stream",
     "text": [
      "[1 1 1 2 0 0 0 2 0 2 2 2 1 2]\n"
     ]
    }
   ],
   "source": [
    "temp_ec = le.fit_transform(temp)\n",
    "print(temp_ec)"
   ]
  },
  {
   "cell_type": "code",
   "execution_count": 105,
   "id": "efa06d60",
   "metadata": {
    "ExecuteTime": {
     "end_time": "2021-12-08T14:53:45.952124Z",
     "start_time": "2021-12-08T14:53:45.937034Z"
    }
   },
   "outputs": [
    {
     "name": "stdout",
     "output_type": "stream",
     "text": [
      "[0 0 1 1 1 0 1 0 1 1 1 1 1 0]\n"
     ]
    }
   ],
   "source": [
    "label = le.fit_transform(play)\n",
    "print(label)"
   ]
  },
  {
   "cell_type": "code",
   "execution_count": 103,
   "id": "bd82f72b",
   "metadata": {
    "ExecuteTime": {
     "end_time": "2021-12-08T14:52:05.509618Z",
     "start_time": "2021-12-08T14:52:05.502985Z"
    }
   },
   "outputs": [
    {
     "name": "stdout",
     "output_type": "stream",
     "text": [
      "[(2, 1), (2, 1), (0, 1), (1, 2), (1, 0), (1, 0), (0, 0), (2, 2), (2, 0), (1, 2), (2, 2), (0, 2), (0, 1), (1, 2)]\n"
     ]
    }
   ],
   "source": [
    "features = list(zip(weather_ec, temp_ec))\n",
    "print(features)"
   ]
  },
  {
   "cell_type": "code",
   "execution_count": 107,
   "id": "9d87ee11",
   "metadata": {
    "ExecuteTime": {
     "end_time": "2021-12-08T14:54:28.956240Z",
     "start_time": "2021-12-08T14:54:28.879190Z"
    }
   },
   "outputs": [
    {
     "data": {
      "text/plain": [
       "KNeighborsClassifier(n_neighbors=3)"
      ]
     },
     "execution_count": 107,
     "metadata": {},
     "output_type": "execute_result"
    }
   ],
   "source": [
    "from sklearn.neighbors import KNeighborsClassifier\n",
    "model = KNeighborsClassifier(n_neighbors=3)\n",
    "\n",
    "model.fit(features, label)"
   ]
  },
  {
   "cell_type": "code",
   "execution_count": 111,
   "id": "0e78bdad",
   "metadata": {
    "ExecuteTime": {
     "end_time": "2021-12-08T15:00:03.491931Z",
     "start_time": "2021-12-08T15:00:03.482843Z"
    }
   },
   "outputs": [],
   "source": [
    "for i in range(40):\n",
    "    i = i + 1\n",
    "    model = KNeighborsClassifier(n_neighbors=i)\n",
    "    model.fit(features, label)"
   ]
  },
  {
   "cell_type": "code",
   "execution_count": null,
   "id": "9885e8d2",
   "metadata": {},
   "outputs": [],
   "source": [
    "for i in range(40):\n",
    "model = KNeighborsClassifier(n_neighbors=i)\n",
    "\n",
    "model.fit(features, label)"
   ]
  },
  {
   "cell_type": "code",
   "execution_count": 108,
   "id": "65c5cb47",
   "metadata": {
    "ExecuteTime": {
     "end_time": "2021-12-08T14:54:56.078332Z",
     "start_time": "2021-12-08T14:54:56.054565Z"
    }
   },
   "outputs": [
    {
     "name": "stdout",
     "output_type": "stream",
     "text": [
      "[1]\n"
     ]
    }
   ],
   "source": [
    "predicted = model.predict([[0, 2]])\n",
    "print(predicted)"
   ]
  }
 ],
 "metadata": {
  "kernelspec": {
   "display_name": "Python 3",
   "language": "python",
   "name": "python3"
  },
  "language_info": {
   "codemirror_mode": {
    "name": "ipython",
    "version": 3
   },
   "file_extension": ".py",
   "mimetype": "text/x-python",
   "name": "python",
   "nbconvert_exporter": "python",
   "pygments_lexer": "ipython3",
   "version": "3.8.8"
  }
 },
 "nbformat": 4,
 "nbformat_minor": 5
}
