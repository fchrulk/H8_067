{
 "cells": [
  {
   "cell_type": "code",
   "execution_count": 2,
   "id": "2f54688e",
   "metadata": {
    "ExecuteTime": {
     "end_time": "2021-12-22T13:06:37.307309Z",
     "start_time": "2021-12-22T13:06:37.289918Z"
    }
   },
   "outputs": [
    {
     "ename": "SyntaxError",
     "evalue": "invalid syntax (<ipython-input-2-f179034fdaff>, line 1)",
     "output_type": "error",
     "traceback": [
      "\u001b[1;36m  File \u001b[1;32m\"<ipython-input-2-f179034fdaff>\"\u001b[1;36m, line \u001b[1;32m1\u001b[0m\n\u001b[1;33m    <!DOCTYPE html>\u001b[0m\n\u001b[1;37m    ^\u001b[0m\n\u001b[1;31mSyntaxError\u001b[0m\u001b[1;31m:\u001b[0m invalid syntax\n"
     ]
    }
   ],
   "source": [
    "<!DOCTYPE html>\n",
    "<html>\n",
    "    <head>\n",
    "      <title>Page Title</title>\n",
    "    </head>\n",
    "    \n",
    "    <body>\n",
    "\n",
    "      <h1>My First Heading</h1>\n",
    "      <p>My first paragraph.</p>\n",
    "\n",
    "    </body>\n",
    "</html>"
   ]
  },
  {
   "cell_type": "markdown",
   "id": "da773702",
   "metadata": {},
   "source": [
    "<h1>My First Heading</h1>\n",
    "<h2>My First Heading</h2>\n",
    "<h3>My First Heading</h3>\n",
    "<p>My first paragraph.</p>"
   ]
  },
  {
   "cell_type": "markdown",
   "id": "1a08011b",
   "metadata": {
    "ExecuteTime": {
     "end_time": "2021-12-22T00:20:43.126187Z",
     "start_time": "2021-12-22T00:20:43.113975Z"
    }
   },
   "source": [
    "<!DOCTYPE html> mendefinisikan bahwa dokumen ini adalah dokumen HTML5\n",
    "<html> elemen adalah elemen root dari halaman HTML\n",
    "<head> elemen berisi informasi meta tentang halaman HTML\n",
    "<title> elemen menentukan judul untuk halaman HTML (yang ditampilkan di judul browser atau di tab halaman)\n",
    "<body> elemen mendefinisikan badan dokumen, dan merupakan wadah untuk semua konten yang terlihat, seperti headings, paragraphs, images, hyperlinks, tables, lists, dll.\n",
    "<h1> elemen mendefinisikan headingbesar\n",
    "The <p> element mendefinisikan sebuah paragraph"
   ]
  },
  {
   "cell_type": "markdown",
   "id": "efac1cb7",
   "metadata": {
    "ExecuteTime": {
     "end_time": "2021-12-22T00:21:19.531305Z",
     "start_time": "2021-12-22T00:21:19.521328Z"
    }
   },
   "source": [
    "<h1 style=\"color:blue;\">A Blue Heading</h1>\n",
    "\n",
    "<p style=\"color:red;\">A red paragraph.</p>"
   ]
  },
  {
   "cell_type": "code",
   "execution_count": null,
   "id": "215a3496",
   "metadata": {},
   "outputs": [],
   "source": [
    "Internal CSS"
   ]
  },
  {
   "cell_type": "markdown",
   "id": "1a4bafb3",
   "metadata": {},
   "source": [
    "<!DOCTYPE html>\n",
    "<html>\n",
    "<head>\n",
    "<style>\n",
    "  body {background-color: powderblue;}\n",
    "  h1   {color: blue;}\n",
    "  p    {color: red;}\n",
    "</style>\n",
    "</head>\n",
    "<body>\n",
    "\n",
    "  <h1>This is a heading</h1>\n",
    "  <p>This is a paragraph.</p>\n",
    "\n",
    "</body>\n",
    "</html>"
   ]
  },
  {
   "cell_type": "code",
   "execution_count": null,
   "id": "c63b70d9",
   "metadata": {},
   "outputs": [],
   "source": [
    "External CSS"
   ]
  },
  {
   "cell_type": "markdown",
   "id": "1309817a",
   "metadata": {},
   "source": [
    "<!DOCTYPE html>\n",
    "<html>\n",
    "<head>\n",
    "  <link rel=\"stylesheet\" href=\"styles.css\">\n",
    "</head>\n",
    "<body>\n",
    "\n",
    "  <h1>This is a heading</h1>\n",
    "  <p>This is a paragraph.</p>\n",
    "\n",
    "</body>\n",
    "</html>"
   ]
  },
  {
   "cell_type": "code",
   "execution_count": null,
   "id": "152b6345",
   "metadata": {},
   "outputs": [],
   "source": [
    "style.css"
   ]
  },
  {
   "cell_type": "markdown",
   "id": "71066d53",
   "metadata": {},
   "source": [
    "body {\n",
    "  background-color: powderblue;\n",
    "}\n",
    "h1 {\n",
    "  color: blue;\n",
    "}\n",
    "p {\n",
    "  color: red;\n",
    "}"
   ]
  },
  {
   "cell_type": "markdown",
   "id": "fddb4ff8",
   "metadata": {},
   "source": [
    "## Flask Introduction"
   ]
  },
  {
   "cell_type": "markdown",
   "id": "99562696",
   "metadata": {},
   "source": [
    "<strong>Path Structure</strong>\n",
    "<p style=\"font-family:consolas;\">\n",
    "H8Deployment/<br>\n",
    "<p style=\"color:blue; font-family:consolas;\">&emsp;    ├── model/</p>\n",
    "<p style=\"color:red; font-family:consolas;\">&emsp;    │   └── model_classifier.pkl</p>\n",
    "<p style=\"color:blue; font-family:consolas;\">&emsp;    ├── static</p>\n",
    "<p style=\"color:red; font-family:consolas;\">&emsp;    │   └── css</p>\n",
    "<p style=\"color:red; font-family:consolas;\">&emsp;    │        └── style.css</p>\n",
    "<p style=\"color:blue; font-family:consolas;\">&emsp;    ├── templates/</p>\n",
    "<p style=\"color:red; font-family:consolas;\">&emsp;    │   └── main.html</p>\n",
    "<p style=\"color:blue; font-family:consolas;\">&emsp;    └── app.py</p>\n",
    "</p>\n",
    "\n",
    "<p>\n",
    "<img align=\"left\" src=\"path_flask.jpg\" width=300/>\n",
    "<br>\n",
    "<br>\n",
    "</p>\n",
    "<br><br><br><br><br><br><br><br><br><br><br>\n",
    "<strong>Short Explanation</strong>\n",
    "\n",
    "1. model — Ini berisi kode untuk Machine Learning kita.\n",
    "2. app.py — Ini berisi Flask API yang menerima detail siswa melalui panggilan GUI atau API, menghitung nilai yang diprediksi berdasarkan model kita dan mengembalikannya.\n",
    "3. template — Folder ini berisi template HTML (main.html) untuk memungkinkan pengguna memasukkan detail siswa dan menampilkan nilai prediksi.\n",
    "4. static — Folder ini berisi folder css dengan file style.css yang memiliki stryleyang diperlukan untuk file main.html.\n",
    "</p>"
   ]
  },
  {
   "cell_type": "markdown",
   "id": "36e8a96c",
   "metadata": {},
   "source": [
    "## app.py"
   ]
  },
  {
   "cell_type": "code",
   "execution_count": 5,
   "id": "1884f9d5",
   "metadata": {
    "ExecuteTime": {
     "end_time": "2021-12-22T13:16:45.674183Z",
     "start_time": "2021-12-22T13:16:39.510221Z"
    }
   },
   "outputs": [
    {
     "name": "stdout",
     "output_type": "stream",
     "text": [
      " * Serving Flask app \"__main__\" (lazy loading)\n",
      " * Environment: production\n",
      "   WARNING: This is a development server. Do not use it in a production deployment.\n",
      "   Use a production WSGI server instead.\n",
      " * Debug mode: off\n"
     ]
    },
    {
     "name": "stderr",
     "output_type": "stream",
     "text": [
      " * Running on http://127.0.0.1:5000/ (Press CTRL+C to quit)\n"
     ]
    }
   ],
   "source": [
    "import flask\n",
    "\n",
    "app = flask.Flask(__name__, template_folder='templates')\n",
    "\n",
    "@app.route('/')\n",
    "def main():\n",
    "    return(flask.render_template('main.html'))\n",
    "\n",
    "if __name__ == '__main__':\n",
    "    app.run()"
   ]
  },
  {
   "cell_type": "markdown",
   "id": "93f9701e",
   "metadata": {},
   "source": [
    "## main.html"
   ]
  },
  {
   "cell_type": "markdown",
   "id": "92baed0f",
   "metadata": {
    "ExecuteTime": {
     "end_time": "2021-12-22T13:22:11.260755Z",
     "start_time": "2021-12-22T13:22:11.241042Z"
    }
   },
   "source": [
    "<!DOCTYPE html>\n",
    "<html lang=\"en\">\n",
    "<head>\n",
    "    <meta charset=\"UTF-8\">\n",
    "    <meta name=\"viewport\" content=\"width=device-width, initial-scale=1.0\">\n",
    "    <title>H8 Model Deployment</title>\n",
    "</head>\n",
    "<body>\n",
    "    <h1>Welcome to My First Flask Apps!</h1>\n",
    "</body>\n",
    "</html>"
   ]
  },
  {
   "cell_type": "markdown",
   "id": "3e970df1",
   "metadata": {},
   "source": [
    "## Add model to app.py"
   ]
  },
  {
   "cell_type": "code",
   "execution_count": null,
   "id": "52afa1a2",
   "metadata": {},
   "outputs": [],
   "source": [
    "import numpy as np\n",
    "import pickle\n",
    "\n",
    "model = pickle.load(open('model/model_classifier.pkl', 'rb'))"
   ]
  },
  {
   "cell_type": "markdown",
   "id": "469947a4",
   "metadata": {},
   "source": [
    "## Redirecting the API to predict the result"
   ]
  },
  {
   "cell_type": "code",
   "execution_count": null,
   "id": "0a07ebdd",
   "metadata": {},
   "outputs": [],
   "source": [
    "@app.route('/predict',methods=['POST'])\n",
    "def predict():\n",
    "    '''\n",
    "    For rendering results on HTML GUI\n",
    "    '''\n",
    "    int_features = [int(x) for x in flask.request.form.values()]\n",
    "    final_features = [np.array(int_features)]\n",
    "    prediction = model.predict(final_features)\n",
    "\n",
    "    output = {0: 'not placed', 1: 'placed'}\n",
    "\n",
    "    return flask.render_template('main.html', \n",
    "                                 prediction_text=output[prediction[0]],\n",
    "                                 prediction_text_title='Prediction Result')"
   ]
  },
  {
   "cell_type": "markdown",
   "id": "db266b93",
   "metadata": {},
   "source": [
    "## Final app.py"
   ]
  },
  {
   "cell_type": "code",
   "execution_count": null,
   "id": "54566a87",
   "metadata": {},
   "outputs": [],
   "source": [
    "import flask\n",
    "import numpy as np\n",
    "import pickle\n",
    "\n",
    "model = pickle.load(open('model/model_classifier.pkl', 'rb'))\n",
    "\n",
    "app = flask.Flask(__name__, template_folder='templates')\n",
    "\n",
    "@app.route('/')\n",
    "def main():\n",
    "    return(flask.render_template('main.html'))\n",
    "\n",
    "@app.route('/predict',methods=['POST'])\n",
    "def predict():\n",
    "    '''\n",
    "    For rendering results on HTML GUI\n",
    "    '''\n",
    "    int_features = [int(x) for x in flask.request.form.values()]\n",
    "    final_features = [np.array(int_features)]\n",
    "    prediction = model.predict(final_features)\n",
    "\n",
    "    output = {0: 'not placed', 1: 'placed'}\n",
    "\n",
    "    return flask.render_template('main.html', \n",
    "                                 prediction_text=output[prediction[0]],\n",
    "                                 prediction_text_title='Prediction Result')\n",
    "\n",
    "if __name__ == '__main__':\n",
    "    app.run(debug=True)"
   ]
  },
  {
   "cell_type": "markdown",
   "id": "24e3424e",
   "metadata": {},
   "source": [
    "## Final main.html"
   ]
  },
  {
   "cell_type": "code",
   "execution_count": null,
   "id": "43decabb",
   "metadata": {},
   "outputs": [],
   "source": [
    "<!DOCTYPE html>\n",
    "<html lang=\"en\">\n",
    "<head>\n",
    "    <meta charset=\"UTF-8\">\n",
    "    <meta name=\"viewport\" content=\"width=device-width, initial-scale=1.0\">\n",
    "    <title>H8 Model Deployment</title>\n",
    "</head>\n",
    "<body>\n",
    "\n",
    "    <div class=\"form\">\n",
    "        <h1>Hacktiv8 Student Placement Classification</h1>\n",
    "        <h4>Random Forest Model by Fachrul K</h4>\n",
    "\n",
    "        <form action=\"{{ url_for('predict') }}\" method=\"post\">\n",
    "            <input type=\"text\" name=\"ssc\" placeholder=\"Secondary Education Score\" required=\"required\" />\n",
    "            <br>\n",
    "            <br>\n",
    "            <input type=\"text\" name=\"hsc\" placeholder=\"Highschool Score\" required=\"required\" />\n",
    "            <br>\n",
    "            <br>\n",
    "            <input type=\"text\" name=\"degree\" placeholder=\"Degree Score\" required=\"required\" />\n",
    "            <br>\n",
    "            <br>\n",
    "            <input type=\"text\" name=\"etest\" placeholder=\"Interview Score\" required=\"required\" />\n",
    "            <br>\n",
    "            <br>\n",
    "            <button type=\"submit\" class=\"btn btn-primary btn-block btn-large\">Predict</button>\n",
    "        </form>\n",
    "        <br>\n",
    "        <br>\n",
    "        <p style=\"font-family: consolas;\"><strong>{{ prediction_text_title }}</strong></p>\n",
    "        <p class=\"message\" style=\"font-family: consolas;\">&emsp; &emsp; Student must be <strong style=\"color: red;\">{{ prediction_text }}</strong> to workplace</p>\n",
    "    </div>\n",
    "\n",
    "</body>\n",
    "</html>"
   ]
  }
 ],
 "metadata": {
  "kernelspec": {
   "display_name": "Python 3",
   "language": "python",
   "name": "python3"
  },
  "language_info": {
   "codemirror_mode": {
    "name": "ipython",
    "version": 3
   },
   "file_extension": ".py",
   "mimetype": "text/x-python",
   "name": "python",
   "nbconvert_exporter": "python",
   "pygments_lexer": "ipython3",
   "version": "3.8.8"
  }
 },
 "nbformat": 4,
 "nbformat_minor": 5
}
