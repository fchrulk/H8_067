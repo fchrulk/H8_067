{
 "cells": [
  {
   "cell_type": "markdown",
   "id": "6a9f514d",
   "metadata": {},
   "source": [
    "## Functions"
   ]
  },
  {
   "cell_type": "code",
   "execution_count": null,
   "id": "02b0c6d8",
   "metadata": {
    "ExecuteTime": {
     "end_time": "2021-11-01T12:41:23.930209Z",
     "start_time": "2021-11-01T12:41:23.904745Z"
    }
   },
   "outputs": [],
   "source": [
    "def hitung(angka_1, angka_2, angka_3):\n",
    "    \"Contoh hitung\"\n",
    "    result = angka_1 + angka_2\n",
    "    result = result / angka_3\n",
    "    print('Result =', result)\n",
    "    \n",
    "    return result\n",
    "\n",
    "x = 10\n",
    "y = 20\n",
    "z = 3\n",
    "\n",
    "ABC = hitung(angka_1=x, angka_2=y, angka_3=z)"
   ]
  },
  {
   "cell_type": "code",
   "execution_count": null,
   "id": "c4ed5672",
   "metadata": {
    "ExecuteTime": {
     "end_time": "2021-11-01T12:41:24.353019Z",
     "start_time": "2021-11-01T12:41:24.072913Z"
    }
   },
   "outputs": [],
   "source": [
    "print(result)"
   ]
  },
  {
   "cell_type": "code",
   "execution_count": null,
   "id": "1341f9bb",
   "metadata": {
    "ExecuteTime": {
     "end_time": "2021-11-01T12:41:24.359999Z",
     "start_time": "2021-11-01T12:41:24.211Z"
    }
   },
   "outputs": [],
   "source": [
    "print(result)"
   ]
  },
  {
   "cell_type": "code",
   "execution_count": null,
   "id": "813675ed",
   "metadata": {
    "ExecuteTime": {
     "end_time": "2021-11-01T12:41:24.478735Z",
     "start_time": "2021-11-01T12:41:24.465775Z"
    }
   },
   "outputs": [],
   "source": [
    "print(ABC)"
   ]
  },
  {
   "cell_type": "code",
   "execution_count": null,
   "id": "a2d7ff30",
   "metadata": {
    "ExecuteTime": {
     "end_time": "2021-11-01T12:41:24.571662Z",
     "start_time": "2021-11-01T12:41:24.552746Z"
    }
   },
   "outputs": [],
   "source": [
    "hitung() # shift + tab untuk lihat detail function"
   ]
  },
  {
   "cell_type": "code",
   "execution_count": null,
   "id": "d47b525e",
   "metadata": {
    "ExecuteTime": {
     "end_time": "2021-11-01T12:41:24.743249Z",
     "start_time": "2021-11-01T12:41:24.734273Z"
    }
   },
   "outputs": [],
   "source": [
    "def edit_list(mylist):\n",
    "    \"Contoh list\"\n",
    "    mylist.extend(['A', 'B', 'C'])\n",
    "\n",
    "mylist = [1, 2, 3]\n",
    "print('Before using func : ')\n",
    "print(mylist)\n",
    "\n",
    "print('After using func : ')\n",
    "edit_list(mylist)\n",
    "print(mylist)"
   ]
  },
  {
   "cell_type": "code",
   "execution_count": null,
   "id": "1c4722a1",
   "metadata": {
    "ExecuteTime": {
     "end_time": "2021-11-01T12:41:24.929068Z",
     "start_time": "2021-11-01T12:41:24.915105Z"
    }
   },
   "outputs": [],
   "source": [
    "def edit_number(mynum):\n",
    "    \"Contoh list\"\n",
    "    mynum = mynum + 5\n",
    "    print(mynum)\n",
    "\n",
    "mynum = 5\n",
    "print('Before using func : ')\n",
    "print(mynum)\n",
    "\n",
    "print('After using func : ')\n",
    "edit_number(mynum)\n",
    "print(mynum)"
   ]
  },
  {
   "cell_type": "code",
   "execution_count": null,
   "id": "894ef6ef",
   "metadata": {
    "ExecuteTime": {
     "end_time": "2021-11-01T12:41:25.131588Z",
     "start_time": "2021-11-01T12:41:25.112673Z"
    }
   },
   "outputs": [],
   "source": [
    "def edit_number(mynum):\n",
    "    \"Contoh list\"\n",
    "    mynum = mynum + 5\n",
    "    \n",
    "    return mynum\n",
    "\n",
    "mynum = 5\n",
    "print('Before using func : ')\n",
    "print(mynum)\n",
    "\n",
    "print('After using func : ')\n",
    "mynum = edit_number(mynum)\n",
    "print(mynum)"
   ]
  },
  {
   "cell_type": "code",
   "execution_count": null,
   "id": "f666a32c",
   "metadata": {
    "ExecuteTime": {
     "end_time": "2021-11-01T12:41:25.287041Z",
     "start_time": "2021-11-01T12:41:25.282055Z"
    }
   },
   "outputs": [],
   "source": [
    "def edit_list(mylist):\n",
    "    \"Contoh list\"\n",
    "    mylist = ['A', 'B', 'C']\n",
    "    print('Inside func', mylist)\n",
    "\n",
    "mylist = [1, 2, 3]\n",
    "\n",
    "edit_list(mylist)\n",
    "print('Outside func', mylist)"
   ]
  },
  {
   "cell_type": "code",
   "execution_count": null,
   "id": "9c214a30",
   "metadata": {
    "ExecuteTime": {
     "end_time": "2021-11-01T12:41:25.473648Z",
     "start_time": "2021-11-01T12:41:25.447720Z"
    }
   },
   "outputs": [],
   "source": [
    "def edit_list(mylist):\n",
    "    \"Contoh list\"\n",
    "    mylist.extend(['A', 'B', 'C'])\n",
    "\n",
    "mylist = \"A\"\n",
    "print('Before using func : ')\n",
    "print(mylist)\n",
    "\n",
    "print()\n",
    "print('After using func : ')\n",
    "edit_list(mylist)\n",
    "print(mylist)"
   ]
  },
  {
   "cell_type": "code",
   "execution_count": null,
   "id": "1ebb141b",
   "metadata": {
    "ExecuteTime": {
     "end_time": "2021-11-01T12:41:25.645547Z",
     "start_time": "2021-11-01T12:41:25.620598Z"
    }
   },
   "outputs": [],
   "source": [
    "def func_1(A, B, C):\n",
    "    print(A)\n",
    "    print(B)\n",
    "    print(C)\n",
    "    \n",
    "func_1()"
   ]
  },
  {
   "cell_type": "code",
   "execution_count": null,
   "id": "d305e102",
   "metadata": {
    "ExecuteTime": {
     "end_time": "2021-11-01T12:41:26.145364Z",
     "start_time": "2021-11-01T12:41:26.126831Z"
    }
   },
   "outputs": [],
   "source": [
    "def func_1(A, B, C):\n",
    "    print(A)\n",
    "    print(B)\n",
    "    print(C)\n",
    "    \n",
    "func_1('A', 1, '3')"
   ]
  },
  {
   "cell_type": "code",
   "execution_count": null,
   "id": "2cd8da1c",
   "metadata": {
    "ExecuteTime": {
     "end_time": "2021-11-01T12:41:26.490828Z",
     "start_time": "2021-11-01T12:41:26.474812Z"
    }
   },
   "outputs": [],
   "source": [
    "func_1(C='3', A='A', B=1)"
   ]
  },
  {
   "cell_type": "code",
   "execution_count": null,
   "id": "7af2c45d",
   "metadata": {
    "ExecuteTime": {
     "end_time": "2021-11-01T12:41:26.786768Z",
     "start_time": "2021-11-01T12:41:26.772776Z"
    }
   },
   "outputs": [],
   "source": [
    "func_1('3', 'A', 1)"
   ]
  },
  {
   "cell_type": "code",
   "execution_count": null,
   "id": "3a800e89",
   "metadata": {
    "ExecuteTime": {
     "end_time": "2021-11-01T12:41:27.161680Z",
     "start_time": "2021-11-01T12:41:27.152708Z"
    }
   },
   "outputs": [],
   "source": [
    "def func_1(A, B=2, C=4):\n",
    "    print(A)\n",
    "    print(B)\n",
    "    print(C)\n",
    "    \n",
    "func_1(1, 10)"
   ]
  },
  {
   "cell_type": "code",
   "execution_count": null,
   "id": "588f70df",
   "metadata": {
    "ExecuteTime": {
     "end_time": "2021-11-01T12:41:27.438214Z",
     "start_time": "2021-11-01T12:41:27.416047Z"
    }
   },
   "outputs": [],
   "source": [
    "def func_1(A):\n",
    "    print('Outpur is: ', A)\n",
    "    for var in vartuple:\n",
    "        print(var)\n",
    "    \n",
    "func_1(1, 2)"
   ]
  },
  {
   "cell_type": "code",
   "execution_count": null,
   "id": "578f14ce",
   "metadata": {
    "ExecuteTime": {
     "end_time": "2021-11-01T12:41:27.751311Z",
     "start_time": "2021-11-01T12:41:27.729375Z"
    }
   },
   "outputs": [],
   "source": [
    "def func_1(A, *vartuple):\n",
    "    print('Outpur is: ', A)\n",
    "    print(vartuple)\n",
    "    for var in vartuple:\n",
    "        print(var)\n",
    "    \n",
    "func_1('1')\n",
    "print('-'*40)\n",
    "func_1(1, 2, 10, 239, 67)"
   ]
  },
  {
   "cell_type": "code",
   "execution_count": null,
   "id": "1bf25e39",
   "metadata": {
    "ExecuteTime": {
     "end_time": "2021-11-01T12:41:28.470893Z",
     "start_time": "2021-11-01T12:41:28.450885Z"
    }
   },
   "outputs": [],
   "source": [
    "sum([1,2,3])"
   ]
  },
  {
   "cell_type": "code",
   "execution_count": null,
   "id": "2340ff86",
   "metadata": {
    "ExecuteTime": {
     "end_time": "2021-11-01T12:41:31.023798Z",
     "start_time": "2021-11-01T12:41:31.005944Z"
    }
   },
   "outputs": [],
   "source": [
    "print('H')"
   ]
  },
  {
   "cell_type": "code",
   "execution_count": null,
   "id": "d64ffdd4",
   "metadata": {
    "ExecuteTime": {
     "end_time": "2021-11-01T12:42:35.028348Z",
     "start_time": "2021-11-01T12:42:35.007405Z"
    }
   },
   "outputs": [],
   "source": [
    "sum_ = lambda x, y, z: x + y + z\n"
   ]
  },
  {
   "cell_type": "code",
   "execution_count": null,
   "id": "2073707b",
   "metadata": {
    "ExecuteTime": {
     "end_time": "2021-11-01T12:45:45.657519Z",
     "start_time": "2021-11-01T12:45:45.634031Z"
    }
   },
   "outputs": [],
   "source": [
    "def sum_(arg1, arg2):\n",
    "    total = arg1 + arg2\n",
    "    total2 = total + arg1\n",
    "    print('Inside', total2)\n",
    "    return total2\n",
    "\n",
    "total = 0\n",
    "print(total)\n",
    "total = sum_(10, 20)\n",
    "print('Outside' , total)"
   ]
  },
  {
   "cell_type": "code",
   "execution_count": null,
   "id": "d5fea36d",
   "metadata": {
    "ExecuteTime": {
     "end_time": "2021-11-01T12:49:50.169264Z",
     "start_time": "2021-11-01T12:49:50.146730Z"
    }
   },
   "outputs": [],
   "source": [
    "x = 10\n",
    "\n",
    "def test(x):\n",
    "    print('Global', x)\n",
    "    x = 30\n",
    "    y = 1000\n",
    "    print('Local', x)\n",
    "    return y\n",
    "    \n",
    "y = test(x)\n",
    "print('Global', x)"
   ]
  },
  {
   "cell_type": "code",
   "execution_count": null,
   "id": "296b651a",
   "metadata": {
    "ExecuteTime": {
     "end_time": "2021-11-01T12:52:10.561235Z",
     "start_time": "2021-11-01T12:52:10.543168Z"
    }
   },
   "outputs": [],
   "source": [
    "def test(x, y, z):\n",
    "    total1 = x + y\n",
    "    total2 = x + z\n",
    "    mylist = ['A']\n",
    "    return total1, total2, mylist\n",
    "\n",
    "A = test(1,2,3)\n",
    "print(A)"
   ]
  },
  {
   "cell_type": "code",
   "execution_count": null,
   "id": "d4be0625",
   "metadata": {
    "ExecuteTime": {
     "end_time": "2021-11-01T12:52:14.618925Z",
     "start_time": "2021-11-01T12:52:14.607174Z"
    }
   },
   "outputs": [],
   "source": [
    "A, B, C = test(1,2,3)\n",
    "print(A, B, C)"
   ]
  },
  {
   "cell_type": "code",
   "execution_count": null,
   "id": "8fc545ea",
   "metadata": {
    "ExecuteTime": {
     "end_time": "2021-11-01T12:51:42.982831Z",
     "start_time": "2021-11-01T12:51:42.967253Z"
    }
   },
   "outputs": [],
   "source": [
    "B"
   ]
  },
  {
   "cell_type": "code",
   "execution_count": null,
   "id": "5c843563",
   "metadata": {
    "ExecuteTime": {
     "end_time": "2021-11-01T12:55:22.039013Z",
     "start_time": "2021-11-01T12:55:22.030940Z"
    }
   },
   "outputs": [],
   "source": [
    "jumlah_kucing = 20\n",
    "\n",
    "def jumlahHewan():\n",
    "    jumlah_anjing = 30\n",
    "    return jumlah_kucing + jumlah_anjing\n",
    "\n",
    "def bagiKelinci():\n",
    "    return jumlah_kucing + jumlah_kucing + jumlah_anjing\n",
    "\n"
   ]
  },
  {
   "cell_type": "code",
   "execution_count": null,
   "id": "68fd41ae",
   "metadata": {
    "ExecuteTime": {
     "end_time": "2021-11-01T12:54:41.495099Z",
     "start_time": "2021-11-01T12:54:41.474978Z"
    }
   },
   "outputs": [],
   "source": [
    "jumlahHewan()"
   ]
  },
  {
   "cell_type": "code",
   "execution_count": null,
   "id": "4b9bdbaa",
   "metadata": {
    "ExecuteTime": {
     "end_time": "2021-11-01T12:55:23.924483Z",
     "start_time": "2021-11-01T12:55:23.897603Z"
    }
   },
   "outputs": [],
   "source": [
    "jumlahKelinci()"
   ]
  },
  {
   "cell_type": "code",
   "execution_count": null,
   "id": "569e4a3d",
   "metadata": {
    "ExecuteTime": {
     "end_time": "2021-11-01T12:57:59.568941Z",
     "start_time": "2021-11-01T12:57:59.553835Z"
    }
   },
   "outputs": [],
   "source": [
    "hitung(2,4,6)"
   ]
  },
  {
   "cell_type": "code",
   "execution_count": null,
   "id": "19965072",
   "metadata": {},
   "outputs": [],
   "source": [
    "def func_1(A, B, ...., I):\n",
    "    print(A)\n",
    "    print(B)\n",
    "    print(C)\n",
    "    print(D)\n",
    "    print(E)\n",
    "    print(F)\n",
    "    print(G)\n",
    "    print(H)\n",
    "    print(I)"
   ]
  },
  {
   "cell_type": "markdown",
   "id": "c2d03b7a",
   "metadata": {},
   "source": [
    "<package>\n",
    "    <module>\n",
    "        <function>\n",
    "            <statement / command>"
   ]
  },
  {
   "cell_type": "code",
   "execution_count": null,
   "id": "db4c2228",
   "metadata": {
    "ExecuteTime": {
     "end_time": "2021-11-01T13:04:49.773282Z",
     "start_time": "2021-11-01T13:04:49.755236Z"
    }
   },
   "outputs": [],
   "source": [
    "class ABC:\n",
    "    def test(x, y, z):\n",
    "        def dalam_test(x):\n",
    "            print('Dalam test', x)\n",
    "\n",
    "        dalam_test(x)\n",
    "        print('test', x+y+z)\n",
    "\n",
    "    def test(x, y, z):\n",
    "\n",
    "        def dalam_test(x):\n",
    "            print('Dalam test', x)\n",
    "\n",
    "        dalam_test(x)\n",
    "        print('test', x+y+z)"
   ]
  },
  {
   "cell_type": "code",
   "execution_count": null,
   "id": "650423f0",
   "metadata": {
    "ExecuteTime": {
     "end_time": "2021-11-01T13:04:51.131305Z",
     "start_time": "2021-11-01T13:04:51.124025Z"
    }
   },
   "outputs": [],
   "source": [
    "test(1,2,3)"
   ]
  },
  {
   "cell_type": "code",
   "execution_count": null,
   "id": "47b9975e",
   "metadata": {
    "ExecuteTime": {
     "end_time": "2021-11-01T13:07:56.551120Z",
     "start_time": "2021-11-01T13:07:56.532169Z"
    }
   },
   "outputs": [],
   "source": [
    "s = \"Hacktiv8-PTP Python for DS\"\n",
    "a = [100, 200, 300]\n",
    "\n",
    "def foo(arg):\n",
    "    print(f'arg = {arg}')\n",
    "    print('arg_lain = {}'.format(arg))\n",
    "    \n",
    "class Foo:\n",
    "    pass"
   ]
  },
  {
   "cell_type": "code",
   "execution_count": null,
   "id": "e45da651",
   "metadata": {
    "ExecuteTime": {
     "end_time": "2021-11-01T13:16:29.294749Z",
     "start_time": "2021-11-01T13:16:29.279139Z"
    }
   },
   "outputs": [],
   "source": [
    "from NEW import mod"
   ]
  },
  {
   "cell_type": "code",
   "execution_count": null,
   "id": "056bd098",
   "metadata": {
    "ExecuteTime": {
     "end_time": "2021-11-01T13:20:03.593820Z",
     "start_time": "2021-11-01T13:20:03.578755Z"
    }
   },
   "outputs": [],
   "source": [
    "--> import mod\n",
    "from mod import *"
   ]
  },
  {
   "cell_type": "code",
   "execution_count": null,
   "id": "388b895d",
   "metadata": {
    "ExecuteTime": {
     "end_time": "2021-11-01T13:18:28.838035Z",
     "start_time": "2021-11-01T13:18:28.820372Z"
    }
   },
   "outputs": [],
   "source": [
    "from mod import a, s"
   ]
  },
  {
   "cell_type": "code",
   "execution_count": null,
   "id": "a27f83d3",
   "metadata": {
    "ExecuteTime": {
     "end_time": "2021-11-01T13:19:37.238962Z",
     "start_time": "2021-11-01T13:19:37.229012Z"
    }
   },
   "outputs": [],
   "source": [
    "mod.F"
   ]
  },
  {
   "cell_type": "code",
   "execution_count": null,
   "id": "2fa5d117",
   "metadata": {
    "ExecuteTime": {
     "end_time": "2021-11-01T13:22:54.669476Z",
     "start_time": "2021-11-01T13:22:54.650504Z"
    }
   },
   "outputs": [],
   "source": [
    "from mod2 import *\n",
    "from mod import *"
   ]
  },
  {
   "cell_type": "code",
   "execution_count": null,
   "id": "f4469ae0",
   "metadata": {
    "ExecuteTime": {
     "end_time": "2021-11-01T13:23:29.483055Z",
     "start_time": "2021-11-01T13:23:29.468655Z"
    }
   },
   "outputs": [],
   "source": [
    "x = 1\n",
    "x = 10\n",
    "print(x)"
   ]
  },
  {
   "cell_type": "code",
   "execution_count": null,
   "id": "9e7a3841",
   "metadata": {
    "ExecuteTime": {
     "end_time": "2021-11-01T13:23:02.946884Z",
     "start_time": "2021-11-01T13:23:02.934376Z"
    }
   },
   "outputs": [],
   "source": [
    "foo('TESTING')"
   ]
  },
  {
   "cell_type": "code",
   "execution_count": null,
   "id": "063ec13c",
   "metadata": {
    "ExecuteTime": {
     "end_time": "2021-11-01T13:23:50.830767Z",
     "start_time": "2021-11-01T13:23:50.813805Z"
    }
   },
   "outputs": [],
   "source": [
    "import mod2\n",
    "import mod"
   ]
  },
  {
   "cell_type": "code",
   "execution_count": null,
   "id": "b928cc49",
   "metadata": {
    "ExecuteTime": {
     "end_time": "2021-11-01T13:24:01.446772Z",
     "start_time": "2021-11-01T13:24:01.431539Z"
    }
   },
   "outputs": [],
   "source": [
    "mod.foo('TESTING')\n",
    "mod2.foo('TESTING')"
   ]
  },
  {
   "cell_type": "code",
   "execution_count": null,
   "id": "ed785cd2",
   "metadata": {
    "ExecuteTime": {
     "end_time": "2021-11-01T13:25:40.387189Z",
     "start_time": "2021-11-01T13:25:40.372925Z"
    }
   },
   "outputs": [],
   "source": [
    "import importlib"
   ]
  },
  {
   "cell_type": "code",
   "execution_count": null,
   "id": "734e1049",
   "metadata": {
    "ExecuteTime": {
     "end_time": "2021-11-01T13:26:53.399631Z",
     "start_time": "2021-11-01T13:26:53.386802Z"
    }
   },
   "outputs": [],
   "source": [
    "import mod as module_1\n",
    "from mod2 import foo as foo_nya_2"
   ]
  },
  {
   "cell_type": "code",
   "execution_count": null,
   "id": "53be4e05",
   "metadata": {
    "ExecuteTime": {
     "end_time": "2021-11-01T13:28:26.822080Z",
     "start_time": "2021-11-01T13:28:26.809091Z"
    }
   },
   "outputs": [],
   "source": [
    "foo_nya_2('test')"
   ]
  },
  {
   "cell_type": "code",
   "execution_count": null,
   "id": "bde86589",
   "metadata": {
    "ExecuteTime": {
     "end_time": "2021-11-01T13:29:03.471714Z",
     "start_time": "2021-11-01T13:29:03.455715Z"
    }
   },
   "outputs": [],
   "source": [
    "from mod import a as ABC, s as XYZ"
   ]
  },
  {
   "cell_type": "code",
   "execution_count": null,
   "id": "b7dbfb05",
   "metadata": {
    "ExecuteTime": {
     "end_time": "2021-11-01T13:29:09.987129Z",
     "start_time": "2021-11-01T13:29:09.971171Z"
    }
   },
   "outputs": [],
   "source": [
    "ABC"
   ]
  },
  {
   "cell_type": "code",
   "execution_count": null,
   "id": "f4162b11",
   "metadata": {
    "ExecuteTime": {
     "end_time": "2021-11-01T13:29:13.709732Z",
     "start_time": "2021-11-01T13:29:13.694750Z"
    }
   },
   "outputs": [],
   "source": [
    "XYZ"
   ]
  },
  {
   "cell_type": "code",
   "execution_count": null,
   "id": "1455d5e4",
   "metadata": {},
   "outputs": [],
   "source": []
  },
  {
   "cell_type": "code",
   "execution_count": null,
   "id": "2ec67c59",
   "metadata": {
    "ExecuteTime": {
     "end_time": "2021-11-01T13:34:43.932089Z",
     "start_time": "2021-11-01T13:34:43.923598Z"
    }
   },
   "outputs": [],
   "source": [
    "from mod import X"
   ]
  },
  {
   "cell_type": "code",
   "execution_count": null,
   "id": "32826262",
   "metadata": {
    "ExecuteTime": {
     "end_time": "2021-11-01T13:36:05.469400Z",
     "start_time": "2021-11-01T13:36:05.450452Z"
    }
   },
   "outputs": [],
   "source": [
    "def test(A):\n",
    "    from mod import *\n",
    "    print('Testing', A)\n",
    "    for i in X:\n",
    "        print(i)\n",
    "    print(X)\n",
    "        \n",
    "test('A')"
   ]
  },
  {
   "cell_type": "code",
   "execution_count": null,
   "id": "74e5a865",
   "metadata": {
    "ExecuteTime": {
     "end_time": "2021-11-01T13:40:59.889452Z",
     "start_time": "2021-11-01T13:40:59.867998Z"
    }
   },
   "outputs": [],
   "source": [
    "import module_lagi"
   ]
  },
  {
   "cell_type": "code",
   "execution_count": null,
   "id": "e88eb700",
   "metadata": {
    "ExecuteTime": {
     "end_time": "2021-11-01T13:40:09.743353Z",
     "start_time": "2021-11-01T13:40:09.732804Z"
    }
   },
   "outputs": [],
   "source": [
    "try:\n",
    "    import module_lagi\n",
    "except ModuleNotFoundError:\n",
    "    print('Gagal import module \"module_lagi\"')\n",
    "\n",
    "print('Memulai program')"
   ]
  },
  {
   "cell_type": "code",
   "execution_count": null,
   "id": "944c963c",
   "metadata": {
    "ExecuteTime": {
     "end_time": "2021-11-01T13:42:42.674467Z",
     "start_time": "2021-11-01T13:42:42.656638Z"
    }
   },
   "outputs": [],
   "source": [
    "from mod import B\n",
    "\n",
    "print('Program RUN')"
   ]
  },
  {
   "cell_type": "code",
   "execution_count": null,
   "id": "fcadf741",
   "metadata": {
    "ExecuteTime": {
     "end_time": "2021-11-01T13:43:58.963673Z",
     "start_time": "2021-11-01T13:43:58.937780Z"
    }
   },
   "outputs": [],
   "source": [
    "import scrapy"
   ]
  },
  {
   "cell_type": "code",
   "execution_count": null,
   "id": "b35dee06",
   "metadata": {
    "ExecuteTime": {
     "end_time": "2021-11-01T13:43:17.017803Z",
     "start_time": "2021-11-01T13:43:17.000984Z"
    }
   },
   "outputs": [],
   "source": [
    "try:\n",
    "    from mod import B\n",
    "except Exception as ACS:\n",
    "    print('Gagal import module \"module_lagi\"')\n",
    "    \n",
    "    print(str(ACS))\n",
    "    \n",
    "print('Program RUN')"
   ]
  },
  {
   "cell_type": "code",
   "execution_count": null,
   "id": "0687a767",
   "metadata": {
    "ExecuteTime": {
     "end_time": "2021-11-01T13:46:06.590780Z",
     "start_time": "2021-11-01T13:46:06.571298Z"
    }
   },
   "outputs": [],
   "source": [
    "from mod import foo"
   ]
  },
  {
   "cell_type": "code",
   "execution_count": null,
   "id": "f9de6f64",
   "metadata": {
    "ExecuteTime": {
     "end_time": "2021-11-01T13:46:10.158737Z",
     "start_time": "2021-11-01T13:46:09.943217Z"
    }
   },
   "outputs": [],
   "source": [
    "foo('Test')"
   ]
  },
  {
   "cell_type": "code",
   "execution_count": null,
   "id": "a007b213",
   "metadata": {
    "ExecuteTime": {
     "end_time": "2021-11-01T13:48:58.674269Z",
     "start_time": "2021-11-01T13:48:58.660153Z"
    }
   },
   "outputs": [],
   "source": [
    "import mod"
   ]
  },
  {
   "cell_type": "code",
   "execution_count": null,
   "id": "83487606",
   "metadata": {
    "ExecuteTime": {
     "end_time": "2021-11-01T13:49:02.639522Z",
     "start_time": "2021-11-01T13:49:02.622457Z"
    }
   },
   "outputs": [],
   "source": [
    "dir(mod)"
   ]
  },
  {
   "cell_type": "code",
   "execution_count": null,
   "id": "f8536330",
   "metadata": {
    "ExecuteTime": {
     "end_time": "2021-11-01T13:49:29.932297Z",
     "start_time": "2021-11-01T13:49:29.289752Z"
    }
   },
   "outputs": [],
   "source": [
    "import pythonstrops"
   ]
  },
  {
   "cell_type": "code",
   "execution_count": null,
   "id": "554fcf26",
   "metadata": {
    "ExecuteTime": {
     "end_time": "2021-11-01T13:52:15.730179Z",
     "start_time": "2021-11-01T13:52:15.719997Z"
    }
   },
   "outputs": [],
   "source": [
    "from pythonstrops import connectdb"
   ]
  },
  {
   "cell_type": "code",
   "execution_count": null,
   "id": "d43d229b",
   "metadata": {},
   "outputs": [],
   "source": [
    "pythonstrops."
   ]
  },
  {
   "cell_type": "code",
   "execution_count": null,
   "id": "829812a2",
   "metadata": {},
   "outputs": [],
   "source": [
    "connectdb.sql()"
   ]
  },
  {
   "cell_type": "code",
   "execution_count": null,
   "id": "c785d9fa",
   "metadata": {},
   "outputs": [],
   "source": [
    "pythonstrops.dbconf()"
   ]
  },
  {
   "cell_type": "code",
   "execution_count": null,
   "id": "2ec8082c",
   "metadata": {
    "ExecuteTime": {
     "end_time": "2021-11-01T13:50:13.508489Z",
     "start_time": "2021-11-01T13:50:13.489922Z"
    }
   },
   "outputs": [],
   "source": [
    "- pythonstrops\n",
    "        - dbconf.py"
   ]
  },
  {
   "cell_type": "code",
   "execution_count": null,
   "id": "ed405066",
   "metadata": {
    "ExecuteTime": {
     "end_time": "2021-11-01T13:54:50.761965Z",
     "start_time": "2021-11-01T13:54:50.743400Z"
    }
   },
   "outputs": [],
   "source": [
    "dir(pythonstrops)"
   ]
  },
  {
   "cell_type": "code",
   "execution_count": null,
   "id": "b987ee1a",
   "metadata": {},
   "outputs": [],
   "source": []
  },
  {
   "cell_type": "code",
   "execution_count": null,
   "id": "a523fe17",
   "metadata": {
    "ExecuteTime": {
     "end_time": "2021-11-01T14:21:16.888518Z",
     "start_time": "2021-11-01T14:21:16.877003Z"
    }
   },
   "outputs": [],
   "source": [
    "import mod"
   ]
  },
  {
   "cell_type": "code",
   "execution_count": null,
   "id": "ca1d2dbf",
   "metadata": {
    "ExecuteTime": {
     "end_time": "2021-11-01T14:22:08.521405Z",
     "start_time": "2021-11-01T14:22:08.511921Z"
    }
   },
   "outputs": [],
   "source": [
    "mod.foo(10)"
   ]
  },
  {
   "cell_type": "code",
   "execution_count": null,
   "id": "9af3b455",
   "metadata": {
    "ExecuteTime": {
     "end_time": "2021-11-01T14:24:26.287847Z",
     "start_time": "2021-11-01T14:24:26.279394Z"
    }
   },
   "outputs": [],
   "source": [
    "from fact import fact"
   ]
  },
  {
   "cell_type": "code",
   "execution_count": null,
   "id": "9a35fd3d",
   "metadata": {
    "ExecuteTime": {
     "end_time": "2021-11-01T14:29:52.060399Z",
     "start_time": "2021-11-01T14:29:52.038910Z"
    }
   },
   "outputs": [],
   "source": [
    "n = 4\n",
    "fact(n)"
   ]
  },
  {
   "cell_type": "markdown",
   "id": "8e253871",
   "metadata": {},
   "source": [
    "n * fact(n-1)"
   ]
  },
  {
   "cell_type": "code",
   "execution_count": null,
   "id": "44023dc2",
   "metadata": {},
   "outputs": [],
   "source": [
    "6 * fact(5)"
   ]
  },
  {
   "cell_type": "code",
   "execution_count": null,
   "id": "491506ef",
   "metadata": {
    "ExecuteTime": {
     "end_time": "2021-11-01T14:25:02.399588Z",
     "start_time": "2021-11-01T14:25:02.387998Z"
    }
   },
   "outputs": [],
   "source": [
    "fact(1)"
   ]
  },
  {
   "cell_type": "code",
   "execution_count": null,
   "id": "6f408c17",
   "metadata": {
    "ExecuteTime": {
     "end_time": "2021-11-01T14:28:43.259048Z",
     "start_time": "2021-11-01T14:28:43.254043Z"
    }
   },
   "outputs": [],
   "source": [
    "def fact1(n):\n",
    "    print(n)\n",
    "    print(n * fact1(n-1))\n",
    "    return 1 if n == 1 else n * fact1(n-1)"
   ]
  },
  {
   "cell_type": "code",
   "execution_count": null,
   "id": "12b23444",
   "metadata": {},
   "outputs": [],
   "source": [
    "4 * 3 = 12\n",
    "3 * 2 = 6\n",
    "2 * 1 = 2\n",
    "1"
   ]
  },
  {
   "cell_type": "code",
   "execution_count": 6,
   "id": "f767e284",
   "metadata": {
    "ExecuteTime": {
     "end_time": "2021-11-01T14:38:39.737503Z",
     "start_time": "2021-11-01T14:38:39.720017Z"
    }
   },
   "outputs": [],
   "source": [
    "import mod"
   ]
  },
  {
   "cell_type": "code",
   "execution_count": 7,
   "id": "5f8f9f6e",
   "metadata": {
    "ExecuteTime": {
     "end_time": "2021-11-01T14:38:40.348620Z",
     "start_time": "2021-11-01T14:38:40.327984Z"
    }
   },
   "outputs": [
    {
     "data": {
      "text/plain": [
       "['Saya', 'Anda']"
      ]
     },
     "execution_count": 7,
     "metadata": {},
     "output_type": "execute_result"
    }
   ],
   "source": [
    "mod.X"
   ]
  },
  {
   "cell_type": "code",
   "execution_count": 8,
   "id": "0c6f65ed",
   "metadata": {
    "ExecuteTime": {
     "end_time": "2021-11-01T14:38:59.114898Z",
     "start_time": "2021-11-01T14:38:59.103416Z"
    }
   },
   "outputs": [],
   "source": [
    "import importlib"
   ]
  },
  {
   "cell_type": "code",
   "execution_count": 12,
   "id": "0cb366ce",
   "metadata": {
    "ExecuteTime": {
     "end_time": "2021-11-01T14:39:53.127403Z",
     "start_time": "2021-11-01T14:39:53.104466Z"
    }
   },
   "outputs": [
    {
     "data": {
      "text/plain": [
       "<module 'mod' from 'C:\\\\Users\\\\user\\\\Hacktiv8_BRIAGRO\\\\mod.py'>"
      ]
     },
     "execution_count": 12,
     "metadata": {},
     "output_type": "execute_result"
    }
   ],
   "source": [
    "importlib.reload(mod)"
   ]
  },
  {
   "cell_type": "code",
   "execution_count": 13,
   "id": "9e9a288c",
   "metadata": {
    "ExecuteTime": {
     "end_time": "2021-11-01T14:39:54.981954Z",
     "start_time": "2021-11-01T14:39:54.965970Z"
    }
   },
   "outputs": [
    {
     "data": {
      "text/plain": [
       "['Saya', 'Anda']"
      ]
     },
     "execution_count": 13,
     "metadata": {},
     "output_type": "execute_result"
    }
   ],
   "source": [
    "mod.Xb\n"
   ]
  },
  {
   "cell_type": "code",
   "execution_count": 15,
   "id": "52a3bd68",
   "metadata": {
    "ExecuteTime": {
     "end_time": "2021-11-01T14:54:36.503308Z",
     "start_time": "2021-11-01T14:54:36.484282Z"
    }
   },
   "outputs": [],
   "source": [
    "import Project1"
   ]
  },
  {
   "cell_type": "code",
   "execution_count": 16,
   "id": "a25c251d",
   "metadata": {
    "ExecuteTime": {
     "end_time": "2021-11-01T14:54:44.062666Z",
     "start_time": "2021-11-01T14:54:44.053177Z"
    }
   },
   "outputs": [
    {
     "data": {
      "text/plain": [
       "[100, 200, 300]"
      ]
     },
     "execution_count": 16,
     "metadata": {},
     "output_type": "execute_result"
    }
   ],
   "source": [
    "Project1.mod.a"
   ]
  }
 ],
 "metadata": {
  "kernelspec": {
   "display_name": "Python 3",
   "language": "python",
   "name": "python3"
  },
  "language_info": {
   "codemirror_mode": {
    "name": "ipython",
    "version": 3
   },
   "file_extension": ".py",
   "mimetype": "text/x-python",
   "name": "python",
   "nbconvert_exporter": "python",
   "pygments_lexer": "ipython3",
   "version": "3.8.8"
  }
 },
 "nbformat": 4,
 "nbformat_minor": 5
}
