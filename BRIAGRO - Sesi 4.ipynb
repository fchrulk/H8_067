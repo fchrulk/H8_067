{
 "cells": [
  {
   "cell_type": "markdown",
   "id": "60d0f1f7",
   "metadata": {},
   "source": [
    "# Install NumPy"
   ]
  },
  {
   "cell_type": "code",
   "execution_count": null,
   "id": "15915578",
   "metadata": {},
   "outputs": [],
   "source": [
    "!pip install numpy"
   ]
  },
  {
   "cell_type": "markdown",
   "id": "a12fca05",
   "metadata": {},
   "source": [
    "# Import NumPy"
   ]
  },
  {
   "cell_type": "code",
   "execution_count": 1,
   "id": "7fd3588e",
   "metadata": {
    "ExecuteTime": {
     "end_time": "2021-11-03T12:04:27.122206Z",
     "start_time": "2021-11-03T12:04:26.886426Z"
    }
   },
   "outputs": [],
   "source": [
    "import numpy as np"
   ]
  },
  {
   "cell_type": "code",
   "execution_count": 2,
   "id": "d464ff82",
   "metadata": {
    "ExecuteTime": {
     "end_time": "2021-11-03T12:08:12.478824Z",
     "start_time": "2021-11-03T12:08:12.443643Z"
    }
   },
   "outputs": [
    {
     "data": {
      "text/plain": [
       "list"
      ]
     },
     "execution_count": 2,
     "metadata": {},
     "output_type": "execute_result"
    }
   ],
   "source": [
    "a = [1, 2, 3]\n",
    "type(a)"
   ]
  },
  {
   "cell_type": "code",
   "execution_count": 11,
   "id": "1b7bcf05",
   "metadata": {
    "ExecuteTime": {
     "end_time": "2021-11-03T12:10:17.430074Z",
     "start_time": "2021-11-03T12:10:17.413783Z"
    }
   },
   "outputs": [
    {
     "data": {
      "text/plain": [
       "numpy.ndarray"
      ]
     },
     "execution_count": 11,
     "metadata": {},
     "output_type": "execute_result"
    }
   ],
   "source": [
    "b = np.array([1, 2, 3])\n",
    "type(b)"
   ]
  },
  {
   "cell_type": "code",
   "execution_count": 12,
   "id": "41456c40",
   "metadata": {
    "ExecuteTime": {
     "end_time": "2021-11-03T12:10:18.713628Z",
     "start_time": "2021-11-03T12:10:18.701832Z"
    }
   },
   "outputs": [
    {
     "name": "stdout",
     "output_type": "stream",
     "text": [
      "[1, 2, 3]\n",
      "[1 2 3]\n"
     ]
    }
   ],
   "source": [
    "print(a)\n",
    "print(b)"
   ]
  },
  {
   "cell_type": "code",
   "execution_count": 21,
   "id": "caf5c0b2",
   "metadata": {
    "ExecuteTime": {
     "end_time": "2021-11-03T12:16:41.096186Z",
     "start_time": "2021-11-03T12:16:41.076196Z"
    }
   },
   "outputs": [
    {
     "data": {
      "text/plain": [
       "array([[1, 2, 3],\n",
       "       [4, 5, 6]])"
      ]
     },
     "execution_count": 21,
     "metadata": {},
     "output_type": "execute_result"
    }
   ],
   "source": [
    "a = np.array([[1,2,3], [4,5,6]])\n",
    "a"
   ]
  },
  {
   "cell_type": "code",
   "execution_count": 19,
   "id": "f581c56a",
   "metadata": {
    "ExecuteTime": {
     "end_time": "2021-11-03T12:15:24.282724Z",
     "start_time": "2021-11-03T12:15:24.265527Z"
    }
   },
   "outputs": [
    {
     "data": {
      "text/plain": [
       "array([[1],\n",
       "       [2]])"
      ]
     },
     "execution_count": 19,
     "metadata": {},
     "output_type": "execute_result"
    }
   ],
   "source": [
    "axis=1"
   ]
  },
  {
   "cell_type": "code",
   "execution_count": 27,
   "id": "3cbd3454",
   "metadata": {
    "ExecuteTime": {
     "end_time": "2021-11-03T12:19:55.135314Z",
     "start_time": "2021-11-03T12:19:55.127246Z"
    }
   },
   "outputs": [
    {
     "data": {
      "text/plain": [
       "array([[0., 0., 0.],\n",
       "       [0., 0., 0.]])"
      ]
     },
     "execution_count": 27,
     "metadata": {},
     "output_type": "execute_result"
    }
   ],
   "source": [
    "np.zeros((2,3))"
   ]
  },
  {
   "cell_type": "code",
   "execution_count": 28,
   "id": "5061236e",
   "metadata": {
    "ExecuteTime": {
     "end_time": "2021-11-03T12:20:38.186348Z",
     "start_time": "2021-11-03T12:20:38.176090Z"
    }
   },
   "outputs": [
    {
     "data": {
      "text/plain": [
       "array([[1., 1., 1.],\n",
       "       [1., 1., 1.]])"
      ]
     },
     "execution_count": 28,
     "metadata": {},
     "output_type": "execute_result"
    }
   ],
   "source": [
    "np.ones((2,3))"
   ]
  },
  {
   "cell_type": "code",
   "execution_count": 33,
   "id": "6fbd8d69",
   "metadata": {
    "ExecuteTime": {
     "end_time": "2021-11-03T12:21:36.135135Z",
     "start_time": "2021-11-03T12:21:36.119438Z"
    }
   },
   "outputs": [
    {
     "data": {
      "text/plain": [
       "array([[6.23042070e-307, 1.42417221e-306, 1.60219306e-306,\n",
       "        7.56593017e-307, 7.56587584e-307],\n",
       "       [1.37961302e-306, 1.05699242e-307, 8.01097889e-307,\n",
       "        1.78020169e-306, 7.56601165e-307],\n",
       "       [1.02359984e-306, 1.33510679e-306, 2.22522597e-306,\n",
       "        1.33511562e-306, 6.23055651e-307],\n",
       "       [7.56599128e-307, 1.24610587e-306, 1.24610723e-306,\n",
       "        1.42418172e-306, 2.04712906e-306],\n",
       "       [7.56589622e-307, 1.11258277e-307, 8.90111708e-307,\n",
       "        8.90029544e-307, 3.20552953e-317]])"
      ]
     },
     "execution_count": 33,
     "metadata": {},
     "output_type": "execute_result"
    }
   ],
   "source": [
    "np.empty((5, 5))"
   ]
  },
  {
   "cell_type": "code",
   "execution_count": 41,
   "id": "61f4d7ef",
   "metadata": {
    "ExecuteTime": {
     "end_time": "2021-11-03T12:24:09.085552Z",
     "start_time": "2021-11-03T12:24:09.075172Z"
    }
   },
   "outputs": [
    {
     "data": {
      "text/plain": [
       "array([0, 1, 2, 3, 4, 5, 6, 7, 8, 9])"
      ]
     },
     "execution_count": 41,
     "metadata": {},
     "output_type": "execute_result"
    }
   ],
   "source": [
    "np.arange(0, 10, 1) # (start, stop, step)"
   ]
  },
  {
   "cell_type": "markdown",
   "id": "669b6c65",
   "metadata": {},
   "source": [
    "## Add, remove, sort"
   ]
  },
  {
   "cell_type": "code",
   "execution_count": null,
   "id": "0985a372",
   "metadata": {},
   "outputs": [],
   "source": [
    "np.append\n",
    "np.delete\n",
    "np.sort"
   ]
  },
  {
   "cell_type": "code",
   "execution_count": 57,
   "id": "0b627b7c",
   "metadata": {
    "ExecuteTime": {
     "end_time": "2021-11-03T12:29:39.693617Z",
     "start_time": "2021-11-03T12:29:39.679678Z"
    }
   },
   "outputs": [
    {
     "name": "stdout",
     "output_type": "stream",
     "text": [
      "[1 2 3]\n",
      "[ 1  2  3 10]\n"
     ]
    }
   ],
   "source": [
    "a = np.array([1, 2, 3])\n",
    "print(a)\n",
    "a = np.append(a, 10)\n",
    "print(a)"
   ]
  },
  {
   "cell_type": "code",
   "execution_count": 58,
   "id": "d599dde0",
   "metadata": {
    "ExecuteTime": {
     "end_time": "2021-11-03T12:29:40.274364Z",
     "start_time": "2021-11-03T12:29:40.264013Z"
    }
   },
   "outputs": [
    {
     "name": "stdout",
     "output_type": "stream",
     "text": [
      "[ 1  3 10]\n"
     ]
    }
   ],
   "source": [
    "a = np.delete(a, 1)\n",
    "print(a)"
   ]
  },
  {
   "cell_type": "code",
   "execution_count": 60,
   "id": "251447b0",
   "metadata": {
    "ExecuteTime": {
     "end_time": "2021-11-03T12:30:05.631864Z",
     "start_time": "2021-11-03T12:30:05.616837Z"
    }
   },
   "outputs": [
    {
     "name": "stdout",
     "output_type": "stream",
     "text": [
      "[ 1  3 10  2]\n"
     ]
    }
   ],
   "source": [
    "a = np.append(a, 2)\n",
    "print(a)"
   ]
  },
  {
   "cell_type": "code",
   "execution_count": 65,
   "id": "91cf8ad4",
   "metadata": {
    "ExecuteTime": {
     "end_time": "2021-11-03T12:31:46.553280Z",
     "start_time": "2021-11-03T12:31:46.533247Z"
    }
   },
   "outputs": [
    {
     "data": {
      "text/plain": [
       "array([ 1,  3, 10,  2])"
      ]
     },
     "execution_count": 65,
     "metadata": {},
     "output_type": "execute_result"
    }
   ],
   "source": [
    "a"
   ]
  },
  {
   "cell_type": "code",
   "execution_count": 71,
   "id": "86f9a809",
   "metadata": {
    "ExecuteTime": {
     "end_time": "2021-11-03T12:32:59.322033Z",
     "start_time": "2021-11-03T12:32:59.305239Z"
    }
   },
   "outputs": [],
   "source": [
    "a = np.insert(a, obj=0, values=100)"
   ]
  },
  {
   "cell_type": "code",
   "execution_count": 72,
   "id": "e2d3813c",
   "metadata": {
    "ExecuteTime": {
     "end_time": "2021-11-03T12:33:01.271297Z",
     "start_time": "2021-11-03T12:33:01.250983Z"
    }
   },
   "outputs": [
    {
     "data": {
      "text/plain": [
       "array([100,   1,   3,  10,   2])"
      ]
     },
     "execution_count": 72,
     "metadata": {},
     "output_type": "execute_result"
    }
   ],
   "source": [
    "a"
   ]
  },
  {
   "cell_type": "code",
   "execution_count": 73,
   "id": "9a86c69b",
   "metadata": {
    "ExecuteTime": {
     "end_time": "2021-11-03T12:33:10.646996Z",
     "start_time": "2021-11-03T12:33:10.641322Z"
    }
   },
   "outputs": [],
   "source": [
    "a = np.sort(a)"
   ]
  },
  {
   "cell_type": "code",
   "execution_count": 74,
   "id": "8dc0ce7a",
   "metadata": {
    "ExecuteTime": {
     "end_time": "2021-11-03T12:33:11.954048Z",
     "start_time": "2021-11-03T12:33:11.943653Z"
    }
   },
   "outputs": [
    {
     "data": {
      "text/plain": [
       "array([  1,   2,   3,  10, 100])"
      ]
     },
     "execution_count": 74,
     "metadata": {},
     "output_type": "execute_result"
    }
   ],
   "source": [
    "a"
   ]
  },
  {
   "cell_type": "code",
   "execution_count": 76,
   "id": "47d52678",
   "metadata": {
    "ExecuteTime": {
     "end_time": "2021-11-03T12:33:33.795264Z",
     "start_time": "2021-11-03T12:33:33.786320Z"
    }
   },
   "outputs": [
    {
     "data": {
      "text/plain": [
       "1"
      ]
     },
     "execution_count": 76,
     "metadata": {},
     "output_type": "execute_result"
    }
   ],
   "source": [
    "a.ndim"
   ]
  },
  {
   "cell_type": "code",
   "execution_count": 77,
   "id": "3f34248f",
   "metadata": {
    "ExecuteTime": {
     "end_time": "2021-11-03T12:33:57.356304Z",
     "start_time": "2021-11-03T12:33:57.346622Z"
    }
   },
   "outputs": [
    {
     "data": {
      "text/plain": [
       "2"
      ]
     },
     "execution_count": 77,
     "metadata": {},
     "output_type": "execute_result"
    }
   ],
   "source": [
    "b = np.array([[1,2], \n",
    "              [3,4]])\n",
    "b.ndim"
   ]
  },
  {
   "cell_type": "code",
   "execution_count": 78,
   "id": "0cdeef3a",
   "metadata": {
    "ExecuteTime": {
     "end_time": "2021-11-03T12:34:15.705256Z",
     "start_time": "2021-11-03T12:34:15.695012Z"
    }
   },
   "outputs": [
    {
     "name": "stdout",
     "output_type": "stream",
     "text": [
      "5\n",
      "4\n"
     ]
    }
   ],
   "source": [
    "print(a.size)\n",
    "print(b.size)"
   ]
  },
  {
   "cell_type": "code",
   "execution_count": 79,
   "id": "bb82c370",
   "metadata": {
    "ExecuteTime": {
     "end_time": "2021-11-03T12:34:37.981291Z",
     "start_time": "2021-11-03T12:34:37.959715Z"
    }
   },
   "outputs": [
    {
     "name": "stdout",
     "output_type": "stream",
     "text": [
      "(5,)\n",
      "(2, 2)\n"
     ]
    }
   ],
   "source": [
    "print(a.shape)\n",
    "print(b.shape)"
   ]
  },
  {
   "cell_type": "code",
   "execution_count": 80,
   "id": "84d9bbe9",
   "metadata": {
    "ExecuteTime": {
     "end_time": "2021-11-03T12:35:31.324906Z",
     "start_time": "2021-11-03T12:35:31.316265Z"
    }
   },
   "outputs": [
    {
     "data": {
      "text/plain": [
       "1"
      ]
     },
     "execution_count": 80,
     "metadata": {},
     "output_type": "execute_result"
    }
   ],
   "source": [
    "np.array([1,2,3,4,5])."
   ]
  },
  {
   "cell_type": "code",
   "execution_count": 89,
   "id": "3289e091",
   "metadata": {
    "ExecuteTime": {
     "end_time": "2021-11-03T12:37:58.656584Z",
     "start_time": "2021-11-03T12:37:58.643775Z"
    }
   },
   "outputs": [
    {
     "name": "stdout",
     "output_type": "stream",
     "text": [
      "[0 1 2 3 4 5]\n",
      "(6,)\n",
      "\n",
      "[[0 1]\n",
      " [2 3]\n",
      " [4 5]]\n"
     ]
    }
   ],
   "source": [
    "a = np.arange(6)\n",
    "print(a)\n",
    "print(a.shape)\n",
    "print()\n",
    "\n",
    "b = a.reshape(3, 2)\n",
    "print(b)"
   ]
  },
  {
   "cell_type": "code",
   "execution_count": null,
   "id": "115ae0d9",
   "metadata": {},
   "outputs": [],
   "source": [
    "np.reshape()"
   ]
  },
  {
   "cell_type": "code",
   "execution_count": 90,
   "id": "f964f87f",
   "metadata": {
    "ExecuteTime": {
     "end_time": "2021-11-03T12:39:23.943925Z",
     "start_time": "2021-11-03T12:39:23.930592Z"
    }
   },
   "outputs": [
    {
     "data": {
      "text/plain": [
       "numpy.ndarray"
      ]
     },
     "execution_count": 90,
     "metadata": {},
     "output_type": "execute_result"
    }
   ],
   "source": [
    "type(a)"
   ]
  },
  {
   "cell_type": "code",
   "execution_count": 92,
   "id": "b6f8636b",
   "metadata": {
    "ExecuteTime": {
     "end_time": "2021-11-03T12:41:42.105146Z",
     "start_time": "2021-11-03T12:41:42.093875Z"
    }
   },
   "outputs": [
    {
     "name": "stdout",
     "output_type": "stream",
     "text": [
      "(5,)\n",
      "(1, 5)\n",
      "[[1 2 3 4 5]]\n",
      "(1, 1, 5)\n",
      "[[[1 2 3 4 5]]]\n"
     ]
    }
   ],
   "source": [
    "a = np.array([1,2,3,4,5])\n",
    "print(a.shape)\n",
    "\n",
    "a2 = a[np.newaxis]\n",
    "print(a2.shape)\n",
    "print(a2)\n",
    "\n",
    "a3 = a2[np.newaxis]\n",
    "print(a3.shape)\n",
    "print(a3)"
   ]
  },
  {
   "cell_type": "code",
   "execution_count": 95,
   "id": "a80f21a0",
   "metadata": {
    "ExecuteTime": {
     "end_time": "2021-11-03T12:42:45.124507Z",
     "start_time": "2021-11-03T12:42:45.112960Z"
    }
   },
   "outputs": [
    {
     "name": "stdout",
     "output_type": "stream",
     "text": [
      "(1, 5)\n",
      "[[1 2 3 4 5]]\n"
     ]
    }
   ],
   "source": [
    "a2 = a[np.newaxis]\n",
    "print(a2.shape)\n",
    "print(a2)"
   ]
  },
  {
   "cell_type": "code",
   "execution_count": 93,
   "id": "dbe59f95",
   "metadata": {
    "ExecuteTime": {
     "end_time": "2021-11-03T12:42:19.099844Z",
     "start_time": "2021-11-03T12:42:19.081692Z"
    }
   },
   "outputs": [
    {
     "name": "stdout",
     "output_type": "stream",
     "text": [
      "(5, 1)\n",
      "[[1]\n",
      " [2]\n",
      " [3]\n",
      " [4]\n",
      " [5]]\n"
     ]
    }
   ],
   "source": [
    "a2 = a[: , np.newaxis]\n",
    "print(a2.shape)\n",
    "print(a2)"
   ]
  },
  {
   "cell_type": "code",
   "execution_count": 97,
   "id": "1ef18b71",
   "metadata": {
    "ExecuteTime": {
     "end_time": "2021-11-03T12:44:29.905019Z",
     "start_time": "2021-11-03T12:44:29.883365Z"
    }
   },
   "outputs": [
    {
     "name": "stdout",
     "output_type": "stream",
     "text": [
      "(5,)\n",
      "\n",
      "(5, 1)\n",
      "[[1]\n",
      " [2]\n",
      " [3]\n",
      " [4]\n",
      " [5]]\n",
      "\n",
      "(1, 5)\n",
      "[[1 2 3 4 5]]\n"
     ]
    }
   ],
   "source": [
    "a = np.array([1,2,3,4,5])\n",
    "print(a.shape)\n",
    "print()\n",
    "\n",
    "a2 = np.expand_dims(a, axis=1)\n",
    "print(a2.shape)\n",
    "print(a2)\n",
    "print()\n",
    "\n",
    "a3 = np.expand_dims(a, axis=0)\n",
    "print(a3.shape)\n",
    "print(a3)"
   ]
  },
  {
   "cell_type": "code",
   "execution_count": 102,
   "id": "5c05b22b",
   "metadata": {
    "ExecuteTime": {
     "end_time": "2021-11-03T12:47:28.305747Z",
     "start_time": "2021-11-03T12:47:28.285160Z"
    }
   },
   "outputs": [
    {
     "name": "stdout",
     "output_type": "stream",
     "text": [
      "[ 0  1  2  3  4  5  6  7  8  9 10 11 12 13 14 15 16 17 18 19]\n",
      "0\n",
      "5\n",
      "[1 2]\n",
      "[ 8  9 10 11 12 13 14 15 16 17 18 19]\n",
      "[15 16 17 18 19]\n"
     ]
    }
   ],
   "source": [
    "a = np.arange(0, 20, 1)\n",
    "print(a)\n",
    "print(a[0])\n",
    "print(a[5])\n",
    "print(a[1:3])\n",
    "print(a[8:])\n",
    "print(a[-5:])"
   ]
  },
  {
   "cell_type": "code",
   "execution_count": 108,
   "id": "cc2f057a",
   "metadata": {
    "ExecuteTime": {
     "end_time": "2021-11-03T12:51:01.468266Z",
     "start_time": "2021-11-03T12:51:01.461730Z"
    }
   },
   "outputs": [
    {
     "name": "stdout",
     "output_type": "stream",
     "text": [
      "[[1 2 3]\n",
      " [4 5 6]\n",
      " [7 8 9]]\n",
      "\n",
      "[6 7 8 9]\n"
     ]
    }
   ],
   "source": [
    "a = np.array([[1,2,3], \n",
    "              [4,5,6],\n",
    "              [7,8,9]])\n",
    "print(a)\n",
    "print()\n",
    "print(a[a > 5])"
   ]
  },
  {
   "cell_type": "code",
   "execution_count": 111,
   "id": "e5d4f3e2",
   "metadata": {
    "ExecuteTime": {
     "end_time": "2021-11-03T12:52:59.704509Z",
     "start_time": "2021-11-03T12:52:59.685129Z"
    }
   },
   "outputs": [
    {
     "name": "stdout",
     "output_type": "stream",
     "text": [
      "[6 7 8 9]\n"
     ]
    }
   ],
   "source": [
    "lima_keatas = (a > 5)\n",
    "print(a[lima_keatas])"
   ]
  },
  {
   "cell_type": "code",
   "execution_count": 112,
   "id": "01906017",
   "metadata": {
    "ExecuteTime": {
     "end_time": "2021-11-03T12:53:28.131361Z",
     "start_time": "2021-11-03T12:53:28.120955Z"
    }
   },
   "outputs": [
    {
     "name": "stdout",
     "output_type": "stream",
     "text": [
      "[6 7]\n"
     ]
    }
   ],
   "source": [
    "lima_keatas = (a > 5)\n",
    "lapan_kebawah = (a < 8)\n",
    "print(a[lima_keatas & lapan_kebawah])"
   ]
  },
  {
   "cell_type": "code",
   "execution_count": 114,
   "id": "e0bb6ae0",
   "metadata": {
    "ExecuteTime": {
     "end_time": "2021-11-03T12:56:04.390534Z",
     "start_time": "2021-11-03T12:56:04.378220Z"
    }
   },
   "outputs": [
    {
     "name": "stdout",
     "output_type": "stream",
     "text": [
      "[2 6 7]\n"
     ]
    }
   ],
   "source": [
    "lima_keatas = (a > 5)\n",
    "dua = (a == 2)\n",
    "print(a[(lima_keatas | dua) & lapan_kebawah])"
   ]
  },
  {
   "cell_type": "code",
   "execution_count": 119,
   "id": "e6158858",
   "metadata": {
    "ExecuteTime": {
     "end_time": "2021-11-03T12:59:12.822161Z",
     "start_time": "2021-11-03T12:59:12.807422Z"
    }
   },
   "outputs": [
    {
     "name": "stdout",
     "output_type": "stream",
     "text": [
      "[0 1 2 3 4 5 6 7 8 9]\n",
      "[2 3]\n",
      "[2 3]\n"
     ]
    }
   ],
   "source": [
    "a = np.arange(0, 10, 1)\n",
    "print(a)\n",
    "a = a[2:4]\n",
    "print(a)\n",
    "print(a)"
   ]
  },
  {
   "cell_type": "code",
   "execution_count": 128,
   "id": "e75ff5ee",
   "metadata": {
    "ExecuteTime": {
     "end_time": "2021-11-03T13:03:35.884167Z",
     "start_time": "2021-11-03T13:03:35.864528Z"
    }
   },
   "outputs": [
    {
     "name": "stdout",
     "output_type": "stream",
     "text": [
      "Vertical / kolom / axis=0\n",
      "[[2 2]\n",
      " [3 3]\n",
      " [1 1]\n",
      " [2 2]]\n",
      "horizontal / baris / axis=1\n",
      "[[2 2 1 1]\n",
      " [3 3 2 2]]\n"
     ]
    }
   ],
   "source": [
    "a = np.array([[2,2],\n",
    "              [3,3]])\n",
    "\n",
    "b = np.array([[1,1],\n",
    "              [2,2]])\n",
    "print('Vertical / kolom / axis=0')\n",
    "print(np.vstack((a, b)))\n",
    "print('horizontal / baris / axis=1')\n",
    "print(np.hstack((a, b)))"
   ]
  },
  {
   "cell_type": "code",
   "execution_count": 132,
   "id": "987433c5",
   "metadata": {
    "ExecuteTime": {
     "end_time": "2021-11-03T13:05:06.230407Z",
     "start_time": "2021-11-03T13:05:06.214685Z"
    }
   },
   "outputs": [
    {
     "name": "stdout",
     "output_type": "stream",
     "text": [
      "[[1, 2, 3], [2, 2, 2], [4, 5, 6], [4, 4, 4]]\n"
     ]
    }
   ],
   "source": [
    "a = [[1,2,3],\n",
    "     [2,2,2]]\n",
    "b = [[4,5,6], \n",
    "     [4,4,4]]\n",
    "a.extend(b)\n",
    "print(a)"
   ]
  },
  {
   "cell_type": "code",
   "execution_count": 124,
   "id": "9e1478b6",
   "metadata": {
    "ExecuteTime": {
     "end_time": "2021-11-03T13:02:05.020530Z",
     "start_time": "2021-11-03T13:02:05.002842Z"
    }
   },
   "outputs": [
    {
     "data": {
      "text/plain": [
       "array([[1, 1],\n",
       "       [2, 2],\n",
       "       [2, 2],\n",
       "       [4, 4]])"
      ]
     },
     "execution_count": 124,
     "metadata": {},
     "output_type": "execute_result"
    }
   ],
   "source": [
    "a = np.array([[1,1],\n",
    "              [2,2]])\n",
    "\n",
    "b = np.array([[2,2],\n",
    "              [4,4]])\n",
    "np.vstack((a, b))"
   ]
  },
  {
   "cell_type": "code",
   "execution_count": 145,
   "id": "896f3fdc",
   "metadata": {
    "ExecuteTime": {
     "end_time": "2021-11-03T13:10:15.264935Z",
     "start_time": "2021-11-03T13:10:15.257807Z"
    }
   },
   "outputs": [],
   "source": [
    "a = np.arange(0, 21, 1)\n",
    "b = np.arange(0, 5, 1)"
   ]
  },
  {
   "cell_type": "code",
   "execution_count": 136,
   "id": "7734768c",
   "metadata": {
    "ExecuteTime": {
     "end_time": "2021-11-03T13:08:08.380433Z",
     "start_time": "2021-11-03T13:08:08.360064Z"
    }
   },
   "outputs": [
    {
     "name": "stdout",
     "output_type": "stream",
     "text": [
      "[ 0  1  2  3  4  5  6  7  8  9 10 11 12 13 14 15 16 17 18 19]\n",
      "20\n"
     ]
    }
   ],
   "source": [
    "print(a)\n",
    "print(len(a))"
   ]
  },
  {
   "cell_type": "code",
   "execution_count": 146,
   "id": "21832ccd",
   "metadata": {
    "ExecuteTime": {
     "end_time": "2021-11-03T13:10:17.382734Z",
     "start_time": "2021-11-03T13:10:17.374434Z"
    }
   },
   "outputs": [
    {
     "name": "stdout",
     "output_type": "stream",
     "text": [
      "[array([0, 1, 2, 3, 4, 5, 6]), array([ 7,  8,  9, 10, 11, 12, 13]), array([14, 15, 16, 17, 18, 19, 20])]\n",
      "7\n",
      "7\n"
     ]
    }
   ],
   "source": [
    "c = np.hsplit(a, 3)\n",
    "print(c)\n",
    "print(c[0].size)\n",
    "print(c[1].size)"
   ]
  },
  {
   "cell_type": "code",
   "execution_count": 157,
   "id": "d8b1d1f1",
   "metadata": {
    "ExecuteTime": {
     "end_time": "2021-11-03T13:12:38.872406Z",
     "start_time": "2021-11-03T13:12:38.859545Z"
    }
   },
   "outputs": [
    {
     "name": "stdout",
     "output_type": "stream",
     "text": [
      "[[1 1]\n",
      " [2 2]\n",
      " [3 3]]\n",
      "3\n",
      "[array([[1, 1]]), array([[2, 2]]), array([[3, 3]])]\n",
      "3\n"
     ]
    }
   ],
   "source": [
    "a = np.array([[1,1],\n",
    "              [2,2],\n",
    "              [3,3]])\n",
    "print(a)\n",
    "print(len(a))\n",
    "b = np.vsplit(a, 3)\n",
    "print(b)\n",
    "print(len(b))"
   ]
  },
  {
   "cell_type": "code",
   "execution_count": 158,
   "id": "223e1500",
   "metadata": {
    "ExecuteTime": {
     "end_time": "2021-11-03T13:13:28.113023Z",
     "start_time": "2021-11-03T13:13:28.100959Z"
    }
   },
   "outputs": [
    {
     "data": {
      "text/plain": [
       "array([[1, 1],\n",
       "       [2, 2],\n",
       "       [3, 3]])"
      ]
     },
     "execution_count": 158,
     "metadata": {},
     "output_type": "execute_result"
    }
   ],
   "source": [
    "a"
   ]
  },
  {
   "cell_type": "code",
   "execution_count": 163,
   "id": "ebc0ecfc",
   "metadata": {
    "ExecuteTime": {
     "end_time": "2021-11-03T13:14:26.729067Z",
     "start_time": "2021-11-03T13:14:26.715581Z"
    }
   },
   "outputs": [
    {
     "name": "stdout",
     "output_type": "stream",
     "text": [
      "A\n",
      "[[1 1]\n",
      " [2 2]\n",
      " [3 3]]\n",
      "\n",
      "B\n",
      "[[1 1]\n",
      " [2 2]\n",
      " [3 3]]\n",
      "\n",
      "C\n",
      "[[1 1]\n",
      " [2 2]\n",
      " [3 3]]\n",
      "\n"
     ]
    }
   ],
   "source": [
    "print('A')\n",
    "print(a)\n",
    "print()\n",
    "\n",
    "print('B')\n",
    "b = a.view()\n",
    "print(b)\n",
    "print()\n",
    "\n",
    "print('C')\n",
    "c = a.copy()\n",
    "print(c)\n",
    "print()"
   ]
  },
  {
   "cell_type": "code",
   "execution_count": 165,
   "id": "bf744e6f",
   "metadata": {
    "ExecuteTime": {
     "end_time": "2021-11-03T13:15:32.918215Z",
     "start_time": "2021-11-03T13:15:32.900208Z"
    }
   },
   "outputs": [
    {
     "name": "stdout",
     "output_type": "stream",
     "text": [
      "A\n",
      "[1 1]\n",
      "\n",
      "B\n",
      "[[1 1]\n",
      " [2 2]\n",
      " [3 3]]\n",
      "\n",
      "C\n",
      "[[1 1]\n",
      " [2 2]\n",
      " [3 3]]\n",
      "\n"
     ]
    }
   ],
   "source": [
    "a = a[0]\n",
    "print('A')\n",
    "print(a)\n",
    "print()\n",
    "\n",
    "print('B')\n",
    "print(b)\n",
    "print()\n",
    "\n",
    "print('C')\n",
    "print(c)\n",
    "print()"
   ]
  },
  {
   "cell_type": "code",
   "execution_count": 173,
   "id": "03bfe103",
   "metadata": {
    "ExecuteTime": {
     "end_time": "2021-11-03T13:18:51.784773Z",
     "start_time": "2021-11-03T13:18:51.778704Z"
    }
   },
   "outputs": [
    {
     "name": "stdout",
     "output_type": "stream",
     "text": [
      "[1 2 3 4]\n",
      "\n",
      "10\n"
     ]
    }
   ],
   "source": [
    "a = np.arange(1, 5, 1)\n",
    "print(a)\n",
    "print()\n",
    "print(a.sum())"
   ]
  },
  {
   "cell_type": "code",
   "execution_count": 176,
   "id": "77d64600",
   "metadata": {
    "ExecuteTime": {
     "end_time": "2021-11-03T13:20:00.193009Z",
     "start_time": "2021-11-03T13:20:00.183662Z"
    }
   },
   "outputs": [
    {
     "data": {
      "text/plain": [
       "array([3, 3, 5])"
      ]
     },
     "execution_count": 176,
     "metadata": {},
     "output_type": "execute_result"
    }
   ],
   "source": [
    "data = np.array([1,2,3])\n",
    "tambah = np.array([2,2,2])\n",
    "data + tambah"
   ]
  },
  {
   "cell_type": "code",
   "execution_count": 185,
   "id": "1a707b80",
   "metadata": {
    "ExecuteTime": {
     "end_time": "2021-11-03T13:23:49.809611Z",
     "start_time": "2021-11-03T13:23:49.789940Z"
    }
   },
   "outputs": [
    {
     "data": {
      "text/plain": [
       "array([[3, 4, 5],\n",
       "       [6, 7, 8]])"
      ]
     },
     "execution_count": 185,
     "metadata": {},
     "output_type": "execute_result"
    }
   ],
   "source": [
    "data = np.array([[1,2,3],\n",
    "                 [4,5,6]]) # 2x3\n",
    "tambah = np.array([[2,2,2]]) # 2x1\n",
    "data + tambah # 2x3"
   ]
  },
  {
   "cell_type": "code",
   "execution_count": 190,
   "id": "07a64109",
   "metadata": {
    "ExecuteTime": {
     "end_time": "2021-11-03T13:25:31.908084Z",
     "start_time": "2021-11-03T13:25:31.897825Z"
    }
   },
   "outputs": [
    {
     "data": {
      "text/plain": [
       "array([[ 2,  4,  6],\n",
       "       [ 8, 10, 12]])"
      ]
     },
     "execution_count": 190,
     "metadata": {},
     "output_type": "execute_result"
    }
   ],
   "source": [
    "data = np.array([[1,2,3],\n",
    "                 [4,5,6]]) # 2x3\n",
    "tambah = np.array([[2,2,2]]) # 1x3\n",
    "data * tambah # 2x3"
   ]
  },
  {
   "cell_type": "code",
   "execution_count": 193,
   "id": "7f4d77e1",
   "metadata": {
    "ExecuteTime": {
     "end_time": "2021-11-03T13:26:42.392723Z",
     "start_time": "2021-11-03T13:26:42.374743Z"
    }
   },
   "outputs": [
    {
     "ename": "ValueError",
     "evalue": "operands could not be broadcast together with shapes (2,3) (3,1) ",
     "output_type": "error",
     "traceback": [
      "\u001b[1;31m---------------------------------------------------------------------------\u001b[0m",
      "\u001b[1;31mValueError\u001b[0m                                Traceback (most recent call last)",
      "\u001b[1;32m<ipython-input-193-9cdefe42aa18>\u001b[0m in \u001b[0;36m<module>\u001b[1;34m\u001b[0m\n\u001b[0;32m      4\u001b[0m                    \u001b[1;33m[\u001b[0m\u001b[1;36m2\u001b[0m\u001b[1;33m]\u001b[0m\u001b[1;33m,\u001b[0m\u001b[1;33m\u001b[0m\u001b[1;33m\u001b[0m\u001b[0m\n\u001b[0;32m      5\u001b[0m                    [2]]) # 3x1\n\u001b[1;32m----> 6\u001b[1;33m \u001b[0mdata\u001b[0m \u001b[1;33m*\u001b[0m \u001b[0mtambah\u001b[0m \u001b[1;31m# 2x3\u001b[0m\u001b[1;33m\u001b[0m\u001b[1;33m\u001b[0m\u001b[0m\n\u001b[0m",
      "\u001b[1;31mValueError\u001b[0m: operands could not be broadcast together with shapes (2,3) (3,1) "
     ]
    }
   ],
   "source": [
    "data = np.array([[1,2,3],\n",
    "                 [4,5,6]]) # 2x3\n",
    "tambah = np.array([[2],\n",
    "                   [2],\n",
    "                   [2]]) # 3x1\n",
    "data * tambah # 2x3"
   ]
  },
  {
   "cell_type": "code",
   "execution_count": 192,
   "id": "d73a9315",
   "metadata": {
    "ExecuteTime": {
     "end_time": "2021-11-03T13:26:24.800858Z",
     "start_time": "2021-11-03T13:26:24.777912Z"
    }
   },
   "outputs": [
    {
     "ename": "ValueError",
     "evalue": "operands could not be broadcast together with shapes (2,3) (3,1) ",
     "output_type": "error",
     "traceback": [
      "\u001b[1;31m---------------------------------------------------------------------------\u001b[0m",
      "\u001b[1;31mValueError\u001b[0m                                Traceback (most recent call last)",
      "\u001b[1;32m<ipython-input-192-cdb8614a3b73>\u001b[0m in \u001b[0;36m<module>\u001b[1;34m\u001b[0m\n\u001b[0;32m      4\u001b[0m                    \u001b[1;33m[\u001b[0m\u001b[1;36m2\u001b[0m\u001b[1;33m]\u001b[0m\u001b[1;33m,\u001b[0m\u001b[1;33m\u001b[0m\u001b[1;33m\u001b[0m\u001b[0m\n\u001b[0;32m      5\u001b[0m                    [2]]) # 3x1\n\u001b[1;32m----> 6\u001b[1;33m \u001b[0mdata\u001b[0m \u001b[1;33m+\u001b[0m \u001b[0mtambah\u001b[0m \u001b[1;31m# 2x3\u001b[0m\u001b[1;33m\u001b[0m\u001b[1;33m\u001b[0m\u001b[0m\n\u001b[0m",
      "\u001b[1;31mValueError\u001b[0m: operands could not be broadcast together with shapes (2,3) (3,1) "
     ]
    }
   ],
   "source": [
    "data = np.array([[1,2,3],\n",
    "                 [4,5,6]]) # 2x3\n",
    "tambah = np.array([[2],\n",
    "                   [2],\n",
    "                   [2]]) # 3x1\n",
    "data + tambah # 2x3"
   ]
  },
  {
   "cell_type": "code",
   "execution_count": 188,
   "id": "e1203159",
   "metadata": {
    "ExecuteTime": {
     "end_time": "2021-11-03T13:24:50.569658Z",
     "start_time": "2021-11-03T13:24:50.550121Z"
    }
   },
   "outputs": [
    {
     "ename": "ValueError",
     "evalue": "operands could not be broadcast together with shapes (2,3) (1,2) ",
     "output_type": "error",
     "traceback": [
      "\u001b[1;31m---------------------------------------------------------------------------\u001b[0m",
      "\u001b[1;31mValueError\u001b[0m                                Traceback (most recent call last)",
      "\u001b[1;32m<ipython-input-188-6246646c122b>\u001b[0m in \u001b[0;36m<module>\u001b[1;34m\u001b[0m\n\u001b[0;32m      2\u001b[0m                  [4,5,6]]) # 2x3\n\u001b[0;32m      3\u001b[0m \u001b[0mtambah\u001b[0m \u001b[1;33m=\u001b[0m \u001b[0mnp\u001b[0m\u001b[1;33m.\u001b[0m\u001b[0marray\u001b[0m\u001b[1;33m(\u001b[0m\u001b[1;33m[\u001b[0m\u001b[1;33m[\u001b[0m\u001b[1;36m2\u001b[0m\u001b[1;33m,\u001b[0m\u001b[1;36m2\u001b[0m\u001b[1;33m]\u001b[0m\u001b[1;33m]\u001b[0m\u001b[1;33m)\u001b[0m \u001b[1;31m# 2x1\u001b[0m\u001b[1;33m\u001b[0m\u001b[1;33m\u001b[0m\u001b[0m\n\u001b[1;32m----> 4\u001b[1;33m \u001b[0mdata\u001b[0m \u001b[1;33m*\u001b[0m \u001b[0mtambah\u001b[0m \u001b[1;31m# 2x3\u001b[0m\u001b[1;33m\u001b[0m\u001b[1;33m\u001b[0m\u001b[0m\n\u001b[0m",
      "\u001b[1;31mValueError\u001b[0m: operands could not be broadcast together with shapes (2,3) (1,2) "
     ]
    }
   ],
   "source": [
    "data = np.array([[1,2,3],  # R x C\n",
    "                 [4,5,6]]) # 2x3\n",
    "tambah = np.array([[2,2]]) # 2x1\n",
    "data * tambah # 2x3"
   ]
  },
  {
   "cell_type": "code",
   "execution_count": 201,
   "id": "e3454318",
   "metadata": {
    "ExecuteTime": {
     "end_time": "2021-11-03T13:28:49.005058Z",
     "start_time": "2021-11-03T13:28:48.986694Z"
    }
   },
   "outputs": [
    {
     "name": "stdout",
     "output_type": "stream",
     "text": [
      "[[1 2 3]\n",
      " [4 5 6]]\n",
      "\n",
      "21\n",
      "[5 7 9]\n",
      "\n",
      "[ 6 15]\n"
     ]
    }
   ],
   "source": [
    "            # r x c\n",
    "print(data) # 2 x 3\n",
    "print()\n",
    "print(data.sum()) # jumlah semua\n",
    "print(data.sum(axis=0)) # jumlah kolom ==> \n",
    "print()\n",
    "print(data.sum(axis=1))"
   ]
  },
  {
   "cell_type": "code",
   "execution_count": 217,
   "id": "0dda23f2",
   "metadata": {
    "ExecuteTime": {
     "end_time": "2021-11-03T13:33:52.767706Z",
     "start_time": "2021-11-03T13:33:52.748172Z"
    }
   },
   "outputs": [
    {
     "name": "stdout",
     "output_type": "stream",
     "text": [
      "[[1 2 3]\n",
      " [4 5 6]]\n"
     ]
    }
   ],
   "source": [
    "data = data.T\n",
    "print(data)"
   ]
  },
  {
   "cell_type": "code",
   "execution_count": 221,
   "id": "7ecc01c2",
   "metadata": {
    "ExecuteTime": {
     "end_time": "2021-11-03T13:34:13.045571Z",
     "start_time": "2021-11-03T13:34:13.029071Z"
    }
   },
   "outputs": [
    {
     "name": "stdout",
     "output_type": "stream",
     "text": [
      "[[1 2 3]\n",
      " [4 5 6]]\n",
      "\n",
      "[[ 2  4  6]\n",
      " [ 8 10 12]]\n",
      "\n",
      "[[ 2  4  6]\n",
      " [ 8 10 12]]\n"
     ]
    }
   ],
   "source": [
    "print(data)\n",
    "print()\n",
    "print(data * 2)\n",
    "print()\n",
    "print(data * [2,2,2])"
   ]
  },
  {
   "cell_type": "code",
   "execution_count": 231,
   "id": "e5ac0d58",
   "metadata": {
    "ExecuteTime": {
     "end_time": "2021-11-03T13:38:56.153045Z",
     "start_time": "2021-11-03T13:38:56.129027Z"
    }
   },
   "outputs": [
    {
     "name": "stdout",
     "output_type": "stream",
     "text": [
      "Data\n",
      " [[1 2]\n",
      " [3 4]]\n",
      "Ones\n",
      " [[1. 1.]\n",
      " [1. 1.]]\n",
      "\n",
      " [[2. 3.]\n",
      " [4. 5.]]\n"
     ]
    }
   ],
   "source": [
    "data = np.array([[1,2], [3,4]])\n",
    "print('Data\\n', data)\n",
    "ones = np.ones([2,2])\n",
    "print('Ones\\n', ones)\n",
    "print('\\n', data+ones)"
   ]
  },
  {
   "cell_type": "code",
   "execution_count": 230,
   "id": "e1dd27f5",
   "metadata": {
    "ExecuteTime": {
     "end_time": "2021-11-03T13:38:44.218380Z",
     "start_time": "2021-11-03T13:38:44.199003Z"
    }
   },
   "outputs": [
    {
     "name": "stdout",
     "output_type": "stream",
     "text": [
      "Data\n",
      " [[1 2]\n",
      " [3 4]]\n",
      "One Row\n",
      " [[1. 1.]]\n",
      "\n",
      " [[2. 3.]\n",
      " [4. 5.]]\n"
     ]
    }
   ],
   "source": [
    "print('Data\\n', data)\n",
    "ones_row = np.ones([1,2])\n",
    "print('One Row\\n', ones_row)\n",
    "print('\\n',data+ones_row)"
   ]
  },
  {
   "cell_type": "code",
   "execution_count": null,
   "id": "7ac9eb7c",
   "metadata": {},
   "outputs": [],
   "source": []
  },
  {
   "cell_type": "code",
   "execution_count": 237,
   "id": "98e65614",
   "metadata": {
    "ExecuteTime": {
     "end_time": "2021-11-03T13:42:47.288927Z",
     "start_time": "2021-11-03T13:42:47.265300Z"
    }
   },
   "outputs": [
    {
     "name": "stdout",
     "output_type": "stream",
     "text": [
      "[[1 2 3]\n",
      " [4 5 6]]\n",
      "size = 6\n",
      "shape = (2, 3)\n",
      "\n",
      "[[ 7  8]\n",
      " [ 9 10]\n",
      " [10 11]]\n",
      "size = 6\n",
      "shape = (3, 2)\n",
      "\n",
      "Result\n",
      "[[ 55  61]\n",
      " [133 148]]\n",
      "\n",
      "Result2\n"
     ]
    },
    {
     "ename": "ValueError",
     "evalue": "operands could not be broadcast together with shapes (2,3) (3,2) ",
     "output_type": "error",
     "traceback": [
      "\u001b[1;31m---------------------------------------------------------------------------\u001b[0m",
      "\u001b[1;31mValueError\u001b[0m                                Traceback (most recent call last)",
      "\u001b[1;32m<ipython-input-237-f1e90bec8506>\u001b[0m in \u001b[0;36m<module>\u001b[1;34m\u001b[0m\n\u001b[0;32m     15\u001b[0m \u001b[1;33m\u001b[0m\u001b[0m\n\u001b[0;32m     16\u001b[0m \u001b[0mprint\u001b[0m\u001b[1;33m(\u001b[0m\u001b[1;34m'Result2'\u001b[0m\u001b[1;33m)\u001b[0m\u001b[1;33m\u001b[0m\u001b[1;33m\u001b[0m\u001b[0m\n\u001b[1;32m---> 17\u001b[1;33m \u001b[0mprint\u001b[0m\u001b[1;33m(\u001b[0m\u001b[0ma_1\u001b[0m \u001b[1;33m*\u001b[0m \u001b[0ma_2\u001b[0m\u001b[1;33m)\u001b[0m\u001b[1;33m\u001b[0m\u001b[1;33m\u001b[0m\u001b[0m\n\u001b[0m",
      "\u001b[1;31mValueError\u001b[0m: operands could not be broadcast together with shapes (2,3) (3,2) "
     ]
    }
   ],
   "source": [
    "a_1 = np.array([[1,2,3], [4,5,6]])\n",
    "print(a_1)\n",
    "print('size =', a_1.size)\n",
    "print('shape =', a_1.shape)\n",
    "print()\n",
    "a_2 = np.array([[7,8], [9,10], [10,11]])\n",
    "print(a_2)\n",
    "print('size =', a_2.size)\n",
    "print('shape =', a_2.shape)\n",
    "print()\n",
    "\n",
    "print('Result')\n",
    "print(np.dot(a_1, a_2))\n",
    "print()\n",
    "\n",
    "print('Result2')\n",
    "print(a_1 * a_2)"
   ]
  },
  {
   "cell_type": "code",
   "execution_count": 249,
   "id": "c782f131",
   "metadata": {
    "ExecuteTime": {
     "end_time": "2021-11-03T13:48:19.512438Z",
     "start_time": "2021-11-03T13:48:19.488251Z"
    }
   },
   "outputs": [
    {
     "name": "stdout",
     "output_type": "stream",
     "text": [
      "[[1 2 3]\n",
      " [4 5 6]]\n",
      "size = 6\n",
      "shape = (2, 3)\n",
      "\n",
      "[[ 7  8]\n",
      " [ 9 10]\n",
      " [10 11]]\n",
      "size = 6\n",
      "shape = (3, 2)\n",
      "\n",
      "Result\n",
      "[[ 55  61]\n",
      " [133 148]]\n",
      "size = 4\n",
      "shape = (2, 2)\n",
      "\n",
      "[[2 2 2]\n",
      " [2 2 2]]\n",
      "size = 6\n",
      "shape = (2, 3)\n",
      "\n",
      "Result 3\n",
      "[[232 232 232]\n",
      " [562 562 562]]\n",
      "size = 6\n",
      "shape = (2, 3)\n",
      "\n",
      "\n"
     ]
    }
   ],
   "source": [
    "a_1 = np.array([[1,2,3], [4,5,6]])\n",
    "print(a_1)\n",
    "print('size =', a_1.size)\n",
    "print('shape =', a_1.shape)\n",
    "print()\n",
    "a_2 = np.array([[7,8], [9,10], [10,11]])\n",
    "print(a_2)\n",
    "print('size =', a_2.size)\n",
    "print('shape =', a_2.shape)\n",
    "print()\n",
    "\n",
    "print('Result')\n",
    "A = np.dot(a_1, a_2)\n",
    "print(A)\n",
    "print('size =', A.size)\n",
    "print('shape =', A.shape)\n",
    "print()\n",
    "\n",
    "a_3 = np.array([[2,2,2], [2,2,2]])\n",
    "print(a_3)\n",
    "print('size =', a_3.size)\n",
    "print('shape =', a_3.shape)\n",
    "print()\n",
    "\n",
    "print('Result 3')\n",
    "B = np.dot(A, a_3)\n",
    "print(B)\n",
    "print('size =', B.size)\n",
    "print('shape =', B.shape)\n",
    "print()\n",
    "print()"
   ]
  },
  {
   "cell_type": "code",
   "execution_count": 268,
   "id": "530a2e13",
   "metadata": {
    "ExecuteTime": {
     "end_time": "2021-11-03T14:00:29.597232Z",
     "start_time": "2021-11-03T14:00:29.576176Z"
    }
   },
   "outputs": [
    {
     "name": "stdout",
     "output_type": "stream",
     "text": [
      "[[1 2 3]\n",
      " [4 5 6]\n",
      " [7 8 9]]\n",
      "8\n",
      "[2 5]\n"
     ]
    }
   ],
   "source": [
    "data = np.array([[1,2,3], [4,5,6] , [7,8,9]])\n",
    "print(data)\n",
    "#          c0 c1 c2\n",
    "# r0 --> [[1 2 3]\n",
    "# r1 --> [4 5 6]\n",
    "# r2 --> [7 8 9]]\n",
    "\n",
    "print(data[2, 1])\n",
    "print(data[0:2, 1])"
   ]
  },
  {
   "cell_type": "code",
   "execution_count": 267,
   "id": "dcfbf6c1",
   "metadata": {
    "ExecuteTime": {
     "end_time": "2021-11-03T13:56:26.604798Z",
     "start_time": "2021-11-03T13:56:26.589416Z"
    }
   },
   "outputs": [
    {
     "data": {
      "text/plain": [
       "array([[[ 1,  2],\n",
       "        [ 2,  3],\n",
       "        [ 3,  4]],\n",
       "\n",
       "       [[ 4,  5],\n",
       "        [ 5,  6],\n",
       "        [ 6,  7]],\n",
       "\n",
       "       [[ 7,  8],\n",
       "        [ 8,  9],\n",
       "        [ 9, 10]]])"
      ]
     },
     "metadata": {},
     "output_type": "display_data"
    },
    {
     "name": "stdout",
     "output_type": "stream",
     "text": [
      "3\n",
      "(3, 3, 2)\n",
      "3\n"
     ]
    }
   ],
   "source": [
    "data = np.array([[[1,2],[2,3],[3,4]], [[4,5],[5,6],[6,7]] , [[7,8],[8,9],[9,10]]])\n",
    "display(data)\n",
    "print(data.ndim)\n",
    "print(data.shape)\n",
    "print(data[0, 1, 1]) # X, Y, Z\n",
    "\n",
    "# X = 0\n",
    "# [[ 1,  2],\n",
    "# [ 2,  3],\n",
    "# [ 3,  4]]\n",
    "\n",
    "# Y = 1\n",
    "# [ 2,  3]\n",
    "\n",
    "# Z = 1\n",
    "# 3"
   ]
  },
  {
   "cell_type": "code",
   "execution_count": 272,
   "id": "551f4d4b",
   "metadata": {
    "ExecuteTime": {
     "end_time": "2021-11-03T14:17:02.221865Z",
     "start_time": "2021-11-03T14:17:02.209819Z"
    }
   },
   "outputs": [
    {
     "name": "stdout",
     "output_type": "stream",
     "text": [
      "[[1 2 3]\n",
      " [4 5 6]\n",
      " [7 8 9]]\n",
      "\n",
      "[[1 4 7]\n",
      " [2 5 8]\n",
      " [3 6 9]]\n"
     ]
    }
   ],
   "source": [
    "print(data)\n",
    "print()\n",
    "print(data.T)"
   ]
  },
  {
   "cell_type": "code",
   "execution_count": 278,
   "id": "7618aa86",
   "metadata": {
    "ExecuteTime": {
     "end_time": "2021-11-03T14:19:45.887493Z",
     "start_time": "2021-11-03T14:19:45.874374Z"
    }
   },
   "outputs": [
    {
     "name": "stdout",
     "output_type": "stream",
     "text": [
      "[[  1   2   3]\n",
      " [  0  10 100]]\n",
      "shape =  (2, 3)\n",
      "\n",
      "[[  1   2]\n",
      " [  3   0]\n",
      " [ 10 100]]\n",
      "shape =  (3, 2)\n",
      "\n",
      "[[  1   0]\n",
      " [  2  10]\n",
      " [  3 100]]\n",
      "shape =  (3, 2)\n"
     ]
    }
   ],
   "source": [
    "data = np.array([[1,2,3],\n",
    "                 [0,10,100]])\n",
    "print(data)\n",
    "print('shape = ', data.shape)\n",
    "print()\n",
    "print(data.reshape(3,2))\n",
    "print('shape = ', data.reshape(3,2).shape)\n",
    "print()\n",
    "print(data.T)\n",
    "print('shape = ', data.T.shape)"
   ]
  },
  {
   "cell_type": "code",
   "execution_count": 293,
   "id": "809d5861",
   "metadata": {
    "ExecuteTime": {
     "end_time": "2021-11-03T14:26:22.264126Z",
     "start_time": "2021-11-03T14:26:22.247171Z"
    }
   },
   "outputs": [
    {
     "name": "stdout",
     "output_type": "stream",
     "text": [
      "[[[[1. 1. 1. 1.]\n",
      "   [1. 1. 1. 1.]]\n",
      "\n",
      "  [[1. 1. 1. 1.]\n",
      "   [1. 1. 1. 1.]]]\n",
      "\n",
      "\n",
      " [[[1. 1. 1. 1.]\n",
      "   [1. 1. 1. 1.]]\n",
      "\n",
      "  [[1. 1. 1. 1.]\n",
      "   [1. 1. 1. 1.]]]\n",
      "\n",
      "\n",
      " [[[1. 1. 1. 1.]\n",
      "   [1. 1. 1. 1.]]\n",
      "\n",
      "  [[1. 1. 1. 1.]\n",
      "   [1. 1. 1. 1.]]]]\n",
      "4\n",
      "(3, 2, 2, 4)\n",
      "1.0\n"
     ]
    }
   ],
   "source": [
    "data = np.ones((3, 2, 2, 4))\n",
    "print(data)\n",
    "print(np.ones((3, 2, 2, 4)).ndim)\n",
    "print(np.ones((3, 2, 2, 4)).shape)\n",
    "\n",
    "print(data[0, 1, 1, 1])"
   ]
  },
  {
   "cell_type": "code",
   "execution_count": 319,
   "id": "76208fb6",
   "metadata": {
    "ExecuteTime": {
     "end_time": "2021-11-03T14:30:31.488524Z",
     "start_time": "2021-11-03T14:30:31.479552Z"
    }
   },
   "outputs": [
    {
     "name": "stdout",
     "output_type": "stream",
     "text": [
      "[[[[0.47629429 0.30297454 0.50840885]\n",
      "   [0.50526103 0.80892036 0.04699076]]\n",
      "\n",
      "  [[0.10706811 0.8116543  0.91986259]\n",
      "   [0.4060995  0.66555062 0.52091666]]]\n",
      "\n",
      "\n",
      " [[[0.53923598 0.32959938 0.9187962 ]\n",
      "   [0.59813018 0.9379178  0.50414781]]\n",
      "\n",
      "  [[0.25131529 0.62663186 0.83694468]\n",
      "   [0.60978956 0.37934186 0.98060748]]]\n",
      "\n",
      "\n",
      " [[[0.56161392 0.91837322 0.71381688]\n",
      "   [0.22077519 0.87230871 0.33215531]]\n",
      "\n",
      "  [[0.60686431 0.70413628 0.0078707 ]\n",
      "   [0.05357255 0.01720735 0.90154233]]]]\n",
      "\n",
      "Flattened\n",
      "[0.47629429 0.30297454 0.50840885 0.50526103 0.80892036 0.04699076\n",
      " 0.10706811 0.8116543  0.91986259 0.4060995  0.66555062 0.52091666\n",
      " 0.53923598 0.32959938 0.9187962  0.59813018 0.9379178  0.50414781\n",
      " 0.25131529 0.62663186 0.83694468 0.60978956 0.37934186 0.98060748\n",
      " 0.56161392 0.91837322 0.71381688 0.22077519 0.87230871 0.33215531\n",
      " 0.60686431 0.70413628 0.0078707  0.05357255 0.01720735 0.90154233]\n",
      "0.4762942859217051\n"
     ]
    }
   ],
   "source": [
    "data = np.random.random((3, 2, 2, 3))\n",
    "print(data)\n",
    "print()\n",
    "print('Flattened')\n",
    "print(data.flatten())\n",
    "print(data.flatten()[0])"
   ]
  },
  {
   "cell_type": "markdown",
   "id": "dca6b1e8",
   "metadata": {},
   "source": [
    "## Title\n",
    "### Subtitle\n",
    "Halo nama saya:<br>\n",
    "Fachrul"
   ]
  },
  {
   "cell_type": "code",
   "execution_count": 321,
   "id": "6f5598f0",
   "metadata": {
    "ExecuteTime": {
     "end_time": "2021-11-03T14:33:37.042039Z",
     "start_time": "2021-11-03T14:33:37.028075Z"
    }
   },
   "outputs": [
    {
     "name": "stdout",
     "output_type": "stream",
     "text": [
      "25\n",
      "25\n"
     ]
    }
   ],
   "source": [
    "print(5**2)\n",
    "print(np.square(5))"
   ]
  },
  {
   "cell_type": "code",
   "execution_count": null,
   "id": "d73b6981",
   "metadata": {},
   "outputs": [],
   "source": [
    "# 1/n sigma i-n (Yi - Yi>)**\n",
    "1/n * np.sum(np.square(yi - yi>))"
   ]
  },
  {
   "cell_type": "code",
   "execution_count": null,
   "id": "6d9e389c",
   "metadata": {},
   "outputs": [],
   "source": []
  }
 ],
 "metadata": {
  "kernelspec": {
   "display_name": "Python 3",
   "language": "python",
   "name": "python3"
  },
  "language_info": {
   "codemirror_mode": {
    "name": "ipython",
    "version": 3
   },
   "file_extension": ".py",
   "mimetype": "text/x-python",
   "name": "python",
   "nbconvert_exporter": "python",
   "pygments_lexer": "ipython3",
   "version": "3.8.8"
  }
 },
 "nbformat": 4,
 "nbformat_minor": 5
}
