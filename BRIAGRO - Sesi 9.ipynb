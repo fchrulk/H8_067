{
 "cells": [
  {
   "cell_type": "code",
   "execution_count": 3,
   "id": "8f33a302",
   "metadata": {
    "ExecuteTime": {
     "end_time": "2021-11-24T12:50:37.687594Z",
     "start_time": "2021-11-24T12:50:37.667544Z"
    }
   },
   "outputs": [],
   "source": [
    "%matplotlib inline\n",
    "import pandas as pd\n",
    "import numpy as np\n",
    "import math\n",
    "import statistics\n",
    "import scipy.stats\n",
    "import matplotlib as mpl\n",
    "import matplotlib.pyplot as plt\n",
    "mpl.style.use('ggplot')\n",
    "pd.set_option('max_columns', None)"
   ]
  },
  {
   "cell_type": "code",
   "execution_count": 13,
   "id": "07e37903",
   "metadata": {
    "ExecuteTime": {
     "end_time": "2021-11-24T12:55:52.567068Z",
     "start_time": "2021-11-24T12:55:52.548806Z"
    }
   },
   "outputs": [
    {
     "data": {
      "text/plain": [
       "nan"
      ]
     },
     "metadata": {},
     "output_type": "display_data"
    },
    {
     "data": {
      "text/plain": [
       "nan"
      ]
     },
     "metadata": {},
     "output_type": "display_data"
    }
   ],
   "source": [
    "display(np.nan)\n",
    "display(math.nan)"
   ]
  },
  {
   "cell_type": "code",
   "execution_count": 14,
   "id": "83115108",
   "metadata": {
    "ExecuteTime": {
     "end_time": "2021-11-24T12:56:38.664901Z",
     "start_time": "2021-11-24T12:56:38.656970Z"
    }
   },
   "outputs": [
    {
     "data": {
      "text/plain": [
       "False"
      ]
     },
     "execution_count": 14,
     "metadata": {},
     "output_type": "execute_result"
    }
   ],
   "source": [
    "np.nan == math.nan"
   ]
  },
  {
   "cell_type": "code",
   "execution_count": 15,
   "id": "6d13588b",
   "metadata": {
    "ExecuteTime": {
     "end_time": "2021-11-24T12:56:57.781553Z",
     "start_time": "2021-11-24T12:56:57.768470Z"
    }
   },
   "outputs": [
    {
     "name": "stdout",
     "output_type": "stream",
     "text": [
      "[8, 1, 2.5, 4, 28]\n",
      "[8, 1, 2.5, nan, 4, 28]\n"
     ]
    }
   ],
   "source": [
    "x = [8, 1, 2.5, 4, 28]\n",
    "x_with_nan = [8, 1, 2.5, math.nan, 4, 28]\n",
    "print(x)\n",
    "print(x_with_nan)"
   ]
  },
  {
   "cell_type": "code",
   "execution_count": 19,
   "id": "76aef299",
   "metadata": {
    "ExecuteTime": {
     "end_time": "2021-11-24T13:00:39.370397Z",
     "start_time": "2021-11-24T13:00:39.353562Z"
    }
   },
   "outputs": [
    {
     "name": "stdout",
     "output_type": "stream",
     "text": [
      "y :\n",
      " [ 8.   1.   2.5  4.  28. ]\n",
      "\n",
      "y_with_nan :\n",
      " [ 8.   1.   2.5  nan  4.  28. ]\n",
      "\n",
      "z :\n",
      " 0     8.0\n",
      "1     1.0\n",
      "2     2.5\n",
      "3     4.0\n",
      "4    28.0\n",
      "dtype: float64\n",
      "\n",
      "z_with_nan :\n",
      " 0     8.0\n",
      "1     1.0\n",
      "2     2.5\n",
      "3     NaN\n",
      "4     4.0\n",
      "5    28.0\n",
      "dtype: float64\n",
      "\n"
     ]
    }
   ],
   "source": [
    "y, y_with_nan = np.array(x), np.array(x_with_nan)\n",
    "z, z_with_nan = pd.Series(x), pd.Series(x_with_nan)\n",
    "print('y :\\n',y)\n",
    "print()\n",
    "print('y_with_nan :\\n',y_with_nan)\n",
    "print()\n",
    "print('z :\\n',z)\n",
    "print()\n",
    "print('z_with_nan :\\n',z_with_nan)\n",
    "print()"
   ]
  },
  {
   "cell_type": "code",
   "execution_count": 21,
   "id": "bebb849d",
   "metadata": {
    "ExecuteTime": {
     "end_time": "2021-11-24T13:03:16.484934Z",
     "start_time": "2021-11-24T13:03:16.469601Z"
    }
   },
   "outputs": [
    {
     "name": "stdout",
     "output_type": "stream",
     "text": [
      "Mean = 8.7\n"
     ]
    }
   ],
   "source": [
    "mean_ = sum(x) / len(x)\n",
    "print('Mean =', mean_)"
   ]
  },
  {
   "cell_type": "code",
   "execution_count": 23,
   "id": "b020b5e0",
   "metadata": {
    "ExecuteTime": {
     "end_time": "2021-11-24T13:05:21.404553Z",
     "start_time": "2021-11-24T13:05:21.385778Z"
    }
   },
   "outputs": [
    {
     "name": "stdout",
     "output_type": "stream",
     "text": [
      "Mean = 8.7\n",
      "Mean = 8.7\n",
      "Mean is not available on `math` package!\n"
     ]
    }
   ],
   "source": [
    "print('Mean =', statistics.mean(x))\n",
    "print('Mean =', np.mean(x))\n",
    "try:\n",
    "    print('Mean =', math.mean(x))\n",
    "except:\n",
    "    print('Mean is not available on `math` package!')"
   ]
  },
  {
   "cell_type": "code",
   "execution_count": 24,
   "id": "85c34b59",
   "metadata": {
    "ExecuteTime": {
     "end_time": "2021-11-24T13:05:52.551959Z",
     "start_time": "2021-11-24T13:05:52.531722Z"
    }
   },
   "outputs": [
    {
     "name": "stdout",
     "output_type": "stream",
     "text": [
      "Mean = nan\n",
      "Mean = nan\n",
      "Mean is not available on `math` package!\n"
     ]
    }
   ],
   "source": [
    "print('Mean =', statistics.mean(x_with_nan))\n",
    "print('Mean =', np.mean(x_with_nan))\n",
    "try:\n",
    "    print('Mean =', math.mean(x_with_nan))\n",
    "except:\n",
    "    print('Mean is not available on `math` package!')"
   ]
  },
  {
   "cell_type": "code",
   "execution_count": 25,
   "id": "e185457e",
   "metadata": {
    "ExecuteTime": {
     "end_time": "2021-11-24T13:08:07.562103Z",
     "start_time": "2021-11-24T13:08:07.485854Z"
    }
   },
   "outputs": [
    {
     "data": {
      "text/plain": [
       "8.700000000000001"
      ]
     },
     "execution_count": 25,
     "metadata": {},
     "output_type": "execute_result"
    }
   ],
   "source": [
    "np.mean([8, 1, 2.5, 8.7, 4, 28])"
   ]
  },
  {
   "cell_type": "code",
   "execution_count": 26,
   "id": "4dc3247e",
   "metadata": {
    "ExecuteTime": {
     "end_time": "2021-11-24T13:08:48.436618Z",
     "start_time": "2021-11-24T13:08:48.422082Z"
    }
   },
   "outputs": [
    {
     "data": {
      "text/plain": [
       "8.7"
      ]
     },
     "execution_count": 26,
     "metadata": {},
     "output_type": "execute_result"
    }
   ],
   "source": [
    "np.nanmean(x_with_nan)"
   ]
  },
  {
   "cell_type": "code",
   "execution_count": 27,
   "id": "9c186de3",
   "metadata": {
    "ExecuteTime": {
     "end_time": "2021-11-24T13:10:09.544485Z",
     "start_time": "2021-11-24T13:10:09.530430Z"
    }
   },
   "outputs": [
    {
     "name": "stdout",
     "output_type": "stream",
     "text": [
      "Type data X: <class 'list'>\n",
      "Type data Y: <class 'numpy.ndarray'>\n",
      "Type data Z: <class 'pandas.core.series.Series'>\n"
     ]
    }
   ],
   "source": [
    "print('Type data X:', type(x))\n",
    "print('Type data Y:', type(y))\n",
    "print('Type data Z:', type(z))"
   ]
  },
  {
   "cell_type": "code",
   "execution_count": 28,
   "id": "4b97e947",
   "metadata": {
    "ExecuteTime": {
     "end_time": "2021-11-24T13:10:30.517023Z",
     "start_time": "2021-11-24T13:10:30.500618Z"
    }
   },
   "outputs": [
    {
     "data": {
      "text/plain": [
       "8.7"
      ]
     },
     "execution_count": 28,
     "metadata": {},
     "output_type": "execute_result"
    }
   ],
   "source": [
    "y.mean()"
   ]
  },
  {
   "cell_type": "code",
   "execution_count": 29,
   "id": "f94fa255",
   "metadata": {
    "ExecuteTime": {
     "end_time": "2021-11-24T13:10:44.512312Z",
     "start_time": "2021-11-24T13:10:44.497905Z"
    }
   },
   "outputs": [
    {
     "data": {
      "text/plain": [
       "8.7"
      ]
     },
     "execution_count": 29,
     "metadata": {},
     "output_type": "execute_result"
    }
   ],
   "source": [
    "z.mean()"
   ]
  },
  {
   "cell_type": "code",
   "execution_count": 30,
   "id": "f5773b1c",
   "metadata": {
    "ExecuteTime": {
     "end_time": "2021-11-24T13:11:18.698596Z",
     "start_time": "2021-11-24T13:11:18.679016Z"
    }
   },
   "outputs": [
    {
     "data": {
      "text/plain": [
       "8.7"
      ]
     },
     "execution_count": 30,
     "metadata": {},
     "output_type": "execute_result"
    }
   ],
   "source": [
    "np.mean(x)"
   ]
  },
  {
   "cell_type": "code",
   "execution_count": 34,
   "id": "eb35081f",
   "metadata": {
    "ExecuteTime": {
     "end_time": "2021-11-24T13:13:39.615076Z",
     "start_time": "2021-11-24T13:13:39.594760Z"
    }
   },
   "outputs": [
    {
     "data": {
      "text/plain": [
       "8.7"
      ]
     },
     "execution_count": 34,
     "metadata": {},
     "output_type": "execute_result"
    }
   ],
   "source": [
    "z_with_nan.mean()"
   ]
  },
  {
   "cell_type": "code",
   "execution_count": 35,
   "id": "7740ab5d",
   "metadata": {
    "ExecuteTime": {
     "end_time": "2021-11-24T13:14:45.699489Z",
     "start_time": "2021-11-24T13:14:45.677935Z"
    }
   },
   "outputs": [
    {
     "data": {
      "text/plain": [
       "nan"
      ]
     },
     "execution_count": 35,
     "metadata": {},
     "output_type": "execute_result"
    }
   ],
   "source": [
    "z_with_nan.mean()"
   ]
  },
  {
   "cell_type": "code",
   "execution_count": 36,
   "id": "859c52ab",
   "metadata": {
    "ExecuteTime": {
     "end_time": "2021-11-24T13:16:29.876931Z",
     "start_time": "2021-11-24T13:16:29.863576Z"
    }
   },
   "outputs": [
    {
     "data": {
      "text/plain": [
       "3.0"
      ]
     },
     "execution_count": 36,
     "metadata": {},
     "output_type": "execute_result"
    }
   ],
   "source": [
    "np.mean([1,2,3,4,5])"
   ]
  },
  {
   "cell_type": "code",
   "execution_count": 39,
   "id": "1f56b631",
   "metadata": {
    "ExecuteTime": {
     "end_time": "2021-11-24T13:17:03.784274Z",
     "start_time": "2021-11-24T13:17:03.771104Z"
    }
   },
   "outputs": [
    {
     "data": {
      "text/plain": [
       "3.5"
      ]
     },
     "execution_count": 39,
     "metadata": {},
     "output_type": "execute_result"
    }
   ],
   "source": [
    "np.mean([1,2,3,4,4,4,4,4,4,5])"
   ]
  },
  {
   "cell_type": "code",
   "execution_count": 40,
   "id": "50e0819e",
   "metadata": {
    "ExecuteTime": {
     "end_time": "2021-11-24T13:17:08.515020Z",
     "start_time": "2021-11-24T13:17:08.503147Z"
    }
   },
   "outputs": [
    {
     "data": {
      "text/plain": [
       "10"
      ]
     },
     "execution_count": 40,
     "metadata": {},
     "output_type": "execute_result"
    }
   ],
   "source": [
    "len([1,2,3,4,4,4,4,4,4,5])"
   ]
  },
  {
   "cell_type": "code",
   "execution_count": 59,
   "id": "d0be16fd",
   "metadata": {
    "ExecuteTime": {
     "end_time": "2021-11-24T13:28:30.401839Z",
     "start_time": "2021-11-24T13:28:30.388242Z"
    }
   },
   "outputs": [
    {
     "data": {
      "text/plain": [
       "3.5"
      ]
     },
     "execution_count": 59,
     "metadata": {},
     "output_type": "execute_result"
    }
   ],
   "source": [
    "sum([1*.1, 2*.1, 3*.1, 4*.6, 5*.1])"
   ]
  },
  {
   "cell_type": "code",
   "execution_count": 60,
   "id": "499fd357",
   "metadata": {
    "ExecuteTime": {
     "end_time": "2021-11-24T13:29:07.763414Z",
     "start_time": "2021-11-24T13:29:07.748304Z"
    }
   },
   "outputs": [
    {
     "name": "stdout",
     "output_type": "stream",
     "text": [
      "Actual values = [1, 2, 3, 4, 4, 4, 4, 4, 4, 5]\n",
      "Unique values = [1, 2, 3, 4, 5]\n",
      "Weight = [0.1, 0.1, 0.1, 0.6, 0.1]\n",
      "3.5\n"
     ]
    }
   ],
   "source": [
    "abc = [1,2,3,4,4,4,4,4,4,5]\n",
    "print('Actual values =', abc)\n",
    "abc_ = list(set([1,2,3,4,4,4,4,4,4,5]))\n",
    "print('Unique values =', abc_)\n",
    "weight = [.1,.1,.1,.6,.1]\n",
    "print('Weight =', weight)\n",
    "wmean = sum(weight[i] * abc_[i] for i in range(len(abc_)))\n",
    "print(wmean)"
   ]
  },
  {
   "cell_type": "code",
   "execution_count": 56,
   "id": "4ce65464",
   "metadata": {
    "ExecuteTime": {
     "end_time": "2021-11-24T13:27:01.799860Z",
     "start_time": "2021-11-24T13:27:01.780491Z"
    }
   },
   "outputs": [
    {
     "name": "stdout",
     "output_type": "stream",
     "text": [
      "1 * 0.1\n",
      "2 * 0.1\n",
      "3 * 0.1\n",
      "4 * 0.6\n",
      "5 * 0.1\n",
      "[0.1, 0.2, 0.30000000000000004, 2.4, 0.5]\n",
      "3.5\n"
     ]
    }
   ],
   "source": [
    "result = []\n",
    "for i in range(len(abc_)):\n",
    "    print('{} * {}'.format(abc_[i], weight[i]))\n",
    "    result.append(abc_[i] * weight[i])\n",
    "print(result)\n",
    "print(sum(result)/sum(weight))"
   ]
  },
  {
   "cell_type": "code",
   "execution_count": 61,
   "id": "90cb6e85",
   "metadata": {
    "ExecuteTime": {
     "end_time": "2021-11-24T13:30:42.808739Z",
     "start_time": "2021-11-24T13:30:42.790106Z"
    }
   },
   "outputs": [
    {
     "data": {
      "text/plain": [
       "3.5"
      ]
     },
     "execution_count": 61,
     "metadata": {},
     "output_type": "execute_result"
    }
   ],
   "source": [
    "np.average(abc_, weights=weight)"
   ]
  },
  {
   "cell_type": "code",
   "execution_count": 66,
   "id": "b5ccf444",
   "metadata": {
    "ExecuteTime": {
     "end_time": "2021-11-24T13:40:55.477544Z",
     "start_time": "2021-11-24T13:40:55.420575Z"
    }
   },
   "outputs": [
    {
     "name": "stdout",
     "output_type": "stream",
     "text": [
      "[2, 4, 6, 100]\n",
      "Arithmetic Mean = 28.0\n",
      "Harmonic Mean (Pure python) = 4.32\n",
      "Harmonic Mean using (statistics package) = 4.32\n",
      "Harmonic Mean using (scipy.stats package) = 4.32\n"
     ]
    }
   ],
   "source": [
    "X = [2, 4, 6, 100]\n",
    "print(X)\n",
    "print('Arithmetic Mean =', np.mean(X))\n",
    "hmean = len(X) / sum(1 / item for item in X)\n",
    "print('Harmonic Mean (Pure python) =', round(hmean, 2))\n",
    "print('Harmonic Mean using (statistics package) =', round(statistics.harmonic_mean(X), 2))\n",
    "print('Harmonic Mean using (scipy.stats package) =', round(scipy.stats.hmean(X), 2))"
   ]
  },
  {
   "cell_type": "code",
   "execution_count": 67,
   "id": "9e844caf",
   "metadata": {
    "ExecuteTime": {
     "end_time": "2021-11-24T13:45:20.126004Z",
     "start_time": "2021-11-24T13:45:20.113356Z"
    }
   },
   "outputs": [
    {
     "name": "stdout",
     "output_type": "stream",
     "text": [
      "[2, 4, 6, 100]\n",
      "Arithmetic Mean = 28.0\n",
      "Harmonic Mean = 4.32\n",
      "Geo Mean = 8.32\n"
     ]
    }
   ],
   "source": [
    "X = [2, 4, 6, 100]\n",
    "print(X)\n",
    "print('Arithmetic Mean =', np.mean(X))\n",
    "hmean = len(X) / sum(1 / item for item in X)\n",
    "print('Harmonic Mean =', round(scipy.stats.hmean(X), 2))\n",
    "print('Geo Mean =', round(scipy.stats.gmean(X), 2))"
   ]
  },
  {
   "cell_type": "code",
   "execution_count": 76,
   "id": "352df1b0",
   "metadata": {
    "ExecuteTime": {
     "end_time": "2021-11-24T13:48:46.058733Z",
     "start_time": "2021-11-24T13:48:46.047382Z"
    }
   },
   "outputs": [
    {
     "data": {
      "text/plain": [
       "8.323582900575634"
      ]
     },
     "execution_count": 76,
     "metadata": {},
     "output_type": "execute_result"
    }
   ],
   "source": [
    "gmean"
   ]
  },
  {
   "cell_type": "code",
   "execution_count": null,
   "id": "1b7035ea",
   "metadata": {},
   "outputs": [],
   "source": []
  },
  {
   "cell_type": "code",
   "execution_count": 80,
   "id": "12040157",
   "metadata": {
    "ExecuteTime": {
     "end_time": "2021-11-24T13:52:12.788913Z",
     "start_time": "2021-11-24T13:52:12.776487Z"
    }
   },
   "outputs": [
    {
     "name": "stdout",
     "output_type": "stream",
     "text": [
      "1 2\n",
      "2 4\n",
      "8 6\n",
      "48 100\n",
      "4800\n",
      "8.323582900575634\n"
     ]
    }
   ],
   "source": [
    "gmean = 1\n",
    "for item in X:\n",
    "    print(gmean, item)\n",
    "    gmean *= item\n",
    "print(gmean)\n",
    "\n",
    "gmean **= 1 / len(X)\n",
    "print(gmean)"
   ]
  },
  {
   "cell_type": "code",
   "execution_count": 94,
   "id": "7c4d58ae",
   "metadata": {
    "ExecuteTime": {
     "end_time": "2021-11-24T13:55:15.420589Z",
     "start_time": "2021-11-24T13:55:15.409996Z"
    }
   },
   "outputs": [
    {
     "name": "stdout",
     "output_type": "stream",
     "text": [
      "2 ** 2 = 4\n",
      "2 ** 3 = 8\n",
      "\n",
      "4 sqrt 2 = 2.0\n",
      "8 sqrt 3 = 2.0\n"
     ]
    }
   ],
   "source": [
    "print('2 ** 2 =',2 ** 2)\n",
    "print('2 ** 3 =',2 ** 3)\n",
    "print()\n",
    "print('4 sqrt 2 =',4 ** 1/2)\n",
    "print('8 sqrt 3 =',8 ** 1/4)"
   ]
  },
  {
   "cell_type": "code",
   "execution_count": 96,
   "id": "d16172eb",
   "metadata": {
    "ExecuteTime": {
     "end_time": "2021-11-24T13:56:58.207079Z",
     "start_time": "2021-11-24T13:56:58.192170Z"
    }
   },
   "outputs": [
    {
     "data": {
      "text/plain": [
       "[8, 1, 2.5, 4, 28]"
      ]
     },
     "execution_count": 96,
     "metadata": {},
     "output_type": "execute_result"
    }
   ],
   "source": [
    "x"
   ]
  },
  {
   "cell_type": "code",
   "execution_count": 98,
   "id": "e6a2b15c",
   "metadata": {
    "ExecuteTime": {
     "end_time": "2021-11-24T13:57:53.691985Z",
     "start_time": "2021-11-24T13:57:53.683461Z"
    }
   },
   "outputs": [
    {
     "data": {
      "text/plain": [
       "[1, 2.5, 4, 8, 28]"
      ]
     },
     "execution_count": 98,
     "metadata": {},
     "output_type": "execute_result"
    }
   ],
   "source": [
    "sorted(x)"
   ]
  },
  {
   "cell_type": "code",
   "execution_count": 108,
   "id": "a030a683",
   "metadata": {
    "ExecuteTime": {
     "end_time": "2021-11-24T14:03:18.482671Z",
     "start_time": "2021-11-24T14:03:18.471796Z"
    }
   },
   "outputs": [
    {
     "name": "stdout",
     "output_type": "stream",
     "text": [
      "x_sorted =  [1, 2.5, 4, 8, 28, 58]\n",
      "index 3\n",
      "6.0\n"
     ]
    }
   ],
   "source": [
    "x = [1, 2.5, 4, 8, 28, 58]\n",
    "n = len(x)\n",
    "if n % 2:\n",
    "    median_ = sorted(x)[round(.5*(n-1))]\n",
    "else:\n",
    "    x_sorted, index = sorted(x), round(.5 * n)\n",
    "    print('x_sorted = ', sorted(x))\n",
    "    print('index', round(.5 * n))\n",
    "    median_ = .5 * (x_sorted[index-1] + x_sorted[index])\n",
    "    \n",
    "print(median_)"
   ]
  },
  {
   "cell_type": "code",
   "execution_count": 107,
   "id": "e31d4e7c",
   "metadata": {
    "ExecuteTime": {
     "end_time": "2021-11-24T14:03:10.224357Z",
     "start_time": "2021-11-24T14:03:10.208685Z"
    }
   },
   "outputs": [
    {
     "data": {
      "text/plain": [
       "(4, 8)"
      ]
     },
     "execution_count": 107,
     "metadata": {},
     "output_type": "execute_result"
    }
   ],
   "source": [
    "x_sorted[index-1], x_sorted[index]"
   ]
  },
  {
   "cell_type": "code",
   "execution_count": 109,
   "id": "88f02434",
   "metadata": {
    "ExecuteTime": {
     "end_time": "2021-11-24T14:03:50.716051Z",
     "start_time": "2021-11-24T14:03:50.642768Z"
    }
   },
   "outputs": [
    {
     "data": {
      "text/plain": [
       "6.0"
      ]
     },
     "execution_count": 109,
     "metadata": {},
     "output_type": "execute_result"
    }
   ],
   "source": [
    "np.median(x)"
   ]
  },
  {
   "cell_type": "code",
   "execution_count": 111,
   "id": "c1420fea",
   "metadata": {
    "ExecuteTime": {
     "end_time": "2021-11-24T14:24:35.307685Z",
     "start_time": "2021-11-24T14:24:35.291189Z"
    }
   },
   "outputs": [
    {
     "data": {
      "text/plain": [
       "57.0"
      ]
     },
     "execution_count": 111,
     "metadata": {},
     "output_type": "execute_result"
    }
   ],
   "source": [
    "np.ptp(x)"
   ]
  },
  {
   "cell_type": "code",
   "execution_count": 114,
   "id": "1844fc90",
   "metadata": {
    "ExecuteTime": {
     "end_time": "2021-11-24T14:27:25.267700Z",
     "start_time": "2021-11-24T14:27:25.245674Z"
    }
   },
   "outputs": [
    {
     "name": "stdout",
     "output_type": "stream",
     "text": [
      "[ 8.   1.   2.5  4.  28. ]\n"
     ]
    },
    {
     "data": {
      "text/plain": [
       "DescribeResult(nobs=5, minmax=(1.0, 28.0), mean=8.7, variance=123.19999999999999, skewness=1.9470432273905927, kurtosis=3.878019618875446)"
      ]
     },
     "execution_count": 114,
     "metadata": {},
     "output_type": "execute_result"
    }
   ],
   "source": [
    "print(y)\n",
    "result = scipy.stats.describe(y, ddof=1, bias=False)\n",
    "result"
   ]
  },
  {
   "cell_type": "code",
   "execution_count": 118,
   "id": "71ab02d5",
   "metadata": {
    "ExecuteTime": {
     "end_time": "2021-11-24T14:28:13.789286Z",
     "start_time": "2021-11-24T14:28:13.775844Z"
    }
   },
   "outputs": [
    {
     "data": {
      "text/plain": [
       "0     8.0\n",
       "1     1.0\n",
       "2     2.5\n",
       "3     4.0\n",
       "4    28.0\n",
       "dtype: float64"
      ]
     },
     "execution_count": 118,
     "metadata": {},
     "output_type": "execute_result"
    }
   ],
   "source": [
    "z"
   ]
  },
  {
   "cell_type": "code",
   "execution_count": 120,
   "id": "e52f6e04",
   "metadata": {
    "ExecuteTime": {
     "end_time": "2021-11-24T14:28:30.881859Z",
     "start_time": "2021-11-24T14:28:30.857385Z"
    }
   },
   "outputs": [
    {
     "data": {
      "text/plain": [
       "count     5.00000\n",
       "mean      8.70000\n",
       "std      11.09955\n",
       "min       1.00000\n",
       "25%       2.50000\n",
       "50%       4.00000\n",
       "75%       8.00000\n",
       "max      28.00000\n",
       "dtype: float64"
      ]
     },
     "execution_count": 120,
     "metadata": {},
     "output_type": "execute_result"
    }
   ],
   "source": [
    "R = z.describe()\n",
    "R"
   ]
  },
  {
   "cell_type": "code",
   "execution_count": 122,
   "id": "32241901",
   "metadata": {
    "ExecuteTime": {
     "end_time": "2021-11-24T14:28:40.488596Z",
     "start_time": "2021-11-24T14:28:40.469119Z"
    }
   },
   "outputs": [
    {
     "data": {
      "text/plain": [
       "5.0"
      ]
     },
     "execution_count": 122,
     "metadata": {},
     "output_type": "execute_result"
    }
   ],
   "source": [
    "R['count']"
   ]
  },
  {
   "cell_type": "code",
   "execution_count": 123,
   "id": "6899fc1e",
   "metadata": {
    "ExecuteTime": {
     "end_time": "2021-11-24T14:32:04.540000Z",
     "start_time": "2021-11-24T14:32:04.533986Z"
    }
   },
   "outputs": [],
   "source": [
    "x = list(range(-10, 11))\n",
    "y = [0, 2, 2, 2, 2, 3, 3, 6, 7, 4, 7, 6, 6, 9, 4, 5, 5, 10, 11, 12, 14]\n",
    "x_, y_ = np.array(x), np.array(y)\n",
    "x__, y__ = pd.Series(x_), pd.Series(y_)"
   ]
  },
  {
   "cell_type": "code",
   "execution_count": 125,
   "id": "11def3bd",
   "metadata": {
    "ExecuteTime": {
     "end_time": "2021-11-24T14:35:14.508682Z",
     "start_time": "2021-11-24T14:35:14.486736Z"
    }
   },
   "outputs": [
    {
     "name": "stdout",
     "output_type": "stream",
     "text": [
      "399.0\n",
      "19.95\n"
     ]
    }
   ],
   "source": [
    "n = len(x)\n",
    "mean_x, mean_y = sum(x) / n, sum(y) / n\n",
    "cov_xy = (sum((x[k] - mean_x) * (y[k] - mean_y) for k in range(n)))\n",
    "print(cov_xy)\n",
    "cov_xy = cov_xy / (n-1)\n",
    "print(cov_xy)"
   ]
  },
  {
   "cell_type": "code",
   "execution_count": 126,
   "id": "bc68b34e",
   "metadata": {
    "ExecuteTime": {
     "end_time": "2021-11-24T14:35:39.014050Z",
     "start_time": "2021-11-24T14:35:38.989064Z"
    }
   },
   "outputs": [
    {
     "data": {
      "text/plain": [
       "array([[1.        , 0.86195001],\n",
       "       [0.86195001, 1.        ]])"
      ]
     },
     "execution_count": 126,
     "metadata": {},
     "output_type": "execute_result"
    }
   ],
   "source": [
    "np.corrcoef(x, y)"
   ]
  },
  {
   "cell_type": "code",
   "execution_count": null,
   "id": "fd5eb64f",
   "metadata": {},
   "outputs": [],
   "source": [
    "    X          Y  \n",
    "X [1.        , 0.86195001]\n",
    "Y [0.86195001, 1.        ]"
   ]
  },
  {
   "cell_type": "code",
   "execution_count": 127,
   "id": "4d065d6b",
   "metadata": {
    "ExecuteTime": {
     "end_time": "2021-11-24T14:39:16.480430Z",
     "start_time": "2021-11-24T14:39:16.386834Z"
    }
   },
   "outputs": [
    {
     "data": {
      "text/plain": [
       "(0.8619500056316061, 5.122760847201135e-07)"
      ]
     },
     "execution_count": 127,
     "metadata": {},
     "output_type": "execute_result"
    }
   ],
   "source": [
    "scipy.stats.pearsonr(x, y)"
   ]
  },
  {
   "cell_type": "code",
   "execution_count": 130,
   "id": "b9a55254",
   "metadata": {
    "ExecuteTime": {
     "end_time": "2021-11-24T14:40:58.541917Z",
     "start_time": "2021-11-24T14:40:58.532344Z"
    }
   },
   "outputs": [
    {
     "data": {
      "text/plain": [
       "0.8619500056316061"
      ]
     },
     "execution_count": 130,
     "metadata": {},
     "output_type": "execute_result"
    }
   ],
   "source": [
    "x__.corr(y__)"
   ]
  },
  {
   "cell_type": "code",
   "execution_count": 132,
   "id": "ed421dc9",
   "metadata": {
    "ExecuteTime": {
     "end_time": "2021-11-24T14:43:20.926657Z",
     "start_time": "2021-11-24T14:43:20.907052Z"
    }
   },
   "outputs": [
    {
     "data": {
      "text/plain": [
       "array([[ 1,  1,  1],\n",
       "       [ 2,  3,  1],\n",
       "       [ 4,  9,  2],\n",
       "       [ 8, 27,  4],\n",
       "       [16,  1,  1]])"
      ]
     },
     "metadata": {},
     "output_type": "display_data"
    },
    {
     "name": "stdout",
     "output_type": "stream",
     "text": [
      "\n",
      "Mean\n",
      "5.4\n",
      "Median\n",
      "2.0\n",
      "Variance\n",
      "53.40000000000001\n"
     ]
    }
   ],
   "source": [
    "a = np.array([[1, 1, 1],\n",
    "              [2, 3, 1],\n",
    "              [4, 9, 2],\n",
    "              [8, 27, 4],\n",
    "              [16, 1, 1]])\n",
    "display(a)\n",
    "print()\n",
    "print('Mean')\n",
    "print(np.mean(a))\n",
    "print('Median')\n",
    "print(np.median(a))\n",
    "print('Variance')\n",
    "print(a.var(ddof=1))"
   ]
  },
  {
   "cell_type": "code",
   "execution_count": 133,
   "id": "2ad90c30",
   "metadata": {
    "ExecuteTime": {
     "end_time": "2021-11-24T14:44:19.286041Z",
     "start_time": "2021-11-24T14:44:19.271152Z"
    }
   },
   "outputs": [
    {
     "data": {
      "text/plain": [
       "DescribeResult(nobs=5, minmax=(array([1, 1, 1]), array([16, 27,  4])), mean=array([6.2, 8.2, 1.8]), variance=array([ 37.2, 121.2,   1.7]), skewness=array([0.88904813, 1.20619849, 1.15004934]), kurtosis=array([-0.67405914, -0.2125772 , -0.33391003]))"
      ]
     },
     "execution_count": 133,
     "metadata": {},
     "output_type": "execute_result"
    }
   ],
   "source": [
    "scipy.stats.describe(a)"
   ]
  },
  {
   "cell_type": "code",
   "execution_count": 134,
   "id": "0a0ea38e",
   "metadata": {
    "ExecuteTime": {
     "end_time": "2021-11-24T14:44:53.442955Z",
     "start_time": "2021-11-24T14:44:53.424319Z"
    }
   },
   "outputs": [
    {
     "data": {
      "text/plain": [
       "DescribeResult(nobs=3, minmax=(array([1, 1, 2, 4, 1]), array([ 1,  3,  9, 27, 16])), mean=array([ 1.,  2.,  5., 13.,  6.]), variance=array([  0.,   1.,  13., 151.,  75.]), skewness=array([0.        , 0.        , 0.47033046, 0.62375209, 0.70710678]), kurtosis=array([-3. , -1.5, -1.5, -1.5, -1.5]))"
      ]
     },
     "execution_count": 134,
     "metadata": {},
     "output_type": "execute_result"
    }
   ],
   "source": [
    "scipy.stats.describe(a, axis=1)"
   ]
  },
  {
   "cell_type": "code",
   "execution_count": 136,
   "id": "b792f5fa",
   "metadata": {
    "ExecuteTime": {
     "end_time": "2021-11-24T14:50:22.081005Z",
     "start_time": "2021-11-24T14:50:22.062414Z"
    }
   },
   "outputs": [],
   "source": [
    "result = scipy.stats.linregress(x, y)"
   ]
  },
  {
   "cell_type": "code",
   "execution_count": 138,
   "id": "5d369e68",
   "metadata": {
    "ExecuteTime": {
     "end_time": "2021-11-24T14:50:26.885455Z",
     "start_time": "2021-11-24T14:50:26.872830Z"
    }
   },
   "outputs": [
    {
     "data": {
      "text/plain": [
       "5"
      ]
     },
     "execution_count": 138,
     "metadata": {},
     "output_type": "execute_result"
    }
   ],
   "source": [
    "len(result)"
   ]
  },
  {
   "cell_type": "code",
   "execution_count": 139,
   "id": "bef84127",
   "metadata": {
    "ExecuteTime": {
     "end_time": "2021-11-24T14:50:48.076440Z",
     "start_time": "2021-11-24T14:50:48.063476Z"
    }
   },
   "outputs": [
    {
     "data": {
      "text/plain": [
       "LinregressResult(slope=0.5181818181818181, intercept=5.714285714285714, rvalue=0.861950005631606, pvalue=5.122760847201164e-07, stderr=0.06992387660074979, intercept_stderr=0.4234100995002589)"
      ]
     },
     "execution_count": 139,
     "metadata": {},
     "output_type": "execute_result"
    }
   ],
   "source": [
    "result"
   ]
  }
 ],
 "metadata": {
  "kernelspec": {
   "display_name": "Python 3",
   "language": "python",
   "name": "python3"
  },
  "language_info": {
   "codemirror_mode": {
    "name": "ipython",
    "version": 3
   },
   "file_extension": ".py",
   "mimetype": "text/x-python",
   "name": "python",
   "nbconvert_exporter": "python",
   "pygments_lexer": "ipython3",
   "version": "3.8.8"
  }
 },
 "nbformat": 4,
 "nbformat_minor": 5
}
